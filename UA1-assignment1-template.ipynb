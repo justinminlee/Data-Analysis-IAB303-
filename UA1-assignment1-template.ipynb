{
 "cells": [
  {
   "cell_type": "markdown",
   "metadata": {},
   "source": [
    "## IAB303 - Assignment 1 - Foundational Techniques\n",
    "\n",
    "#### INSTRUCTIONS\n",
    "\n",
    "1. Complete the section below with your personal details (and run the cell)\n",
    "2. For each question, implement the full **QDAVI** data analytics cycle for the provided business concern. Ensure that you complete the cycle by addressing the question with your insights.\n",
    "3. Ensure that you identify meaningful questions that clearly address each business concern.\n",
    "4. Ensure that you use markdown cells to document your thinking and decision making for each stage of the process. Be clear on how your decisions are working towards addressing the question.\n",
    "5. Ensure that your code runs without errors, and that your results are appropriate for the question.\n",
    "\n",
    "**IMPORTANT:** ONLY SUBMIT YOUR BEST DATA ANALYTICS CYCLE FOR EACH ASSIGNMENT QUESTION. \n",
    "You are likely to need to do multiple data analytics cycles while exploring the data and working out the best insights. You could make a copy of this template to do exploratory analysis. Once you have found convincing insights for each business concern, you should select the best and submit 1 cycle for each business concern (Assignment Question)."
   ]
  },
  {
   "cell_type": "code",
   "execution_count": 42,
   "metadata": {},
   "outputs": [
    {
     "data": {
      "text/html": [
       "<h1>Minjae Lee (n11198885)</h1>"
      ],
      "text/plain": [
       "<IPython.core.display.HTML object>"
      ]
     },
     "metadata": {},
     "output_type": "display_data"
    }
   ],
   "source": [
    "# Complete the following cell with your details and run to produce your personalised header for this assignment\n",
    "\n",
    "from IPython.display import display, HTML\n",
    "\n",
    "first_name = 'Minjae'\n",
    "last_name = 'Lee'\n",
    "student_number = 'n11198885'\n",
    "\n",
    "personal_header = \"<h1>\"+first_name+\" \"+last_name+\" (\"+student_number+\")</h1>\"\n",
    "display(HTML(personal_header))"
   ]
  },
  {
   "cell_type": "markdown",
   "metadata": {},
   "source": [
    "---\n",
    "## Question 1 - Internal Concern\n",
    "\n",
    "Your business is a boutique coffee roastery, and you sell a range of products to cafes and restaurants around Brisbane City. In order to plan how to grow your business, you have decided to analyse your last year of sales data. You would like to know what the sales data tells you about (a) the areas you sell to, (b) the products you are selling, and (c) what you should consider changing to grow your business.\n",
    "\n",
    "#### Data:\n",
    "Sales data is provided in the file: `coffee_sales.csv`"
   ]
  },
  {
   "cell_type": "code",
   "execution_count": 43,
   "metadata": {},
   "outputs": [],
   "source": [
    "# import libraries that you need here\n",
    "\n",
    "import pandas as pd\n",
    "import plotly.express as px\n",
    "from datetime import datetime"
   ]
  },
  {
   "cell_type": "markdown",
   "metadata": {},
   "source": [
    "### 1. Question"
   ]
  },
  {
   "cell_type": "markdown",
   "metadata": {},
   "source": [
    "*Write your question and interpretation of the business concern here*\n",
    "\n",
    "### 1. How can we assess sales performance variations across different regions within Brisbane City based on our available sales data?\n",
    "\n",
    "-To identify areas that are currently performing well and those that may require more attention, aiding us in resource allocation and tailoring our business approach for maximum effectiveness.\n",
    "\n",
    "-By dissecting the sales data by region, we aim to pinpoint which areas emerged as high-performing hubs and which may have lagged behind. Because I think this information is invaluable as it helps us strategically allocate resources and tailor our business approach to maximize our presence and potential in thriving regions while addressing challenges in underperforming areas.\n",
    "\n",
    "\n",
    "### 2. Did sales show any seasonal patterns in specific areas, and what might have caused these patterns?\n",
    "\n",
    "-To plan season-specific marketing or inventory strategies.\n",
    "\n",
    "-By dissecting seasonal variations, we aim to discern whether certain regions experienced spikes in demand during specific times of the year. Understanding these trends enables us to fine-tune our marketing strategies and inventory management, ensuring that we are well-prepared to meet the unique demands of each region during different seasons."
   ]
  },
  {
   "cell_type": "markdown",
   "metadata": {},
   "source": [
    "### 2. Data"
   ]
  },
  {
   "cell_type": "code",
   "execution_count": 44,
   "metadata": {},
   "outputs": [],
   "source": [
    "# Load data\n",
    "coffee_df = pd.read_csv('data/coffee_sales.csv')\n",
    "\n",
    "# Clean/prepare the data for analysis.\n"
   ]
  },
  {
   "cell_type": "markdown",
   "metadata": {},
   "source": [
    "#### To begin the data analysis process, I first conducted an evaluation of the data types within the dataset. Upon careful observation, it became apparent that the \"Date\" column exclusively featured day and month information, with the month entries being represented as text strings."
   ]
  },
  {
   "cell_type": "code",
   "execution_count": 45,
   "metadata": {
    "tags": []
   },
   "outputs": [
    {
     "data": {
      "text/plain": [
       "Date        object\n",
       "Zone        object\n",
       "Area        object\n",
       "Range       object\n",
       "Product     object\n",
       "Qty          int64\n",
       "Price      float64\n",
       "dtype: object"
      ]
     },
     "execution_count": 45,
     "metadata": {},
     "output_type": "execute_result"
    }
   ],
   "source": [
    "coffee_df.dtypes"
   ]
  },
  {
   "cell_type": "markdown",
   "metadata": {},
   "source": [
    "#### I checked and it was object type, with So I decided to change it to the datetime format"
   ]
  },
  {
   "cell_type": "code",
   "execution_count": 46,
   "metadata": {
    "tags": []
   },
   "outputs": [
    {
     "data": {
      "text/plain": [
       "Date       datetime64[ns]\n",
       "Zone               object\n",
       "Area               object\n",
       "Range              object\n",
       "Product            object\n",
       "Qty                 int64\n",
       "Price             float64\n",
       "dtype: object"
      ]
     },
     "execution_count": 46,
     "metadata": {},
     "output_type": "execute_result"
    }
   ],
   "source": [
    "# This will be using for changing month(string) to numeric value\n",
    "month_dict = {\n",
    "    'Jan': '01', 'Feb': '02', 'Mar': '03', 'Apr': '04',\n",
    "    'May': '05', 'Jun': '06', 'Jul': '07', 'Aug': '08',\n",
    "    'Sep': '09', 'Oct': '10', 'Nov': '11', 'Dec': '12'\n",
    "}\n",
    "\n",
    "# Extract day and month, and concatenate with a last year \n",
    "coffee_df['Date'] = pd.to_datetime(coffee_df['Date'].str.split('-').apply(lambda x: f'2022-{month_dict[x[1]]}-{x[0]}'), format='%Y-%m-%d')\n",
    "\n",
    "# Check the data type of the 'Date' column again to see if I changed it correctly\n",
    "coffee_df.dtypes"
   ]
  },
  {
   "cell_type": "markdown",
   "metadata": {},
   "source": [
    "#### See the dataframe to double check"
   ]
  },
  {
   "cell_type": "code",
   "execution_count": 47,
   "metadata": {
    "tags": []
   },
   "outputs": [
    {
     "data": {
      "text/html": [
       "<div>\n",
       "<style scoped>\n",
       "    .dataframe tbody tr th:only-of-type {\n",
       "        vertical-align: middle;\n",
       "    }\n",
       "\n",
       "    .dataframe tbody tr th {\n",
       "        vertical-align: top;\n",
       "    }\n",
       "\n",
       "    .dataframe thead th {\n",
       "        text-align: right;\n",
       "    }\n",
       "</style>\n",
       "<table border=\"1\" class=\"dataframe\">\n",
       "  <thead>\n",
       "    <tr style=\"text-align: right;\">\n",
       "      <th></th>\n",
       "      <th>Date</th>\n",
       "      <th>Zone</th>\n",
       "      <th>Area</th>\n",
       "      <th>Range</th>\n",
       "      <th>Product</th>\n",
       "      <th>Qty</th>\n",
       "      <th>Price</th>\n",
       "    </tr>\n",
       "  </thead>\n",
       "  <tbody>\n",
       "    <tr>\n",
       "      <th>0</th>\n",
       "      <td>2022-07-12</td>\n",
       "      <td>Northside</td>\n",
       "      <td>Fortitude Valley</td>\n",
       "      <td>Premium</td>\n",
       "      <td>2kg Single Origin Select</td>\n",
       "      <td>42</td>\n",
       "      <td>34.9</td>\n",
       "    </tr>\n",
       "    <tr>\n",
       "      <th>1</th>\n",
       "      <td>2022-12-15</td>\n",
       "      <td>Northside</td>\n",
       "      <td>Fortitude Valley</td>\n",
       "      <td>Premium</td>\n",
       "      <td>2kg Single Origin Select</td>\n",
       "      <td>41</td>\n",
       "      <td>34.9</td>\n",
       "    </tr>\n",
       "    <tr>\n",
       "      <th>2</th>\n",
       "      <td>2022-06-18</td>\n",
       "      <td>Northside</td>\n",
       "      <td>Fortitude Valley</td>\n",
       "      <td>Premium</td>\n",
       "      <td>2kg Single Origin Select</td>\n",
       "      <td>38</td>\n",
       "      <td>34.9</td>\n",
       "    </tr>\n",
       "    <tr>\n",
       "      <th>3</th>\n",
       "      <td>2022-10-04</td>\n",
       "      <td>Northside</td>\n",
       "      <td>Fortitude Valley</td>\n",
       "      <td>Premium</td>\n",
       "      <td>2kg Single Origin Select</td>\n",
       "      <td>38</td>\n",
       "      <td>34.9</td>\n",
       "    </tr>\n",
       "    <tr>\n",
       "      <th>4</th>\n",
       "      <td>2022-05-31</td>\n",
       "      <td>Northside</td>\n",
       "      <td>Fortitude Valley</td>\n",
       "      <td>Premium</td>\n",
       "      <td>2kg Single Origin Select</td>\n",
       "      <td>33</td>\n",
       "      <td>34.9</td>\n",
       "    </tr>\n",
       "    <tr>\n",
       "      <th>...</th>\n",
       "      <td>...</td>\n",
       "      <td>...</td>\n",
       "      <td>...</td>\n",
       "      <td>...</td>\n",
       "      <td>...</td>\n",
       "      <td>...</td>\n",
       "      <td>...</td>\n",
       "    </tr>\n",
       "    <tr>\n",
       "      <th>239</th>\n",
       "      <td>2022-12-21</td>\n",
       "      <td>Southside</td>\n",
       "      <td>Southbank</td>\n",
       "      <td>Standard</td>\n",
       "      <td>2kg Everyday Blend</td>\n",
       "      <td>29</td>\n",
       "      <td>16.8</td>\n",
       "    </tr>\n",
       "    <tr>\n",
       "      <th>240</th>\n",
       "      <td>2022-04-13</td>\n",
       "      <td>Southside</td>\n",
       "      <td>West End</td>\n",
       "      <td>Standard</td>\n",
       "      <td>2kg Everyday Blend</td>\n",
       "      <td>28</td>\n",
       "      <td>16.8</td>\n",
       "    </tr>\n",
       "    <tr>\n",
       "      <th>241</th>\n",
       "      <td>2022-06-24</td>\n",
       "      <td>Southside</td>\n",
       "      <td>Southbank</td>\n",
       "      <td>Standard</td>\n",
       "      <td>2kg Everyday Blend</td>\n",
       "      <td>28</td>\n",
       "      <td>16.8</td>\n",
       "    </tr>\n",
       "    <tr>\n",
       "      <th>242</th>\n",
       "      <td>2022-01-28</td>\n",
       "      <td>Northside</td>\n",
       "      <td>CBD</td>\n",
       "      <td>Standard</td>\n",
       "      <td>2kg Everyday Blend</td>\n",
       "      <td>28</td>\n",
       "      <td>13.5</td>\n",
       "    </tr>\n",
       "    <tr>\n",
       "      <th>243</th>\n",
       "      <td>2022-02-15</td>\n",
       "      <td>Northside</td>\n",
       "      <td>CBD</td>\n",
       "      <td>Standard</td>\n",
       "      <td>2kg Everyday Blend</td>\n",
       "      <td>27</td>\n",
       "      <td>13.5</td>\n",
       "    </tr>\n",
       "  </tbody>\n",
       "</table>\n",
       "<p>244 rows × 7 columns</p>\n",
       "</div>"
      ],
      "text/plain": [
       "          Date       Zone              Area     Range  \\\n",
       "0   2022-07-12  Northside  Fortitude Valley   Premium   \n",
       "1   2022-12-15  Northside  Fortitude Valley   Premium   \n",
       "2   2022-06-18  Northside  Fortitude Valley   Premium   \n",
       "3   2022-10-04  Northside  Fortitude Valley   Premium   \n",
       "4   2022-05-31  Northside  Fortitude Valley   Premium   \n",
       "..         ...        ...               ...       ...   \n",
       "239 2022-12-21  Southside         Southbank  Standard   \n",
       "240 2022-04-13  Southside          West End  Standard   \n",
       "241 2022-06-24  Southside         Southbank  Standard   \n",
       "242 2022-01-28  Northside               CBD  Standard   \n",
       "243 2022-02-15  Northside               CBD  Standard   \n",
       "\n",
       "                      Product  Qty  Price  \n",
       "0    2kg Single Origin Select   42   34.9  \n",
       "1    2kg Single Origin Select   41   34.9  \n",
       "2    2kg Single Origin Select   38   34.9  \n",
       "3    2kg Single Origin Select   38   34.9  \n",
       "4    2kg Single Origin Select   33   34.9  \n",
       "..                        ...  ...    ...  \n",
       "239        2kg Everyday Blend   29   16.8  \n",
       "240        2kg Everyday Blend   28   16.8  \n",
       "241        2kg Everyday Blend   28   16.8  \n",
       "242        2kg Everyday Blend   28   13.5  \n",
       "243        2kg Everyday Blend   27   13.5  \n",
       "\n",
       "[244 rows x 7 columns]"
      ]
     },
     "execution_count": 47,
     "metadata": {},
     "output_type": "execute_result"
    }
   ],
   "source": [
    "# To see changed value\n",
    "coffee_df"
   ]
  },
  {
   "cell_type": "markdown",
   "metadata": {},
   "source": [
    "#### To see if there are negative values"
   ]
  },
  {
   "cell_type": "code",
   "execution_count": 48,
   "metadata": {
    "tags": []
   },
   "outputs": [
    {
     "data": {
      "text/html": [
       "<div>\n",
       "<style scoped>\n",
       "    .dataframe tbody tr th:only-of-type {\n",
       "        vertical-align: middle;\n",
       "    }\n",
       "\n",
       "    .dataframe tbody tr th {\n",
       "        vertical-align: top;\n",
       "    }\n",
       "\n",
       "    .dataframe thead th {\n",
       "        text-align: right;\n",
       "    }\n",
       "</style>\n",
       "<table border=\"1\" class=\"dataframe\">\n",
       "  <thead>\n",
       "    <tr style=\"text-align: right;\">\n",
       "      <th></th>\n",
       "      <th>Date</th>\n",
       "      <th>Qty</th>\n",
       "      <th>Price</th>\n",
       "    </tr>\n",
       "  </thead>\n",
       "  <tbody>\n",
       "    <tr>\n",
       "      <th>count</th>\n",
       "      <td>244</td>\n",
       "      <td>244.000000</td>\n",
       "      <td>244.000000</td>\n",
       "    </tr>\n",
       "    <tr>\n",
       "      <th>mean</th>\n",
       "      <td>2022-07-01 13:58:01.967213056</td>\n",
       "      <td>63.286885</td>\n",
       "      <td>22.008197</td>\n",
       "    </tr>\n",
       "    <tr>\n",
       "      <th>min</th>\n",
       "      <td>2022-01-01 00:00:00</td>\n",
       "      <td>20.000000</td>\n",
       "      <td>13.500000</td>\n",
       "    </tr>\n",
       "    <tr>\n",
       "      <th>25%</th>\n",
       "      <td>2022-04-01 00:00:00</td>\n",
       "      <td>31.000000</td>\n",
       "      <td>17.700000</td>\n",
       "    </tr>\n",
       "    <tr>\n",
       "      <th>50%</th>\n",
       "      <td>2022-07-01 12:00:00</td>\n",
       "      <td>47.000000</td>\n",
       "      <td>18.700000</td>\n",
       "    </tr>\n",
       "    <tr>\n",
       "      <th>75%</th>\n",
       "      <td>2022-10-01 00:00:00</td>\n",
       "      <td>80.000000</td>\n",
       "      <td>28.400000</td>\n",
       "    </tr>\n",
       "    <tr>\n",
       "      <th>max</th>\n",
       "      <td>2022-12-30 00:00:00</td>\n",
       "      <td>306.000000</td>\n",
       "      <td>34.900000</td>\n",
       "    </tr>\n",
       "    <tr>\n",
       "      <th>std</th>\n",
       "      <td>NaN</td>\n",
       "      <td>47.112505</td>\n",
       "      <td>6.001688</td>\n",
       "    </tr>\n",
       "  </tbody>\n",
       "</table>\n",
       "</div>"
      ],
      "text/plain": [
       "                                Date         Qty       Price\n",
       "count                            244  244.000000  244.000000\n",
       "mean   2022-07-01 13:58:01.967213056   63.286885   22.008197\n",
       "min              2022-01-01 00:00:00   20.000000   13.500000\n",
       "25%              2022-04-01 00:00:00   31.000000   17.700000\n",
       "50%              2022-07-01 12:00:00   47.000000   18.700000\n",
       "75%              2022-10-01 00:00:00   80.000000   28.400000\n",
       "max              2022-12-30 00:00:00  306.000000   34.900000\n",
       "std                              NaN   47.112505    6.001688"
      ]
     },
     "execution_count": 48,
     "metadata": {},
     "output_type": "execute_result"
    }
   ],
   "source": [
    "# To check whether this data's value is reliable and good to go\n",
    "coffee_df.describe()"
   ]
  },
  {
   "cell_type": "markdown",
   "metadata": {},
   "source": [
    "#### To check if there are any missing values"
   ]
  },
  {
   "cell_type": "code",
   "execution_count": 49,
   "metadata": {
    "tags": []
   },
   "outputs": [
    {
     "data": {
      "text/plain": [
       "Date       0\n",
       "Zone       0\n",
       "Area       0\n",
       "Range      0\n",
       "Product    0\n",
       "Qty        0\n",
       "Price      0\n",
       "dtype: int64"
      ]
     },
     "execution_count": 49,
     "metadata": {},
     "output_type": "execute_result"
    }
   ],
   "source": [
    "# Check the missing values\n",
    "coffee_df.isnull().sum()"
   ]
  },
  {
   "cell_type": "markdown",
   "metadata": {},
   "source": [
    "### 3. Analysis"
   ]
  },
  {
   "cell_type": "code",
   "execution_count": 50,
   "metadata": {},
   "outputs": [],
   "source": [
    "# Analyse the data - ensure that you at least use the required technique\n"
   ]
  },
  {
   "cell_type": "markdown",
   "metadata": {},
   "source": [
    "#### 1. This analysis will help us answer the question about geographic performance.\n",
    "#### We're aggregating sales data by Zone and Area to understand variations in sales across different regions within Brisbane City.\n",
    "#### The 'Total_Sales' column now represents the total sales for each Zone and Area."
   ]
  },
  {
   "cell_type": "code",
   "execution_count": 51,
   "metadata": {
    "tags": []
   },
   "outputs": [
    {
     "data": {
      "text/html": [
       "<div>\n",
       "<style scoped>\n",
       "    .dataframe tbody tr th:only-of-type {\n",
       "        vertical-align: middle;\n",
       "    }\n",
       "\n",
       "    .dataframe tbody tr th {\n",
       "        vertical-align: top;\n",
       "    }\n",
       "\n",
       "    .dataframe thead th {\n",
       "        text-align: right;\n",
       "    }\n",
       "</style>\n",
       "<table border=\"1\" class=\"dataframe\">\n",
       "  <thead>\n",
       "    <tr style=\"text-align: right;\">\n",
       "      <th></th>\n",
       "      <th>Zone</th>\n",
       "      <th>Area</th>\n",
       "      <th>Total_Sales</th>\n",
       "    </tr>\n",
       "  </thead>\n",
       "  <tbody>\n",
       "    <tr>\n",
       "      <th>0</th>\n",
       "      <td>Northside</td>\n",
       "      <td>CBD</td>\n",
       "      <td>1295.9</td>\n",
       "    </tr>\n",
       "    <tr>\n",
       "      <th>1</th>\n",
       "      <td>Northside</td>\n",
       "      <td>Fortitude Valley</td>\n",
       "      <td>2134.8</td>\n",
       "    </tr>\n",
       "    <tr>\n",
       "      <th>2</th>\n",
       "      <td>Southside</td>\n",
       "      <td>Southbank</td>\n",
       "      <td>1120.6</td>\n",
       "    </tr>\n",
       "    <tr>\n",
       "      <th>3</th>\n",
       "      <td>Southside</td>\n",
       "      <td>West End</td>\n",
       "      <td>818.7</td>\n",
       "    </tr>\n",
       "  </tbody>\n",
       "</table>\n",
       "</div>"
      ],
      "text/plain": [
       "        Zone              Area  Total_Sales\n",
       "0  Northside               CBD       1295.9\n",
       "1  Northside  Fortitude Valley       2134.8\n",
       "2  Southside         Southbank       1120.6\n",
       "3  Southside          West End        818.7"
      ]
     },
     "execution_count": 51,
     "metadata": {},
     "output_type": "execute_result"
    }
   ],
   "source": [
    "# Calculate total sales by Zone and Area to analyze geographic performance\n",
    "area_sales = coffee_df.groupby(['Zone', 'Area'])['Price'].sum().reset_index()\n",
    "\n",
    "# Rename the 'Price' column to 'Total_Sales' for clarity\n",
    "area_sales.rename(columns={\"Price\": \"Total_Sales\"})"
   ]
  },
  {
   "cell_type": "markdown",
   "metadata": {
    "tags": []
   },
   "source": [
    "#### 2. This analysis is essential for gaining insights into the products we sell, as per our questions.\n",
    "#### We're aggregating sales data by Product Range and Product to understand the performance of each product.\n",
    "#### The 'Total_Sales' column now represents the total sales for each Product Range and Product."
   ]
  },
  {
   "cell_type": "code",
   "execution_count": 52,
   "metadata": {},
   "outputs": [
    {
     "data": {
      "text/html": [
       "<div>\n",
       "<style scoped>\n",
       "    .dataframe tbody tr th:only-of-type {\n",
       "        vertical-align: middle;\n",
       "    }\n",
       "\n",
       "    .dataframe tbody tr th {\n",
       "        vertical-align: top;\n",
       "    }\n",
       "\n",
       "    .dataframe thead th {\n",
       "        text-align: right;\n",
       "    }\n",
       "</style>\n",
       "<table border=\"1\" class=\"dataframe\">\n",
       "  <thead>\n",
       "    <tr style=\"text-align: right;\">\n",
       "      <th></th>\n",
       "      <th>Range</th>\n",
       "      <th>Product</th>\n",
       "      <th>Total_Sales</th>\n",
       "    </tr>\n",
       "  </thead>\n",
       "  <tbody>\n",
       "    <tr>\n",
       "      <th>0</th>\n",
       "      <td>Barista</td>\n",
       "      <td>2kg Dark Blend</td>\n",
       "      <td>880.4</td>\n",
       "    </tr>\n",
       "    <tr>\n",
       "      <th>1</th>\n",
       "      <td>Barista</td>\n",
       "      <td>2kg Light Roast</td>\n",
       "      <td>617.1</td>\n",
       "    </tr>\n",
       "    <tr>\n",
       "      <th>2</th>\n",
       "      <td>Barista</td>\n",
       "      <td>2kg Smooth Blend</td>\n",
       "      <td>675.8</td>\n",
       "    </tr>\n",
       "    <tr>\n",
       "      <th>3</th>\n",
       "      <td>Cafe</td>\n",
       "      <td>2kg Cafe Blend</td>\n",
       "      <td>1132.8</td>\n",
       "    </tr>\n",
       "    <tr>\n",
       "      <th>4</th>\n",
       "      <td>Cafe</td>\n",
       "      <td>2kg Cafe Single Origin</td>\n",
       "      <td>504.9</td>\n",
       "    </tr>\n",
       "    <tr>\n",
       "      <th>5</th>\n",
       "      <td>Cafe</td>\n",
       "      <td>2kg Single Origin Custom</td>\n",
       "      <td>68.1</td>\n",
       "    </tr>\n",
       "    <tr>\n",
       "      <th>6</th>\n",
       "      <td>Premium</td>\n",
       "      <td>2kg Single Origin Select</td>\n",
       "      <td>907.4</td>\n",
       "    </tr>\n",
       "    <tr>\n",
       "      <th>7</th>\n",
       "      <td>Standard</td>\n",
       "      <td>2kg Everyday Blend</td>\n",
       "      <td>363.0</td>\n",
       "    </tr>\n",
       "    <tr>\n",
       "      <th>8</th>\n",
       "      <td>Standard</td>\n",
       "      <td>4kg Everyday Blend</td>\n",
       "      <td>220.5</td>\n",
       "    </tr>\n",
       "  </tbody>\n",
       "</table>\n",
       "</div>"
      ],
      "text/plain": [
       "      Range                   Product  Total_Sales\n",
       "0   Barista            2kg Dark Blend        880.4\n",
       "1   Barista           2kg Light Roast        617.1\n",
       "2   Barista          2kg Smooth Blend        675.8\n",
       "3      Cafe            2kg Cafe Blend       1132.8\n",
       "4      Cafe    2kg Cafe Single Origin        504.9\n",
       "5      Cafe  2kg Single Origin Custom         68.1\n",
       "6   Premium  2kg Single Origin Select        907.4\n",
       "7  Standard        2kg Everyday Blend        363.0\n",
       "8  Standard        4kg Everyday Blend        220.5"
      ]
     },
     "execution_count": 52,
     "metadata": {},
     "output_type": "execute_result"
    }
   ],
   "source": [
    "# Calculate total sales by Product Range and Product to analyze product-related insights\n",
    "product_sales = coffee_df.groupby(['Range', 'Product'])['Price'].sum().reset_index()\n",
    "\n",
    "# Rename the 'Price' column to 'Total_Sales' for clarity\n",
    "product_sales.rename(columns={\"Price\": \"Total_Sales\"})"
   ]
  },
  {
   "cell_type": "markdown",
   "metadata": {},
   "source": [
    "#### 3. This step is crucial for understanding seasonal trends in sales, as per our questions.\n",
    "#### Sorting the data by date allows us to examine how sales have evolved over time.\n",
    "#### It's essential for identifying any season-specific patterns or trends that might exist in the sales data."
   ]
  },
  {
   "cell_type": "code",
   "execution_count": 53,
   "metadata": {
    "tags": []
   },
   "outputs": [
    {
     "data": {
      "text/html": [
       "<div>\n",
       "<style scoped>\n",
       "    .dataframe tbody tr th:only-of-type {\n",
       "        vertical-align: middle;\n",
       "    }\n",
       "\n",
       "    .dataframe tbody tr th {\n",
       "        vertical-align: top;\n",
       "    }\n",
       "\n",
       "    .dataframe thead th {\n",
       "        text-align: right;\n",
       "    }\n",
       "</style>\n",
       "<table border=\"1\" class=\"dataframe\">\n",
       "  <thead>\n",
       "    <tr style=\"text-align: right;\">\n",
       "      <th></th>\n",
       "      <th>Date</th>\n",
       "      <th>Zone</th>\n",
       "      <th>Area</th>\n",
       "      <th>Range</th>\n",
       "      <th>Product</th>\n",
       "      <th>Qty</th>\n",
       "      <th>Price</th>\n",
       "    </tr>\n",
       "  </thead>\n",
       "  <tbody>\n",
       "    <tr>\n",
       "      <th>216</th>\n",
       "      <td>2022-01-01</td>\n",
       "      <td>Northside</td>\n",
       "      <td>Fortitude Valley</td>\n",
       "      <td>Cafe</td>\n",
       "      <td>2kg Cafe Blend</td>\n",
       "      <td>33</td>\n",
       "      <td>17.7</td>\n",
       "    </tr>\n",
       "    <tr>\n",
       "      <th>80</th>\n",
       "      <td>2022-01-02</td>\n",
       "      <td>Northside</td>\n",
       "      <td>Fortitude Valley</td>\n",
       "      <td>Barista</td>\n",
       "      <td>2kg Smooth Blend</td>\n",
       "      <td>32</td>\n",
       "      <td>21.8</td>\n",
       "    </tr>\n",
       "    <tr>\n",
       "      <th>14</th>\n",
       "      <td>2022-01-04</td>\n",
       "      <td>Northside</td>\n",
       "      <td>Fortitude Valley</td>\n",
       "      <td>Premium</td>\n",
       "      <td>2kg Single Origin Select</td>\n",
       "      <td>87</td>\n",
       "      <td>34.9</td>\n",
       "    </tr>\n",
       "    <tr>\n",
       "      <th>174</th>\n",
       "      <td>2022-01-05</td>\n",
       "      <td>Northside</td>\n",
       "      <td>Fortitude Valley</td>\n",
       "      <td>Cafe</td>\n",
       "      <td>2kg Cafe Blend</td>\n",
       "      <td>63</td>\n",
       "      <td>17.7</td>\n",
       "    </tr>\n",
       "    <tr>\n",
       "      <th>144</th>\n",
       "      <td>2022-01-07</td>\n",
       "      <td>Southside</td>\n",
       "      <td>Southbank</td>\n",
       "      <td>Barista</td>\n",
       "      <td>2kg Light Roast</td>\n",
       "      <td>58</td>\n",
       "      <td>18.7</td>\n",
       "    </tr>\n",
       "    <tr>\n",
       "      <th>...</th>\n",
       "      <td>...</td>\n",
       "      <td>...</td>\n",
       "      <td>...</td>\n",
       "      <td>...</td>\n",
       "      <td>...</td>\n",
       "      <td>...</td>\n",
       "      <td>...</td>\n",
       "    </tr>\n",
       "    <tr>\n",
       "      <th>90</th>\n",
       "      <td>2022-12-24</td>\n",
       "      <td>Northside</td>\n",
       "      <td>CBD</td>\n",
       "      <td>Barista</td>\n",
       "      <td>2kg Smooth Blend</td>\n",
       "      <td>237</td>\n",
       "      <td>21.8</td>\n",
       "    </tr>\n",
       "    <tr>\n",
       "      <th>129</th>\n",
       "      <td>2022-12-27</td>\n",
       "      <td>Southside</td>\n",
       "      <td>Southbank</td>\n",
       "      <td>Cafe</td>\n",
       "      <td>2kg Cafe Single Origin</td>\n",
       "      <td>30</td>\n",
       "      <td>18.7</td>\n",
       "    </tr>\n",
       "    <tr>\n",
       "      <th>134</th>\n",
       "      <td>2022-12-27</td>\n",
       "      <td>Northside</td>\n",
       "      <td>CBD</td>\n",
       "      <td>Barista</td>\n",
       "      <td>2kg Light Roast</td>\n",
       "      <td>65</td>\n",
       "      <td>18.7</td>\n",
       "    </tr>\n",
       "    <tr>\n",
       "      <th>58</th>\n",
       "      <td>2022-12-30</td>\n",
       "      <td>Southside</td>\n",
       "      <td>Southbank</td>\n",
       "      <td>Barista</td>\n",
       "      <td>2kg Dark Blend</td>\n",
       "      <td>44</td>\n",
       "      <td>28.4</td>\n",
       "    </tr>\n",
       "    <tr>\n",
       "      <th>84</th>\n",
       "      <td>2022-12-30</td>\n",
       "      <td>Southside</td>\n",
       "      <td>West End</td>\n",
       "      <td>Barista</td>\n",
       "      <td>2kg Smooth Blend</td>\n",
       "      <td>83</td>\n",
       "      <td>21.8</td>\n",
       "    </tr>\n",
       "  </tbody>\n",
       "</table>\n",
       "<p>244 rows × 7 columns</p>\n",
       "</div>"
      ],
      "text/plain": [
       "          Date       Zone              Area    Range  \\\n",
       "216 2022-01-01  Northside  Fortitude Valley     Cafe   \n",
       "80  2022-01-02  Northside  Fortitude Valley  Barista   \n",
       "14  2022-01-04  Northside  Fortitude Valley  Premium   \n",
       "174 2022-01-05  Northside  Fortitude Valley     Cafe   \n",
       "144 2022-01-07  Southside         Southbank  Barista   \n",
       "..         ...        ...               ...      ...   \n",
       "90  2022-12-24  Northside               CBD  Barista   \n",
       "129 2022-12-27  Southside         Southbank     Cafe   \n",
       "134 2022-12-27  Northside               CBD  Barista   \n",
       "58  2022-12-30  Southside         Southbank  Barista   \n",
       "84  2022-12-30  Southside          West End  Barista   \n",
       "\n",
       "                      Product  Qty  Price  \n",
       "216            2kg Cafe Blend   33   17.7  \n",
       "80           2kg Smooth Blend   32   21.8  \n",
       "14   2kg Single Origin Select   87   34.9  \n",
       "174            2kg Cafe Blend   63   17.7  \n",
       "144           2kg Light Roast   58   18.7  \n",
       "..                        ...  ...    ...  \n",
       "90           2kg Smooth Blend  237   21.8  \n",
       "129    2kg Cafe Single Origin   30   18.7  \n",
       "134           2kg Light Roast   65   18.7  \n",
       "58             2kg Dark Blend   44   28.4  \n",
       "84           2kg Smooth Blend   83   21.8  \n",
       "\n",
       "[244 rows x 7 columns]"
      ]
     },
     "execution_count": 53,
     "metadata": {},
     "output_type": "execute_result"
    }
   ],
   "source": [
    "# Sort the sales data by date to analyze seasonal patterns\n",
    "coffee_trend_by_season = coffee_df.sort_values(\"Date\")\n",
    "coffee_trend_by_season"
   ]
  },
  {
   "cell_type": "markdown",
   "metadata": {},
   "source": [
    "### 4. Visualisation"
   ]
  },
  {
   "cell_type": "code",
   "execution_count": 54,
   "metadata": {},
   "outputs": [],
   "source": [
    "# Visualise the results\n"
   ]
  },
  {
   "cell_type": "markdown",
   "metadata": {},
   "source": [
    "#### This visualization is essential for gaining insights into the areas we sell to, as per our questions.\n",
    "#### By creating a bar chart, we can easily compare total sales across different areas and zones within Brisbane City.\n",
    "#### The color-coded bars represent sales by Zone, providing a clear visual representation of sales performance in each area."
   ]
  },
  {
   "cell_type": "code",
   "execution_count": 55,
   "metadata": {
    "tags": []
   },
   "outputs": [
    {
     "data": {
      "application/vnd.plotly.v1+json": {
       "config": {
        "plotlyServerURL": "https://plot.ly"
       },
       "data": [
        {
         "alignmentgroup": "True",
         "hovertemplate": "Zone=Northside<br>Area=%{x}<br>Price=%{y}<extra></extra>",
         "legendgroup": "Northside",
         "marker": {
          "color": "#636efa",
          "pattern": {
           "shape": ""
          }
         },
         "name": "Northside",
         "offsetgroup": "Northside",
         "orientation": "v",
         "showlegend": true,
         "textposition": "auto",
         "type": "bar",
         "x": [
          "CBD",
          "Fortitude Valley"
         ],
         "xaxis": "x",
         "y": [
          1295.8999999999999,
          2134.7999999999997
         ],
         "yaxis": "y"
        },
        {
         "alignmentgroup": "True",
         "hovertemplate": "Zone=Southside<br>Area=%{x}<br>Price=%{y}<extra></extra>",
         "legendgroup": "Southside",
         "marker": {
          "color": "#EF553B",
          "pattern": {
           "shape": ""
          }
         },
         "name": "Southside",
         "offsetgroup": "Southside",
         "orientation": "v",
         "showlegend": true,
         "textposition": "auto",
         "type": "bar",
         "x": [
          "Southbank",
          "West End"
         ],
         "xaxis": "x",
         "y": [
          1120.6,
          818.6999999999999
         ],
         "yaxis": "y"
        }
       ],
       "layout": {
        "autosize": true,
        "barmode": "relative",
        "legend": {
         "title": {
          "text": "Zone"
         },
         "tracegroupgap": 0
        },
        "template": {
         "data": {
          "bar": [
           {
            "error_x": {
             "color": "#2a3f5f"
            },
            "error_y": {
             "color": "#2a3f5f"
            },
            "marker": {
             "line": {
              "color": "#E5ECF6",
              "width": 0.5
             },
             "pattern": {
              "fillmode": "overlay",
              "size": 10,
              "solidity": 0.2
             }
            },
            "type": "bar"
           }
          ],
          "barpolar": [
           {
            "marker": {
             "line": {
              "color": "#E5ECF6",
              "width": 0.5
             },
             "pattern": {
              "fillmode": "overlay",
              "size": 10,
              "solidity": 0.2
             }
            },
            "type": "barpolar"
           }
          ],
          "carpet": [
           {
            "aaxis": {
             "endlinecolor": "#2a3f5f",
             "gridcolor": "white",
             "linecolor": "white",
             "minorgridcolor": "white",
             "startlinecolor": "#2a3f5f"
            },
            "baxis": {
             "endlinecolor": "#2a3f5f",
             "gridcolor": "white",
             "linecolor": "white",
             "minorgridcolor": "white",
             "startlinecolor": "#2a3f5f"
            },
            "type": "carpet"
           }
          ],
          "choropleth": [
           {
            "colorbar": {
             "outlinewidth": 0,
             "ticks": ""
            },
            "type": "choropleth"
           }
          ],
          "contour": [
           {
            "colorbar": {
             "outlinewidth": 0,
             "ticks": ""
            },
            "colorscale": [
             [
              0,
              "#0d0887"
             ],
             [
              0.1111111111111111,
              "#46039f"
             ],
             [
              0.2222222222222222,
              "#7201a8"
             ],
             [
              0.3333333333333333,
              "#9c179e"
             ],
             [
              0.4444444444444444,
              "#bd3786"
             ],
             [
              0.5555555555555556,
              "#d8576b"
             ],
             [
              0.6666666666666666,
              "#ed7953"
             ],
             [
              0.7777777777777778,
              "#fb9f3a"
             ],
             [
              0.8888888888888888,
              "#fdca26"
             ],
             [
              1,
              "#f0f921"
             ]
            ],
            "type": "contour"
           }
          ],
          "contourcarpet": [
           {
            "colorbar": {
             "outlinewidth": 0,
             "ticks": ""
            },
            "type": "contourcarpet"
           }
          ],
          "heatmap": [
           {
            "colorbar": {
             "outlinewidth": 0,
             "ticks": ""
            },
            "colorscale": [
             [
              0,
              "#0d0887"
             ],
             [
              0.1111111111111111,
              "#46039f"
             ],
             [
              0.2222222222222222,
              "#7201a8"
             ],
             [
              0.3333333333333333,
              "#9c179e"
             ],
             [
              0.4444444444444444,
              "#bd3786"
             ],
             [
              0.5555555555555556,
              "#d8576b"
             ],
             [
              0.6666666666666666,
              "#ed7953"
             ],
             [
              0.7777777777777778,
              "#fb9f3a"
             ],
             [
              0.8888888888888888,
              "#fdca26"
             ],
             [
              1,
              "#f0f921"
             ]
            ],
            "type": "heatmap"
           }
          ],
          "heatmapgl": [
           {
            "colorbar": {
             "outlinewidth": 0,
             "ticks": ""
            },
            "colorscale": [
             [
              0,
              "#0d0887"
             ],
             [
              0.1111111111111111,
              "#46039f"
             ],
             [
              0.2222222222222222,
              "#7201a8"
             ],
             [
              0.3333333333333333,
              "#9c179e"
             ],
             [
              0.4444444444444444,
              "#bd3786"
             ],
             [
              0.5555555555555556,
              "#d8576b"
             ],
             [
              0.6666666666666666,
              "#ed7953"
             ],
             [
              0.7777777777777778,
              "#fb9f3a"
             ],
             [
              0.8888888888888888,
              "#fdca26"
             ],
             [
              1,
              "#f0f921"
             ]
            ],
            "type": "heatmapgl"
           }
          ],
          "histogram": [
           {
            "marker": {
             "pattern": {
              "fillmode": "overlay",
              "size": 10,
              "solidity": 0.2
             }
            },
            "type": "histogram"
           }
          ],
          "histogram2d": [
           {
            "colorbar": {
             "outlinewidth": 0,
             "ticks": ""
            },
            "colorscale": [
             [
              0,
              "#0d0887"
             ],
             [
              0.1111111111111111,
              "#46039f"
             ],
             [
              0.2222222222222222,
              "#7201a8"
             ],
             [
              0.3333333333333333,
              "#9c179e"
             ],
             [
              0.4444444444444444,
              "#bd3786"
             ],
             [
              0.5555555555555556,
              "#d8576b"
             ],
             [
              0.6666666666666666,
              "#ed7953"
             ],
             [
              0.7777777777777778,
              "#fb9f3a"
             ],
             [
              0.8888888888888888,
              "#fdca26"
             ],
             [
              1,
              "#f0f921"
             ]
            ],
            "type": "histogram2d"
           }
          ],
          "histogram2dcontour": [
           {
            "colorbar": {
             "outlinewidth": 0,
             "ticks": ""
            },
            "colorscale": [
             [
              0,
              "#0d0887"
             ],
             [
              0.1111111111111111,
              "#46039f"
             ],
             [
              0.2222222222222222,
              "#7201a8"
             ],
             [
              0.3333333333333333,
              "#9c179e"
             ],
             [
              0.4444444444444444,
              "#bd3786"
             ],
             [
              0.5555555555555556,
              "#d8576b"
             ],
             [
              0.6666666666666666,
              "#ed7953"
             ],
             [
              0.7777777777777778,
              "#fb9f3a"
             ],
             [
              0.8888888888888888,
              "#fdca26"
             ],
             [
              1,
              "#f0f921"
             ]
            ],
            "type": "histogram2dcontour"
           }
          ],
          "mesh3d": [
           {
            "colorbar": {
             "outlinewidth": 0,
             "ticks": ""
            },
            "type": "mesh3d"
           }
          ],
          "parcoords": [
           {
            "line": {
             "colorbar": {
              "outlinewidth": 0,
              "ticks": ""
             }
            },
            "type": "parcoords"
           }
          ],
          "pie": [
           {
            "automargin": true,
            "type": "pie"
           }
          ],
          "scatter": [
           {
            "fillpattern": {
             "fillmode": "overlay",
             "size": 10,
             "solidity": 0.2
            },
            "type": "scatter"
           }
          ],
          "scatter3d": [
           {
            "line": {
             "colorbar": {
              "outlinewidth": 0,
              "ticks": ""
             }
            },
            "marker": {
             "colorbar": {
              "outlinewidth": 0,
              "ticks": ""
             }
            },
            "type": "scatter3d"
           }
          ],
          "scattercarpet": [
           {
            "marker": {
             "colorbar": {
              "outlinewidth": 0,
              "ticks": ""
             }
            },
            "type": "scattercarpet"
           }
          ],
          "scattergeo": [
           {
            "marker": {
             "colorbar": {
              "outlinewidth": 0,
              "ticks": ""
             }
            },
            "type": "scattergeo"
           }
          ],
          "scattergl": [
           {
            "marker": {
             "colorbar": {
              "outlinewidth": 0,
              "ticks": ""
             }
            },
            "type": "scattergl"
           }
          ],
          "scattermapbox": [
           {
            "marker": {
             "colorbar": {
              "outlinewidth": 0,
              "ticks": ""
             }
            },
            "type": "scattermapbox"
           }
          ],
          "scatterpolar": [
           {
            "marker": {
             "colorbar": {
              "outlinewidth": 0,
              "ticks": ""
             }
            },
            "type": "scatterpolar"
           }
          ],
          "scatterpolargl": [
           {
            "marker": {
             "colorbar": {
              "outlinewidth": 0,
              "ticks": ""
             }
            },
            "type": "scatterpolargl"
           }
          ],
          "scatterternary": [
           {
            "marker": {
             "colorbar": {
              "outlinewidth": 0,
              "ticks": ""
             }
            },
            "type": "scatterternary"
           }
          ],
          "surface": [
           {
            "colorbar": {
             "outlinewidth": 0,
             "ticks": ""
            },
            "colorscale": [
             [
              0,
              "#0d0887"
             ],
             [
              0.1111111111111111,
              "#46039f"
             ],
             [
              0.2222222222222222,
              "#7201a8"
             ],
             [
              0.3333333333333333,
              "#9c179e"
             ],
             [
              0.4444444444444444,
              "#bd3786"
             ],
             [
              0.5555555555555556,
              "#d8576b"
             ],
             [
              0.6666666666666666,
              "#ed7953"
             ],
             [
              0.7777777777777778,
              "#fb9f3a"
             ],
             [
              0.8888888888888888,
              "#fdca26"
             ],
             [
              1,
              "#f0f921"
             ]
            ],
            "type": "surface"
           }
          ],
          "table": [
           {
            "cells": {
             "fill": {
              "color": "#EBF0F8"
             },
             "line": {
              "color": "white"
             }
            },
            "header": {
             "fill": {
              "color": "#C8D4E3"
             },
             "line": {
              "color": "white"
             }
            },
            "type": "table"
           }
          ]
         },
         "layout": {
          "annotationdefaults": {
           "arrowcolor": "#2a3f5f",
           "arrowhead": 0,
           "arrowwidth": 1
          },
          "autotypenumbers": "strict",
          "coloraxis": {
           "colorbar": {
            "outlinewidth": 0,
            "ticks": ""
           }
          },
          "colorscale": {
           "diverging": [
            [
             0,
             "#8e0152"
            ],
            [
             0.1,
             "#c51b7d"
            ],
            [
             0.2,
             "#de77ae"
            ],
            [
             0.3,
             "#f1b6da"
            ],
            [
             0.4,
             "#fde0ef"
            ],
            [
             0.5,
             "#f7f7f7"
            ],
            [
             0.6,
             "#e6f5d0"
            ],
            [
             0.7,
             "#b8e186"
            ],
            [
             0.8,
             "#7fbc41"
            ],
            [
             0.9,
             "#4d9221"
            ],
            [
             1,
             "#276419"
            ]
           ],
           "sequential": [
            [
             0,
             "#0d0887"
            ],
            [
             0.1111111111111111,
             "#46039f"
            ],
            [
             0.2222222222222222,
             "#7201a8"
            ],
            [
             0.3333333333333333,
             "#9c179e"
            ],
            [
             0.4444444444444444,
             "#bd3786"
            ],
            [
             0.5555555555555556,
             "#d8576b"
            ],
            [
             0.6666666666666666,
             "#ed7953"
            ],
            [
             0.7777777777777778,
             "#fb9f3a"
            ],
            [
             0.8888888888888888,
             "#fdca26"
            ],
            [
             1,
             "#f0f921"
            ]
           ],
           "sequentialminus": [
            [
             0,
             "#0d0887"
            ],
            [
             0.1111111111111111,
             "#46039f"
            ],
            [
             0.2222222222222222,
             "#7201a8"
            ],
            [
             0.3333333333333333,
             "#9c179e"
            ],
            [
             0.4444444444444444,
             "#bd3786"
            ],
            [
             0.5555555555555556,
             "#d8576b"
            ],
            [
             0.6666666666666666,
             "#ed7953"
            ],
            [
             0.7777777777777778,
             "#fb9f3a"
            ],
            [
             0.8888888888888888,
             "#fdca26"
            ],
            [
             1,
             "#f0f921"
            ]
           ]
          },
          "colorway": [
           "#636efa",
           "#EF553B",
           "#00cc96",
           "#ab63fa",
           "#FFA15A",
           "#19d3f3",
           "#FF6692",
           "#B6E880",
           "#FF97FF",
           "#FECB52"
          ],
          "font": {
           "color": "#2a3f5f"
          },
          "geo": {
           "bgcolor": "white",
           "lakecolor": "white",
           "landcolor": "#E5ECF6",
           "showlakes": true,
           "showland": true,
           "subunitcolor": "white"
          },
          "hoverlabel": {
           "align": "left"
          },
          "hovermode": "closest",
          "mapbox": {
           "style": "light"
          },
          "paper_bgcolor": "white",
          "plot_bgcolor": "#E5ECF6",
          "polar": {
           "angularaxis": {
            "gridcolor": "white",
            "linecolor": "white",
            "ticks": ""
           },
           "bgcolor": "#E5ECF6",
           "radialaxis": {
            "gridcolor": "white",
            "linecolor": "white",
            "ticks": ""
           }
          },
          "scene": {
           "xaxis": {
            "backgroundcolor": "#E5ECF6",
            "gridcolor": "white",
            "gridwidth": 2,
            "linecolor": "white",
            "showbackground": true,
            "ticks": "",
            "zerolinecolor": "white"
           },
           "yaxis": {
            "backgroundcolor": "#E5ECF6",
            "gridcolor": "white",
            "gridwidth": 2,
            "linecolor": "white",
            "showbackground": true,
            "ticks": "",
            "zerolinecolor": "white"
           },
           "zaxis": {
            "backgroundcolor": "#E5ECF6",
            "gridcolor": "white",
            "gridwidth": 2,
            "linecolor": "white",
            "showbackground": true,
            "ticks": "",
            "zerolinecolor": "white"
           }
          },
          "shapedefaults": {
           "line": {
            "color": "#2a3f5f"
           }
          },
          "ternary": {
           "aaxis": {
            "gridcolor": "white",
            "linecolor": "white",
            "ticks": ""
           },
           "baxis": {
            "gridcolor": "white",
            "linecolor": "white",
            "ticks": ""
           },
           "bgcolor": "#E5ECF6",
           "caxis": {
            "gridcolor": "white",
            "linecolor": "white",
            "ticks": ""
           }
          },
          "title": {
           "x": 0.05
          },
          "xaxis": {
           "automargin": true,
           "gridcolor": "white",
           "linecolor": "white",
           "ticks": "",
           "title": {
            "standoff": 15
           },
           "zerolinecolor": "white",
           "zerolinewidth": 2
          },
          "yaxis": {
           "automargin": true,
           "gridcolor": "white",
           "linecolor": "white",
           "ticks": "",
           "title": {
            "standoff": 15
           },
           "zerolinecolor": "white",
           "zerolinewidth": 2
          }
         }
        },
        "title": {
         "text": "Total Sales by Area"
        },
        "xaxis": {
         "anchor": "y",
         "autorange": true,
         "domain": [
          0,
          1
         ],
         "range": [
          -0.5,
          3.5
         ],
         "title": {
          "text": "Area"
         },
         "type": "category"
        },
        "yaxis": {
         "anchor": "x",
         "autorange": true,
         "domain": [
          0,
          1
         ],
         "range": [
          0,
          2247.1578947368416
         ],
         "title": {
          "text": "Total Sales"
         },
         "type": "linear"
        }
       }
      },
      "image/png": "[encoded data removed]",
      "text/html": [
       "<div>                            <div id=\"dda9d128-6049-4b5d-8a96-42097dfbc988\" class=\"plotly-graph-div\" style=\"height:525px; width:100%;\"></div>            <script type=\"text/javascript\">                require([\"plotly\"], function(Plotly) {                    window.PLOTLYENV=window.PLOTLYENV || {};                                    if (document.getElementById(\"dda9d128-6049-4b5d-8a96-42097dfbc988\")) {                    Plotly.newPlot(                        \"dda9d128-6049-4b5d-8a96-42097dfbc988\",                        [{\"alignmentgroup\":\"True\",\"hovertemplate\":\"Zone=Northside\\u003cbr\\u003eArea=%{x}\\u003cbr\\u003ePrice=%{y}\\u003cextra\\u003e\\u003c\\u002fextra\\u003e\",\"legendgroup\":\"Northside\",\"marker\":{\"color\":\"#636efa\",\"pattern\":{\"shape\":\"\"}},\"name\":\"Northside\",\"offsetgroup\":\"Northside\",\"orientation\":\"v\",\"showlegend\":true,\"textposition\":\"auto\",\"x\":[\"CBD\",\"Fortitude Valley\"],\"xaxis\":\"x\",\"y\":[1295.8999999999999,2134.7999999999997],\"yaxis\":\"y\",\"type\":\"bar\"},{\"alignmentgroup\":\"True\",\"hovertemplate\":\"Zone=Southside\\u003cbr\\u003eArea=%{x}\\u003cbr\\u003ePrice=%{y}\\u003cextra\\u003e\\u003c\\u002fextra\\u003e\",\"legendgroup\":\"Southside\",\"marker\":{\"color\":\"#EF553B\",\"pattern\":{\"shape\":\"\"}},\"name\":\"Southside\",\"offsetgroup\":\"Southside\",\"orientation\":\"v\",\"showlegend\":true,\"textposition\":\"auto\",\"x\":[\"Southbank\",\"West End\"],\"xaxis\":\"x\",\"y\":[1120.6,818.6999999999999],\"yaxis\":\"y\",\"type\":\"bar\"}],                        {\"template\":{\"data\":{\"histogram2dcontour\":[{\"type\":\"histogram2dcontour\",\"colorbar\":{\"outlinewidth\":0,\"ticks\":\"\"},\"colorscale\":[[0.0,\"#0d0887\"],[0.1111111111111111,\"#46039f\"],[0.2222222222222222,\"#7201a8\"],[0.3333333333333333,\"#9c179e\"],[0.4444444444444444,\"#bd3786\"],[0.5555555555555556,\"#d8576b\"],[0.6666666666666666,\"#ed7953\"],[0.7777777777777778,\"#fb9f3a\"],[0.8888888888888888,\"#fdca26\"],[1.0,\"#f0f921\"]]}],\"choropleth\":[{\"type\":\"choropleth\",\"colorbar\":{\"outlinewidth\":0,\"ticks\":\"\"}}],\"histogram2d\":[{\"type\":\"histogram2d\",\"colorbar\":{\"outlinewidth\":0,\"ticks\":\"\"},\"colorscale\":[[0.0,\"#0d0887\"],[0.1111111111111111,\"#46039f\"],[0.2222222222222222,\"#7201a8\"],[0.3333333333333333,\"#9c179e\"],[0.4444444444444444,\"#bd3786\"],[0.5555555555555556,\"#d8576b\"],[0.6666666666666666,\"#ed7953\"],[0.7777777777777778,\"#fb9f3a\"],[0.8888888888888888,\"#fdca26\"],[1.0,\"#f0f921\"]]}],\"heatmap\":[{\"type\":\"heatmap\",\"colorbar\":{\"outlinewidth\":0,\"ticks\":\"\"},\"colorscale\":[[0.0,\"#0d0887\"],[0.1111111111111111,\"#46039f\"],[0.2222222222222222,\"#7201a8\"],[0.3333333333333333,\"#9c179e\"],[0.4444444444444444,\"#bd3786\"],[0.5555555555555556,\"#d8576b\"],[0.6666666666666666,\"#ed7953\"],[0.7777777777777778,\"#fb9f3a\"],[0.8888888888888888,\"#fdca26\"],[1.0,\"#f0f921\"]]}],\"heatmapgl\":[{\"type\":\"heatmapgl\",\"colorbar\":{\"outlinewidth\":0,\"ticks\":\"\"},\"colorscale\":[[0.0,\"#0d0887\"],[0.1111111111111111,\"#46039f\"],[0.2222222222222222,\"#7201a8\"],[0.3333333333333333,\"#9c179e\"],[0.4444444444444444,\"#bd3786\"],[0.5555555555555556,\"#d8576b\"],[0.6666666666666666,\"#ed7953\"],[0.7777777777777778,\"#fb9f3a\"],[0.8888888888888888,\"#fdca26\"],[1.0,\"#f0f921\"]]}],\"contourcarpet\":[{\"type\":\"contourcarpet\",\"colorbar\":{\"outlinewidth\":0,\"ticks\":\"\"}}],\"contour\":[{\"type\":\"contour\",\"colorbar\":{\"outlinewidth\":0,\"ticks\":\"\"},\"colorscale\":[[0.0,\"#0d0887\"],[0.1111111111111111,\"#46039f\"],[0.2222222222222222,\"#7201a8\"],[0.3333333333333333,\"#9c179e\"],[0.4444444444444444,\"#bd3786\"],[0.5555555555555556,\"#d8576b\"],[0.6666666666666666,\"#ed7953\"],[0.7777777777777778,\"#fb9f3a\"],[0.8888888888888888,\"#fdca26\"],[1.0,\"#f0f921\"]]}],\"surface\":[{\"type\":\"surface\",\"colorbar\":{\"outlinewidth\":0,\"ticks\":\"\"},\"colorscale\":[[0.0,\"#0d0887\"],[0.1111111111111111,\"#46039f\"],[0.2222222222222222,\"#7201a8\"],[0.3333333333333333,\"#9c179e\"],[0.4444444444444444,\"#bd3786\"],[0.5555555555555556,\"#d8576b\"],[0.6666666666666666,\"#ed7953\"],[0.7777777777777778,\"#fb9f3a\"],[0.8888888888888888,\"#fdca26\"],[1.0,\"#f0f921\"]]}],\"mesh3d\":[{\"type\":\"mesh3d\",\"colorbar\":{\"outlinewidth\":0,\"ticks\":\"\"}}],\"scatter\":[{\"fillpattern\":{\"fillmode\":\"overlay\",\"size\":10,\"solidity\":0.2},\"type\":\"scatter\"}],\"parcoords\":[{\"type\":\"parcoords\",\"line\":{\"colorbar\":{\"outlinewidth\":0,\"ticks\":\"\"}}}],\"scatterpolargl\":[{\"type\":\"scatterpolargl\",\"marker\":{\"colorbar\":{\"outlinewidth\":0,\"ticks\":\"\"}}}],\"bar\":[{\"error_x\":{\"color\":\"#2a3f5f\"},\"error_y\":{\"color\":\"#2a3f5f\"},\"marker\":{\"line\":{\"color\":\"#E5ECF6\",\"width\":0.5},\"pattern\":{\"fillmode\":\"overlay\",\"size\":10,\"solidity\":0.2}},\"type\":\"bar\"}],\"scattergeo\":[{\"type\":\"scattergeo\",\"marker\":{\"colorbar\":{\"outlinewidth\":0,\"ticks\":\"\"}}}],\"scatterpolar\":[{\"type\":\"scatterpolar\",\"marker\":{\"colorbar\":{\"outlinewidth\":0,\"ticks\":\"\"}}}],\"histogram\":[{\"marker\":{\"pattern\":{\"fillmode\":\"overlay\",\"size\":10,\"solidity\":0.2}},\"type\":\"histogram\"}],\"scattergl\":[{\"type\":\"scattergl\",\"marker\":{\"colorbar\":{\"outlinewidth\":0,\"ticks\":\"\"}}}],\"scatter3d\":[{\"type\":\"scatter3d\",\"line\":{\"colorbar\":{\"outlinewidth\":0,\"ticks\":\"\"}},\"marker\":{\"colorbar\":{\"outlinewidth\":0,\"ticks\":\"\"}}}],\"scattermapbox\":[{\"type\":\"scattermapbox\",\"marker\":{\"colorbar\":{\"outlinewidth\":0,\"ticks\":\"\"}}}],\"scatterternary\":[{\"type\":\"scatterternary\",\"marker\":{\"colorbar\":{\"outlinewidth\":0,\"ticks\":\"\"}}}],\"scattercarpet\":[{\"type\":\"scattercarpet\",\"marker\":{\"colorbar\":{\"outlinewidth\":0,\"ticks\":\"\"}}}],\"carpet\":[{\"aaxis\":{\"endlinecolor\":\"#2a3f5f\",\"gridcolor\":\"white\",\"linecolor\":\"white\",\"minorgridcolor\":\"white\",\"startlinecolor\":\"#2a3f5f\"},\"baxis\":{\"endlinecolor\":\"#2a3f5f\",\"gridcolor\":\"white\",\"linecolor\":\"white\",\"minorgridcolor\":\"white\",\"startlinecolor\":\"#2a3f5f\"},\"type\":\"carpet\"}],\"table\":[{\"cells\":{\"fill\":{\"color\":\"#EBF0F8\"},\"line\":{\"color\":\"white\"}},\"header\":{\"fill\":{\"color\":\"#C8D4E3\"},\"line\":{\"color\":\"white\"}},\"type\":\"table\"}],\"barpolar\":[{\"marker\":{\"line\":{\"color\":\"#E5ECF6\",\"width\":0.5},\"pattern\":{\"fillmode\":\"overlay\",\"size\":10,\"solidity\":0.2}},\"type\":\"barpolar\"}],\"pie\":[{\"automargin\":true,\"type\":\"pie\"}]},\"layout\":{\"autotypenumbers\":\"strict\",\"colorway\":[\"#636efa\",\"#EF553B\",\"#00cc96\",\"#ab63fa\",\"#FFA15A\",\"#19d3f3\",\"#FF6692\",\"#B6E880\",\"#FF97FF\",\"#FECB52\"],\"font\":{\"color\":\"#2a3f5f\"},\"hovermode\":\"closest\",\"hoverlabel\":{\"align\":\"left\"},\"paper_bgcolor\":\"white\",\"plot_bgcolor\":\"#E5ECF6\",\"polar\":{\"bgcolor\":\"#E5ECF6\",\"angularaxis\":{\"gridcolor\":\"white\",\"linecolor\":\"white\",\"ticks\":\"\"},\"radialaxis\":{\"gridcolor\":\"white\",\"linecolor\":\"white\",\"ticks\":\"\"}},\"ternary\":{\"bgcolor\":\"#E5ECF6\",\"aaxis\":{\"gridcolor\":\"white\",\"linecolor\":\"white\",\"ticks\":\"\"},\"baxis\":{\"gridcolor\":\"white\",\"linecolor\":\"white\",\"ticks\":\"\"},\"caxis\":{\"gridcolor\":\"white\",\"linecolor\":\"white\",\"ticks\":\"\"}},\"coloraxis\":{\"colorbar\":{\"outlinewidth\":0,\"ticks\":\"\"}},\"colorscale\":{\"sequential\":[[0.0,\"#0d0887\"],[0.1111111111111111,\"#46039f\"],[0.2222222222222222,\"#7201a8\"],[0.3333333333333333,\"#9c179e\"],[0.4444444444444444,\"#bd3786\"],[0.5555555555555556,\"#d8576b\"],[0.6666666666666666,\"#ed7953\"],[0.7777777777777778,\"#fb9f3a\"],[0.8888888888888888,\"#fdca26\"],[1.0,\"#f0f921\"]],\"sequentialminus\":[[0.0,\"#0d0887\"],[0.1111111111111111,\"#46039f\"],[0.2222222222222222,\"#7201a8\"],[0.3333333333333333,\"#9c179e\"],[0.4444444444444444,\"#bd3786\"],[0.5555555555555556,\"#d8576b\"],[0.6666666666666666,\"#ed7953\"],[0.7777777777777778,\"#fb9f3a\"],[0.8888888888888888,\"#fdca26\"],[1.0,\"#f0f921\"]],\"diverging\":[[0,\"#8e0152\"],[0.1,\"#c51b7d\"],[0.2,\"#de77ae\"],[0.3,\"#f1b6da\"],[0.4,\"#fde0ef\"],[0.5,\"#f7f7f7\"],[0.6,\"#e6f5d0\"],[0.7,\"#b8e186\"],[0.8,\"#7fbc41\"],[0.9,\"#4d9221\"],[1,\"#276419\"]]},\"xaxis\":{\"gridcolor\":\"white\",\"linecolor\":\"white\",\"ticks\":\"\",\"title\":{\"standoff\":15},\"zerolinecolor\":\"white\",\"automargin\":true,\"zerolinewidth\":2},\"yaxis\":{\"gridcolor\":\"white\",\"linecolor\":\"white\",\"ticks\":\"\",\"title\":{\"standoff\":15},\"zerolinecolor\":\"white\",\"automargin\":true,\"zerolinewidth\":2},\"scene\":{\"xaxis\":{\"backgroundcolor\":\"#E5ECF6\",\"gridcolor\":\"white\",\"linecolor\":\"white\",\"showbackground\":true,\"ticks\":\"\",\"zerolinecolor\":\"white\",\"gridwidth\":2},\"yaxis\":{\"backgroundcolor\":\"#E5ECF6\",\"gridcolor\":\"white\",\"linecolor\":\"white\",\"showbackground\":true,\"ticks\":\"\",\"zerolinecolor\":\"white\",\"gridwidth\":2},\"zaxis\":{\"backgroundcolor\":\"#E5ECF6\",\"gridcolor\":\"white\",\"linecolor\":\"white\",\"showbackground\":true,\"ticks\":\"\",\"zerolinecolor\":\"white\",\"gridwidth\":2}},\"shapedefaults\":{\"line\":{\"color\":\"#2a3f5f\"}},\"annotationdefaults\":{\"arrowcolor\":\"#2a3f5f\",\"arrowhead\":0,\"arrowwidth\":1},\"geo\":{\"bgcolor\":\"white\",\"landcolor\":\"#E5ECF6\",\"subunitcolor\":\"white\",\"showland\":true,\"showlakes\":true,\"lakecolor\":\"white\"},\"title\":{\"x\":0.05},\"mapbox\":{\"style\":\"light\"}}},\"xaxis\":{\"anchor\":\"y\",\"domain\":[0.0,1.0],\"title\":{\"text\":\"Area\"}},\"yaxis\":{\"anchor\":\"x\",\"domain\":[0.0,1.0],\"title\":{\"text\":\"Total Sales\"}},\"legend\":{\"title\":{\"text\":\"Zone\"},\"tracegroupgap\":0},\"title\":{\"text\":\"Total Sales by Area\"},\"barmode\":\"relative\"},                        {\"responsive\": true}                    ).then(function(){\n",
       "                            \n",
       "var gd = document.getElementById('dda9d128-6049-4b5d-8a96-42097dfbc988');\n",
       "var x = new MutationObserver(function (mutations, observer) {{\n",
       "        var display = window.getComputedStyle(gd).display;\n",
       "        if (!display || display === 'none') {{\n",
       "            console.log([gd, 'removed!']);\n",
       "            Plotly.purge(gd);\n",
       "            observer.disconnect();\n",
       "        }}\n",
       "}});\n",
       "\n",
       "// Listen for the removal of the full notebook cells\n",
       "var notebookContainer = gd.closest('#notebook-container');\n",
       "if (notebookContainer) {{\n",
       "    x.observe(notebookContainer, {childList: true});\n",
       "}}\n",
       "\n",
       "// Listen for the clearing of the current output cell\n",
       "var outputEl = gd.closest('.output');\n",
       "if (outputEl) {{\n",
       "    x.observe(outputEl, {childList: true});\n",
       "}}\n",
       "\n",
       "                        })                };                });            </script>        </div>"
      ]
     },
     "metadata": {},
     "output_type": "display_data"
    }
   ],
   "source": [
    "# Create a bar chart for geographic analysis to visualize total sales by Area and Zone\n",
    "region_sales = px.bar(area_sales, x='Area', y='Price', color='Zone', title='Total Sales by Area')\n",
    "region_sales.update_xaxes(title_text='Area')\n",
    "region_sales.update_yaxes(title_text='Total Sales')\n",
    "\n",
    "# Show the visualizations\n",
    "region_sales.show()"
   ]
  },
  {
   "cell_type": "markdown",
   "metadata": {},
   "source": [
    "#### These visualizations are essential for gaining insights into the products we sell, as per our questions.\n",
    "#### The pie chart provides an overview of how sales are distributed among different product types within the range.\n",
    "#### The bar chart breaks down sales by the product range, showing which products are performing the best."
   ]
  },
  {
   "cell_type": "code",
   "execution_count": 56,
   "metadata": {
    "tags": []
   },
   "outputs": [
    {
     "data": {
      "application/vnd.plotly.v1+json": {
       "config": {
        "plotlyServerURL": "https://plot.ly"
       },
       "data": [
        {
         "domain": {
          "x": [
           0,
           1
          ],
          "y": [
           0,
           1
          ]
         },
         "hovertemplate": "Product=%{label}<br>Price=%{value}<extra></extra>",
         "labels": [
          "2kg Dark Blend",
          "2kg Light Roast",
          "2kg Smooth Blend",
          "2kg Cafe Blend",
          "2kg Cafe Single Origin",
          "2kg Single Origin Custom",
          "2kg Single Origin Select",
          "2kg Everyday Blend",
          "4kg Everyday Blend"
         ],
         "legendgroup": "",
         "name": "",
         "showlegend": true,
         "type": "pie",
         "values": [
          880.4,
          617.1,
          675.8000000000001,
          1132.8,
          504.9,
          68.1,
          907.4,
          363,
          220.5
         ]
        }
       ],
       "layout": {
        "autosize": true,
        "legend": {
         "tracegroupgap": 0
        },
        "template": {
         "data": {
          "bar": [
           {
            "error_x": {
             "color": "#2a3f5f"
            },
            "error_y": {
             "color": "#2a3f5f"
            },
            "marker": {
             "line": {
              "color": "#E5ECF6",
              "width": 0.5
             },
             "pattern": {
              "fillmode": "overlay",
              "size": 10,
              "solidity": 0.2
             }
            },
            "type": "bar"
           }
          ],
          "barpolar": [
           {
            "marker": {
             "line": {
              "color": "#E5ECF6",
              "width": 0.5
             },
             "pattern": {
              "fillmode": "overlay",
              "size": 10,
              "solidity": 0.2
             }
            },
            "type": "barpolar"
           }
          ],
          "carpet": [
           {
            "aaxis": {
             "endlinecolor": "#2a3f5f",
             "gridcolor": "white",
             "linecolor": "white",
             "minorgridcolor": "white",
             "startlinecolor": "#2a3f5f"
            },
            "baxis": {
             "endlinecolor": "#2a3f5f",
             "gridcolor": "white",
             "linecolor": "white",
             "minorgridcolor": "white",
             "startlinecolor": "#2a3f5f"
            },
            "type": "carpet"
           }
          ],
          "choropleth": [
           {
            "colorbar": {
             "outlinewidth": 0,
             "ticks": ""
            },
            "type": "choropleth"
           }
          ],
          "contour": [
           {
            "colorbar": {
             "outlinewidth": 0,
             "ticks": ""
            },
            "colorscale": [
             [
              0,
              "#0d0887"
             ],
             [
              0.1111111111111111,
              "#46039f"
             ],
             [
              0.2222222222222222,
              "#7201a8"
             ],
             [
              0.3333333333333333,
              "#9c179e"
             ],
             [
              0.4444444444444444,
              "#bd3786"
             ],
             [
              0.5555555555555556,
              "#d8576b"
             ],
             [
              0.6666666666666666,
              "#ed7953"
             ],
             [
              0.7777777777777778,
              "#fb9f3a"
             ],
             [
              0.8888888888888888,
              "#fdca26"
             ],
             [
              1,
              "#f0f921"
             ]
            ],
            "type": "contour"
           }
          ],
          "contourcarpet": [
           {
            "colorbar": {
             "outlinewidth": 0,
             "ticks": ""
            },
            "type": "contourcarpet"
           }
          ],
          "heatmap": [
           {
            "colorbar": {
             "outlinewidth": 0,
             "ticks": ""
            },
            "colorscale": [
             [
              0,
              "#0d0887"
             ],
             [
              0.1111111111111111,
              "#46039f"
             ],
             [
              0.2222222222222222,
              "#7201a8"
             ],
             [
              0.3333333333333333,
              "#9c179e"
             ],
             [
              0.4444444444444444,
              "#bd3786"
             ],
             [
              0.5555555555555556,
              "#d8576b"
             ],
             [
              0.6666666666666666,
              "#ed7953"
             ],
             [
              0.7777777777777778,
              "#fb9f3a"
             ],
             [
              0.8888888888888888,
              "#fdca26"
             ],
             [
              1,
              "#f0f921"
             ]
            ],
            "type": "heatmap"
           }
          ],
          "heatmapgl": [
           {
            "colorbar": {
             "outlinewidth": 0,
             "ticks": ""
            },
            "colorscale": [
             [
              0,
              "#0d0887"
             ],
             [
              0.1111111111111111,
              "#46039f"
             ],
             [
              0.2222222222222222,
              "#7201a8"
             ],
             [
              0.3333333333333333,
              "#9c179e"
             ],
             [
              0.4444444444444444,
              "#bd3786"
             ],
             [
              0.5555555555555556,
              "#d8576b"
             ],
             [
              0.6666666666666666,
              "#ed7953"
             ],
             [
              0.7777777777777778,
              "#fb9f3a"
             ],
             [
              0.8888888888888888,
              "#fdca26"
             ],
             [
              1,
              "#f0f921"
             ]
            ],
            "type": "heatmapgl"
           }
          ],
          "histogram": [
           {
            "marker": {
             "pattern": {
              "fillmode": "overlay",
              "size": 10,
              "solidity": 0.2
             }
            },
            "type": "histogram"
           }
          ],
          "histogram2d": [
           {
            "colorbar": {
             "outlinewidth": 0,
             "ticks": ""
            },
            "colorscale": [
             [
              0,
              "#0d0887"
             ],
             [
              0.1111111111111111,
              "#46039f"
             ],
             [
              0.2222222222222222,
              "#7201a8"
             ],
             [
              0.3333333333333333,
              "#9c179e"
             ],
             [
              0.4444444444444444,
              "#bd3786"
             ],
             [
              0.5555555555555556,
              "#d8576b"
             ],
             [
              0.6666666666666666,
              "#ed7953"
             ],
             [
              0.7777777777777778,
              "#fb9f3a"
             ],
             [
              0.8888888888888888,
              "#fdca26"
             ],
             [
              1,
              "#f0f921"
             ]
            ],
            "type": "histogram2d"
           }
          ],
          "histogram2dcontour": [
           {
            "colorbar": {
             "outlinewidth": 0,
             "ticks": ""
            },
            "colorscale": [
             [
              0,
              "#0d0887"
             ],
             [
              0.1111111111111111,
              "#46039f"
             ],
             [
              0.2222222222222222,
              "#7201a8"
             ],
             [
              0.3333333333333333,
              "#9c179e"
             ],
             [
              0.4444444444444444,
              "#bd3786"
             ],
             [
              0.5555555555555556,
              "#d8576b"
             ],
             [
              0.6666666666666666,
              "#ed7953"
             ],
             [
              0.7777777777777778,
              "#fb9f3a"
             ],
             [
              0.8888888888888888,
              "#fdca26"
             ],
             [
              1,
              "#f0f921"
             ]
            ],
            "type": "histogram2dcontour"
           }
          ],
          "mesh3d": [
           {
            "colorbar": {
             "outlinewidth": 0,
             "ticks": ""
            },
            "type": "mesh3d"
           }
          ],
          "parcoords": [
           {
            "line": {
             "colorbar": {
              "outlinewidth": 0,
              "ticks": ""
             }
            },
            "type": "parcoords"
           }
          ],
          "pie": [
           {
            "automargin": true,
            "type": "pie"
           }
          ],
          "scatter": [
           {
            "fillpattern": {
             "fillmode": "overlay",
             "size": 10,
             "solidity": 0.2
            },
            "type": "scatter"
           }
          ],
          "scatter3d": [
           {
            "line": {
             "colorbar": {
              "outlinewidth": 0,
              "ticks": ""
             }
            },
            "marker": {
             "colorbar": {
              "outlinewidth": 0,
              "ticks": ""
             }
            },
            "type": "scatter3d"
           }
          ],
          "scattercarpet": [
           {
            "marker": {
             "colorbar": {
              "outlinewidth": 0,
              "ticks": ""
             }
            },
            "type": "scattercarpet"
           }
          ],
          "scattergeo": [
           {
            "marker": {
             "colorbar": {
              "outlinewidth": 0,
              "ticks": ""
             }
            },
            "type": "scattergeo"
           }
          ],
          "scattergl": [
           {
            "marker": {
             "colorbar": {
              "outlinewidth": 0,
              "ticks": ""
             }
            },
            "type": "scattergl"
           }
          ],
          "scattermapbox": [
           {
            "marker": {
             "colorbar": {
              "outlinewidth": 0,
              "ticks": ""
             }
            },
            "type": "scattermapbox"
           }
          ],
          "scatterpolar": [
           {
            "marker": {
             "colorbar": {
              "outlinewidth": 0,
              "ticks": ""
             }
            },
            "type": "scatterpolar"
           }
          ],
          "scatterpolargl": [
           {
            "marker": {
             "colorbar": {
              "outlinewidth": 0,
              "ticks": ""
             }
            },
            "type": "scatterpolargl"
           }
          ],
          "scatterternary": [
           {
            "marker": {
             "colorbar": {
              "outlinewidth": 0,
              "ticks": ""
             }
            },
            "type": "scatterternary"
           }
          ],
          "surface": [
           {
            "colorbar": {
             "outlinewidth": 0,
             "ticks": ""
            },
            "colorscale": [
             [
              0,
              "#0d0887"
             ],
             [
              0.1111111111111111,
              "#46039f"
             ],
             [
              0.2222222222222222,
              "#7201a8"
             ],
             [
              0.3333333333333333,
              "#9c179e"
             ],
             [
              0.4444444444444444,
              "#bd3786"
             ],
             [
              0.5555555555555556,
              "#d8576b"
             ],
             [
              0.6666666666666666,
              "#ed7953"
             ],
             [
              0.7777777777777778,
              "#fb9f3a"
             ],
             [
              0.8888888888888888,
              "#fdca26"
             ],
             [
              1,
              "#f0f921"
             ]
            ],
            "type": "surface"
           }
          ],
          "table": [
           {
            "cells": {
             "fill": {
              "color": "#EBF0F8"
             },
             "line": {
              "color": "white"
             }
            },
            "header": {
             "fill": {
              "color": "#C8D4E3"
             },
             "line": {
              "color": "white"
             }
            },
            "type": "table"
           }
          ]
         },
         "layout": {
          "annotationdefaults": {
           "arrowcolor": "#2a3f5f",
           "arrowhead": 0,
           "arrowwidth": 1
          },
          "autotypenumbers": "strict",
          "coloraxis": {
           "colorbar": {
            "outlinewidth": 0,
            "ticks": ""
           }
          },
          "colorscale": {
           "diverging": [
            [
             0,
             "#8e0152"
            ],
            [
             0.1,
             "#c51b7d"
            ],
            [
             0.2,
             "#de77ae"
            ],
            [
             0.3,
             "#f1b6da"
            ],
            [
             0.4,
             "#fde0ef"
            ],
            [
             0.5,
             "#f7f7f7"
            ],
            [
             0.6,
             "#e6f5d0"
            ],
            [
             0.7,
             "#b8e186"
            ],
            [
             0.8,
             "#7fbc41"
            ],
            [
             0.9,
             "#4d9221"
            ],
            [
             1,
             "#276419"
            ]
           ],
           "sequential": [
            [
             0,
             "#0d0887"
            ],
            [
             0.1111111111111111,
             "#46039f"
            ],
            [
             0.2222222222222222,
             "#7201a8"
            ],
            [
             0.3333333333333333,
             "#9c179e"
            ],
            [
             0.4444444444444444,
             "#bd3786"
            ],
            [
             0.5555555555555556,
             "#d8576b"
            ],
            [
             0.6666666666666666,
             "#ed7953"
            ],
            [
             0.7777777777777778,
             "#fb9f3a"
            ],
            [
             0.8888888888888888,
             "#fdca26"
            ],
            [
             1,
             "#f0f921"
            ]
           ],
           "sequentialminus": [
            [
             0,
             "#0d0887"
            ],
            [
             0.1111111111111111,
             "#46039f"
            ],
            [
             0.2222222222222222,
             "#7201a8"
            ],
            [
             0.3333333333333333,
             "#9c179e"
            ],
            [
             0.4444444444444444,
             "#bd3786"
            ],
            [
             0.5555555555555556,
             "#d8576b"
            ],
            [
             0.6666666666666666,
             "#ed7953"
            ],
            [
             0.7777777777777778,
             "#fb9f3a"
            ],
            [
             0.8888888888888888,
             "#fdca26"
            ],
            [
             1,
             "#f0f921"
            ]
           ]
          },
          "colorway": [
           "#636efa",
           "#EF553B",
           "#00cc96",
           "#ab63fa",
           "#FFA15A",
           "#19d3f3",
           "#FF6692",
           "#B6E880",
           "#FF97FF",
           "#FECB52"
          ],
          "font": {
           "color": "#2a3f5f"
          },
          "geo": {
           "bgcolor": "white",
           "lakecolor": "white",
           "landcolor": "#E5ECF6",
           "showlakes": true,
           "showland": true,
           "subunitcolor": "white"
          },
          "hoverlabel": {
           "align": "left"
          },
          "hovermode": "closest",
          "mapbox": {
           "style": "light"
          },
          "paper_bgcolor": "white",
          "plot_bgcolor": "#E5ECF6",
          "polar": {
           "angularaxis": {
            "gridcolor": "white",
            "linecolor": "white",
            "ticks": ""
           },
           "bgcolor": "#E5ECF6",
           "radialaxis": {
            "gridcolor": "white",
            "linecolor": "white",
            "ticks": ""
           }
          },
          "scene": {
           "xaxis": {
            "backgroundcolor": "#E5ECF6",
            "gridcolor": "white",
            "gridwidth": 2,
            "linecolor": "white",
            "showbackground": true,
            "ticks": "",
            "zerolinecolor": "white"
           },
           "yaxis": {
            "backgroundcolor": "#E5ECF6",
            "gridcolor": "white",
            "gridwidth": 2,
            "linecolor": "white",
            "showbackground": true,
            "ticks": "",
            "zerolinecolor": "white"
           },
           "zaxis": {
            "backgroundcolor": "#E5ECF6",
            "gridcolor": "white",
            "gridwidth": 2,
            "linecolor": "white",
            "showbackground": true,
            "ticks": "",
            "zerolinecolor": "white"
           }
          },
          "shapedefaults": {
           "line": {
            "color": "#2a3f5f"
           }
          },
          "ternary": {
           "aaxis": {
            "gridcolor": "white",
            "linecolor": "white",
            "ticks": ""
           },
           "baxis": {
            "gridcolor": "white",
            "linecolor": "white",
            "ticks": ""
           },
           "bgcolor": "#E5ECF6",
           "caxis": {
            "gridcolor": "white",
            "linecolor": "white",
            "ticks": ""
           }
          },
          "title": {
           "x": 0.05
          },
          "xaxis": {
           "automargin": true,
           "gridcolor": "white",
           "linecolor": "white",
           "ticks": "",
           "title": {
            "standoff": 15
           },
           "zerolinecolor": "white",
           "zerolinewidth": 2
          },
          "yaxis": {
           "automargin": true,
           "gridcolor": "white",
           "linecolor": "white",
           "ticks": "",
           "title": {
            "standoff": 15
           },
           "zerolinecolor": "white",
           "zerolinewidth": 2
          }
         }
        },
        "title": {
         "text": "Total Sales by Product Range"
        }
       }
      },
      "image/png": "[encoded data removed]",
      "text/html": [
       "<div>                            <div id=\"deea9cc8-9a6b-4d10-a231-1a85089df4cc\" class=\"plotly-graph-div\" style=\"height:525px; width:100%;\"></div>            <script type=\"text/javascript\">                require([\"plotly\"], function(Plotly) {                    window.PLOTLYENV=window.PLOTLYENV || {};                                    if (document.getElementById(\"deea9cc8-9a6b-4d10-a231-1a85089df4cc\")) {                    Plotly.newPlot(                        \"deea9cc8-9a6b-4d10-a231-1a85089df4cc\",                        [{\"domain\":{\"x\":[0.0,1.0],\"y\":[0.0,1.0]},\"hovertemplate\":\"Product=%{label}\\u003cbr\\u003ePrice=%{value}\\u003cextra\\u003e\\u003c\\u002fextra\\u003e\",\"labels\":[\"2kg Dark Blend\",\"2kg Light Roast\",\"2kg Smooth Blend\",\"2kg Cafe Blend\",\"2kg Cafe Single Origin\",\"2kg Single Origin Custom\",\"2kg Single Origin Select\",\"2kg Everyday Blend\",\"4kg Everyday Blend\"],\"legendgroup\":\"\",\"name\":\"\",\"showlegend\":true,\"values\":[880.4,617.1,675.8000000000001,1132.8,504.9,68.1,907.4,363.0,220.5],\"type\":\"pie\"}],                        {\"template\":{\"data\":{\"histogram2dcontour\":[{\"type\":\"histogram2dcontour\",\"colorbar\":{\"outlinewidth\":0,\"ticks\":\"\"},\"colorscale\":[[0.0,\"#0d0887\"],[0.1111111111111111,\"#46039f\"],[0.2222222222222222,\"#7201a8\"],[0.3333333333333333,\"#9c179e\"],[0.4444444444444444,\"#bd3786\"],[0.5555555555555556,\"#d8576b\"],[0.6666666666666666,\"#ed7953\"],[0.7777777777777778,\"#fb9f3a\"],[0.8888888888888888,\"#fdca26\"],[1.0,\"#f0f921\"]]}],\"choropleth\":[{\"type\":\"choropleth\",\"colorbar\":{\"outlinewidth\":0,\"ticks\":\"\"}}],\"histogram2d\":[{\"type\":\"histogram2d\",\"colorbar\":{\"outlinewidth\":0,\"ticks\":\"\"},\"colorscale\":[[0.0,\"#0d0887\"],[0.1111111111111111,\"#46039f\"],[0.2222222222222222,\"#7201a8\"],[0.3333333333333333,\"#9c179e\"],[0.4444444444444444,\"#bd3786\"],[0.5555555555555556,\"#d8576b\"],[0.6666666666666666,\"#ed7953\"],[0.7777777777777778,\"#fb9f3a\"],[0.8888888888888888,\"#fdca26\"],[1.0,\"#f0f921\"]]}],\"heatmap\":[{\"type\":\"heatmap\",\"colorbar\":{\"outlinewidth\":0,\"ticks\":\"\"},\"colorscale\":[[0.0,\"#0d0887\"],[0.1111111111111111,\"#46039f\"],[0.2222222222222222,\"#7201a8\"],[0.3333333333333333,\"#9c179e\"],[0.4444444444444444,\"#bd3786\"],[0.5555555555555556,\"#d8576b\"],[0.6666666666666666,\"#ed7953\"],[0.7777777777777778,\"#fb9f3a\"],[0.8888888888888888,\"#fdca26\"],[1.0,\"#f0f921\"]]}],\"heatmapgl\":[{\"type\":\"heatmapgl\",\"colorbar\":{\"outlinewidth\":0,\"ticks\":\"\"},\"colorscale\":[[0.0,\"#0d0887\"],[0.1111111111111111,\"#46039f\"],[0.2222222222222222,\"#7201a8\"],[0.3333333333333333,\"#9c179e\"],[0.4444444444444444,\"#bd3786\"],[0.5555555555555556,\"#d8576b\"],[0.6666666666666666,\"#ed7953\"],[0.7777777777777778,\"#fb9f3a\"],[0.8888888888888888,\"#fdca26\"],[1.0,\"#f0f921\"]]}],\"contourcarpet\":[{\"type\":\"contourcarpet\",\"colorbar\":{\"outlinewidth\":0,\"ticks\":\"\"}}],\"contour\":[{\"type\":\"contour\",\"colorbar\":{\"outlinewidth\":0,\"ticks\":\"\"},\"colorscale\":[[0.0,\"#0d0887\"],[0.1111111111111111,\"#46039f\"],[0.2222222222222222,\"#7201a8\"],[0.3333333333333333,\"#9c179e\"],[0.4444444444444444,\"#bd3786\"],[0.5555555555555556,\"#d8576b\"],[0.6666666666666666,\"#ed7953\"],[0.7777777777777778,\"#fb9f3a\"],[0.8888888888888888,\"#fdca26\"],[1.0,\"#f0f921\"]]}],\"surface\":[{\"type\":\"surface\",\"colorbar\":{\"outlinewidth\":0,\"ticks\":\"\"},\"colorscale\":[[0.0,\"#0d0887\"],[0.1111111111111111,\"#46039f\"],[0.2222222222222222,\"#7201a8\"],[0.3333333333333333,\"#9c179e\"],[0.4444444444444444,\"#bd3786\"],[0.5555555555555556,\"#d8576b\"],[0.6666666666666666,\"#ed7953\"],[0.7777777777777778,\"#fb9f3a\"],[0.8888888888888888,\"#fdca26\"],[1.0,\"#f0f921\"]]}],\"mesh3d\":[{\"type\":\"mesh3d\",\"colorbar\":{\"outlinewidth\":0,\"ticks\":\"\"}}],\"scatter\":[{\"fillpattern\":{\"fillmode\":\"overlay\",\"size\":10,\"solidity\":0.2},\"type\":\"scatter\"}],\"parcoords\":[{\"type\":\"parcoords\",\"line\":{\"colorbar\":{\"outlinewidth\":0,\"ticks\":\"\"}}}],\"scatterpolargl\":[{\"type\":\"scatterpolargl\",\"marker\":{\"colorbar\":{\"outlinewidth\":0,\"ticks\":\"\"}}}],\"bar\":[{\"error_x\":{\"color\":\"#2a3f5f\"},\"error_y\":{\"color\":\"#2a3f5f\"},\"marker\":{\"line\":{\"color\":\"#E5ECF6\",\"width\":0.5},\"pattern\":{\"fillmode\":\"overlay\",\"size\":10,\"solidity\":0.2}},\"type\":\"bar\"}],\"scattergeo\":[{\"type\":\"scattergeo\",\"marker\":{\"colorbar\":{\"outlinewidth\":0,\"ticks\":\"\"}}}],\"scatterpolar\":[{\"type\":\"scatterpolar\",\"marker\":{\"colorbar\":{\"outlinewidth\":0,\"ticks\":\"\"}}}],\"histogram\":[{\"marker\":{\"pattern\":{\"fillmode\":\"overlay\",\"size\":10,\"solidity\":0.2}},\"type\":\"histogram\"}],\"scattergl\":[{\"type\":\"scattergl\",\"marker\":{\"colorbar\":{\"outlinewidth\":0,\"ticks\":\"\"}}}],\"scatter3d\":[{\"type\":\"scatter3d\",\"line\":{\"colorbar\":{\"outlinewidth\":0,\"ticks\":\"\"}},\"marker\":{\"colorbar\":{\"outlinewidth\":0,\"ticks\":\"\"}}}],\"scattermapbox\":[{\"type\":\"scattermapbox\",\"marker\":{\"colorbar\":{\"outlinewidth\":0,\"ticks\":\"\"}}}],\"scatterternary\":[{\"type\":\"scatterternary\",\"marker\":{\"colorbar\":{\"outlinewidth\":0,\"ticks\":\"\"}}}],\"scattercarpet\":[{\"type\":\"scattercarpet\",\"marker\":{\"colorbar\":{\"outlinewidth\":0,\"ticks\":\"\"}}}],\"carpet\":[{\"aaxis\":{\"endlinecolor\":\"#2a3f5f\",\"gridcolor\":\"white\",\"linecolor\":\"white\",\"minorgridcolor\":\"white\",\"startlinecolor\":\"#2a3f5f\"},\"baxis\":{\"endlinecolor\":\"#2a3f5f\",\"gridcolor\":\"white\",\"linecolor\":\"white\",\"minorgridcolor\":\"white\",\"startlinecolor\":\"#2a3f5f\"},\"type\":\"carpet\"}],\"table\":[{\"cells\":{\"fill\":{\"color\":\"#EBF0F8\"},\"line\":{\"color\":\"white\"}},\"header\":{\"fill\":{\"color\":\"#C8D4E3\"},\"line\":{\"color\":\"white\"}},\"type\":\"table\"}],\"barpolar\":[{\"marker\":{\"line\":{\"color\":\"#E5ECF6\",\"width\":0.5},\"pattern\":{\"fillmode\":\"overlay\",\"size\":10,\"solidity\":0.2}},\"type\":\"barpolar\"}],\"pie\":[{\"automargin\":true,\"type\":\"pie\"}]},\"layout\":{\"autotypenumbers\":\"strict\",\"colorway\":[\"#636efa\",\"#EF553B\",\"#00cc96\",\"#ab63fa\",\"#FFA15A\",\"#19d3f3\",\"#FF6692\",\"#B6E880\",\"#FF97FF\",\"#FECB52\"],\"font\":{\"color\":\"#2a3f5f\"},\"hovermode\":\"closest\",\"hoverlabel\":{\"align\":\"left\"},\"paper_bgcolor\":\"white\",\"plot_bgcolor\":\"#E5ECF6\",\"polar\":{\"bgcolor\":\"#E5ECF6\",\"angularaxis\":{\"gridcolor\":\"white\",\"linecolor\":\"white\",\"ticks\":\"\"},\"radialaxis\":{\"gridcolor\":\"white\",\"linecolor\":\"white\",\"ticks\":\"\"}},\"ternary\":{\"bgcolor\":\"#E5ECF6\",\"aaxis\":{\"gridcolor\":\"white\",\"linecolor\":\"white\",\"ticks\":\"\"},\"baxis\":{\"gridcolor\":\"white\",\"linecolor\":\"white\",\"ticks\":\"\"},\"caxis\":{\"gridcolor\":\"white\",\"linecolor\":\"white\",\"ticks\":\"\"}},\"coloraxis\":{\"colorbar\":{\"outlinewidth\":0,\"ticks\":\"\"}},\"colorscale\":{\"sequential\":[[0.0,\"#0d0887\"],[0.1111111111111111,\"#46039f\"],[0.2222222222222222,\"#7201a8\"],[0.3333333333333333,\"#9c179e\"],[0.4444444444444444,\"#bd3786\"],[0.5555555555555556,\"#d8576b\"],[0.6666666666666666,\"#ed7953\"],[0.7777777777777778,\"#fb9f3a\"],[0.8888888888888888,\"#fdca26\"],[1.0,\"#f0f921\"]],\"sequentialminus\":[[0.0,\"#0d0887\"],[0.1111111111111111,\"#46039f\"],[0.2222222222222222,\"#7201a8\"],[0.3333333333333333,\"#9c179e\"],[0.4444444444444444,\"#bd3786\"],[0.5555555555555556,\"#d8576b\"],[0.6666666666666666,\"#ed7953\"],[0.7777777777777778,\"#fb9f3a\"],[0.8888888888888888,\"#fdca26\"],[1.0,\"#f0f921\"]],\"diverging\":[[0,\"#8e0152\"],[0.1,\"#c51b7d\"],[0.2,\"#de77ae\"],[0.3,\"#f1b6da\"],[0.4,\"#fde0ef\"],[0.5,\"#f7f7f7\"],[0.6,\"#e6f5d0\"],[0.7,\"#b8e186\"],[0.8,\"#7fbc41\"],[0.9,\"#4d9221\"],[1,\"#276419\"]]},\"xaxis\":{\"gridcolor\":\"white\",\"linecolor\":\"white\",\"ticks\":\"\",\"title\":{\"standoff\":15},\"zerolinecolor\":\"white\",\"automargin\":true,\"zerolinewidth\":2},\"yaxis\":{\"gridcolor\":\"white\",\"linecolor\":\"white\",\"ticks\":\"\",\"title\":{\"standoff\":15},\"zerolinecolor\":\"white\",\"automargin\":true,\"zerolinewidth\":2},\"scene\":{\"xaxis\":{\"backgroundcolor\":\"#E5ECF6\",\"gridcolor\":\"white\",\"linecolor\":\"white\",\"showbackground\":true,\"ticks\":\"\",\"zerolinecolor\":\"white\",\"gridwidth\":2},\"yaxis\":{\"backgroundcolor\":\"#E5ECF6\",\"gridcolor\":\"white\",\"linecolor\":\"white\",\"showbackground\":true,\"ticks\":\"\",\"zerolinecolor\":\"white\",\"gridwidth\":2},\"zaxis\":{\"backgroundcolor\":\"#E5ECF6\",\"gridcolor\":\"white\",\"linecolor\":\"white\",\"showbackground\":true,\"ticks\":\"\",\"zerolinecolor\":\"white\",\"gridwidth\":2}},\"shapedefaults\":{\"line\":{\"color\":\"#2a3f5f\"}},\"annotationdefaults\":{\"arrowcolor\":\"#2a3f5f\",\"arrowhead\":0,\"arrowwidth\":1},\"geo\":{\"bgcolor\":\"white\",\"landcolor\":\"#E5ECF6\",\"subunitcolor\":\"white\",\"showland\":true,\"showlakes\":true,\"lakecolor\":\"white\"},\"title\":{\"x\":0.05},\"mapbox\":{\"style\":\"light\"}}},\"legend\":{\"tracegroupgap\":0},\"title\":{\"text\":\"Total Sales by Product Range\"}},                        {\"responsive\": true}                    ).then(function(){\n",
       "                            \n",
       "var gd = document.getElementById('deea9cc8-9a6b-4d10-a231-1a85089df4cc');\n",
       "var x = new MutationObserver(function (mutations, observer) {{\n",
       "        var display = window.getComputedStyle(gd).display;\n",
       "        if (!display || display === 'none') {{\n",
       "            console.log([gd, 'removed!']);\n",
       "            Plotly.purge(gd);\n",
       "            observer.disconnect();\n",
       "        }}\n",
       "}});\n",
       "\n",
       "// Listen for the removal of the full notebook cells\n",
       "var notebookContainer = gd.closest('#notebook-container');\n",
       "if (notebookContainer) {{\n",
       "    x.observe(notebookContainer, {childList: true});\n",
       "}}\n",
       "\n",
       "// Listen for the clearing of the current output cell\n",
       "var outputEl = gd.closest('.output');\n",
       "if (outputEl) {{\n",
       "    x.observe(outputEl, {childList: true});\n",
       "}}\n",
       "\n",
       "                        })                };                });            </script>        </div>"
      ]
     },
     "metadata": {},
     "output_type": "display_data"
    },
    {
     "data": {
      "application/vnd.plotly.v1+json": {
       "config": {
        "plotlyServerURL": "https://plot.ly"
       },
       "data": [
        {
         "alignmentgroup": "True",
         "hovertemplate": "Product=2kg Dark Blend<br>Range=%{x}<br>Price=%{y}<extra></extra>",
         "legendgroup": "2kg Dark Blend",
         "marker": {
          "color": "#636efa",
          "pattern": {
           "shape": ""
          }
         },
         "name": "2kg Dark Blend",
         "offsetgroup": "2kg Dark Blend",
         "orientation": "v",
         "showlegend": true,
         "textposition": "auto",
         "type": "bar",
         "x": [
          "Barista"
         ],
         "xaxis": "x",
         "y": [
          880.4
         ],
         "yaxis": "y"
        },
        {
         "alignmentgroup": "True",
         "hovertemplate": "Product=2kg Light Roast<br>Range=%{x}<br>Price=%{y}<extra></extra>",
         "legendgroup": "2kg Light Roast",
         "marker": {
          "color": "#EF553B",
          "pattern": {
           "shape": ""
          }
         },
         "name": "2kg Light Roast",
         "offsetgroup": "2kg Light Roast",
         "orientation": "v",
         "showlegend": true,
         "textposition": "auto",
         "type": "bar",
         "x": [
          "Barista"
         ],
         "xaxis": "x",
         "y": [
          617.1
         ],
         "yaxis": "y"
        },
        {
         "alignmentgroup": "True",
         "hovertemplate": "Product=2kg Smooth Blend<br>Range=%{x}<br>Price=%{y}<extra></extra>",
         "legendgroup": "2kg Smooth Blend",
         "marker": {
          "color": "#00cc96",
          "pattern": {
           "shape": ""
          }
         },
         "name": "2kg Smooth Blend",
         "offsetgroup": "2kg Smooth Blend",
         "orientation": "v",
         "showlegend": true,
         "textposition": "auto",
         "type": "bar",
         "x": [
          "Barista"
         ],
         "xaxis": "x",
         "y": [
          675.8000000000001
         ],
         "yaxis": "y"
        },
        {
         "alignmentgroup": "True",
         "hovertemplate": "Product=2kg Cafe Blend<br>Range=%{x}<br>Price=%{y}<extra></extra>",
         "legendgroup": "2kg Cafe Blend",
         "marker": {
          "color": "#ab63fa",
          "pattern": {
           "shape": ""
          }
         },
         "name": "2kg Cafe Blend",
         "offsetgroup": "2kg Cafe Blend",
         "orientation": "v",
         "showlegend": true,
         "textposition": "auto",
         "type": "bar",
         "x": [
          "Cafe"
         ],
         "xaxis": "x",
         "y": [
          1132.8
         ],
         "yaxis": "y"
        },
        {
         "alignmentgroup": "True",
         "hovertemplate": "Product=2kg Cafe Single Origin<br>Range=%{x}<br>Price=%{y}<extra></extra>",
         "legendgroup": "2kg Cafe Single Origin",
         "marker": {
          "color": "#FFA15A",
          "pattern": {
           "shape": ""
          }
         },
         "name": "2kg Cafe Single Origin",
         "offsetgroup": "2kg Cafe Single Origin",
         "orientation": "v",
         "showlegend": true,
         "textposition": "auto",
         "type": "bar",
         "x": [
          "Cafe"
         ],
         "xaxis": "x",
         "y": [
          504.9
         ],
         "yaxis": "y"
        },
        {
         "alignmentgroup": "True",
         "hovertemplate": "Product=2kg Single Origin Custom<br>Range=%{x}<br>Price=%{y}<extra></extra>",
         "legendgroup": "2kg Single Origin Custom",
         "marker": {
          "color": "#19d3f3",
          "pattern": {
           "shape": ""
          }
         },
         "name": "2kg Single Origin Custom",
         "offsetgroup": "2kg Single Origin Custom",
         "orientation": "v",
         "showlegend": true,
         "textposition": "auto",
         "type": "bar",
         "x": [
          "Cafe"
         ],
         "xaxis": "x",
         "y": [
          68.1
         ],
         "yaxis": "y"
        },
        {
         "alignmentgroup": "True",
         "hovertemplate": "Product=2kg Single Origin Select<br>Range=%{x}<br>Price=%{y}<extra></extra>",
         "legendgroup": "2kg Single Origin Select",
         "marker": {
          "color": "#FF6692",
          "pattern": {
           "shape": ""
          }
         },
         "name": "2kg Single Origin Select",
         "offsetgroup": "2kg Single Origin Select",
         "orientation": "v",
         "showlegend": true,
         "textposition": "auto",
         "type": "bar",
         "x": [
          "Premium"
         ],
         "xaxis": "x",
         "y": [
          907.4
         ],
         "yaxis": "y"
        },
        {
         "alignmentgroup": "True",
         "hovertemplate": "Product=2kg Everyday Blend<br>Range=%{x}<br>Price=%{y}<extra></extra>",
         "legendgroup": "2kg Everyday Blend",
         "marker": {
          "color": "#B6E880",
          "pattern": {
           "shape": ""
          }
         },
         "name": "2kg Everyday Blend",
         "offsetgroup": "2kg Everyday Blend",
         "orientation": "v",
         "showlegend": true,
         "textposition": "auto",
         "type": "bar",
         "x": [
          "Standard"
         ],
         "xaxis": "x",
         "y": [
          363
         ],
         "yaxis": "y"
        },
        {
         "alignmentgroup": "True",
         "hovertemplate": "Product=4kg Everyday Blend<br>Range=%{x}<br>Price=%{y}<extra></extra>",
         "legendgroup": "4kg Everyday Blend",
         "marker": {
          "color": "#FF97FF",
          "pattern": {
           "shape": ""
          }
         },
         "name": "4kg Everyday Blend",
         "offsetgroup": "4kg Everyday Blend",
         "orientation": "v",
         "showlegend": true,
         "textposition": "auto",
         "type": "bar",
         "x": [
          "Standard"
         ],
         "xaxis": "x",
         "y": [
          220.5
         ],
         "yaxis": "y"
        }
       ],
       "layout": {
        "autosize": true,
        "barmode": "relative",
        "legend": {
         "title": {
          "text": "Product"
         },
         "tracegroupgap": 0
        },
        "template": {
         "data": {
          "bar": [
           {
            "error_x": {
             "color": "#2a3f5f"
            },
            "error_y": {
             "color": "#2a3f5f"
            },
            "marker": {
             "line": {
              "color": "#E5ECF6",
              "width": 0.5
             },
             "pattern": {
              "fillmode": "overlay",
              "size": 10,
              "solidity": 0.2
             }
            },
            "type": "bar"
           }
          ],
          "barpolar": [
           {
            "marker": {
             "line": {
              "color": "#E5ECF6",
              "width": 0.5
             },
             "pattern": {
              "fillmode": "overlay",
              "size": 10,
              "solidity": 0.2
             }
            },
            "type": "barpolar"
           }
          ],
          "carpet": [
           {
            "aaxis": {
             "endlinecolor": "#2a3f5f",
             "gridcolor": "white",
             "linecolor": "white",
             "minorgridcolor": "white",
             "startlinecolor": "#2a3f5f"
            },
            "baxis": {
             "endlinecolor": "#2a3f5f",
             "gridcolor": "white",
             "linecolor": "white",
             "minorgridcolor": "white",
             "startlinecolor": "#2a3f5f"
            },
            "type": "carpet"
           }
          ],
          "choropleth": [
           {
            "colorbar": {
             "outlinewidth": 0,
             "ticks": ""
            },
            "type": "choropleth"
           }
          ],
          "contour": [
           {
            "colorbar": {
             "outlinewidth": 0,
             "ticks": ""
            },
            "colorscale": [
             [
              0,
              "#0d0887"
             ],
             [
              0.1111111111111111,
              "#46039f"
             ],
             [
              0.2222222222222222,
              "#7201a8"
             ],
             [
              0.3333333333333333,
              "#9c179e"
             ],
             [
              0.4444444444444444,
              "#bd3786"
             ],
             [
              0.5555555555555556,
              "#d8576b"
             ],
             [
              0.6666666666666666,
              "#ed7953"
             ],
             [
              0.7777777777777778,
              "#fb9f3a"
             ],
             [
              0.8888888888888888,
              "#fdca26"
             ],
             [
              1,
              "#f0f921"
             ]
            ],
            "type": "contour"
           }
          ],
          "contourcarpet": [
           {
            "colorbar": {
             "outlinewidth": 0,
             "ticks": ""
            },
            "type": "contourcarpet"
           }
          ],
          "heatmap": [
           {
            "colorbar": {
             "outlinewidth": 0,
             "ticks": ""
            },
            "colorscale": [
             [
              0,
              "#0d0887"
             ],
             [
              0.1111111111111111,
              "#46039f"
             ],
             [
              0.2222222222222222,
              "#7201a8"
             ],
             [
              0.3333333333333333,
              "#9c179e"
             ],
             [
              0.4444444444444444,
              "#bd3786"
             ],
             [
              0.5555555555555556,
              "#d8576b"
             ],
             [
              0.6666666666666666,
              "#ed7953"
             ],
             [
              0.7777777777777778,
              "#fb9f3a"
             ],
             [
              0.8888888888888888,
              "#fdca26"
             ],
             [
              1,
              "#f0f921"
             ]
            ],
            "type": "heatmap"
           }
          ],
          "heatmapgl": [
           {
            "colorbar": {
             "outlinewidth": 0,
             "ticks": ""
            },
            "colorscale": [
             [
              0,
              "#0d0887"
             ],
             [
              0.1111111111111111,
              "#46039f"
             ],
             [
              0.2222222222222222,
              "#7201a8"
             ],
             [
              0.3333333333333333,
              "#9c179e"
             ],
             [
              0.4444444444444444,
              "#bd3786"
             ],
             [
              0.5555555555555556,
              "#d8576b"
             ],
             [
              0.6666666666666666,
              "#ed7953"
             ],
             [
              0.7777777777777778,
              "#fb9f3a"
             ],
             [
              0.8888888888888888,
              "#fdca26"
             ],
             [
              1,
              "#f0f921"
             ]
            ],
            "type": "heatmapgl"
           }
          ],
          "histogram": [
           {
            "marker": {
             "pattern": {
              "fillmode": "overlay",
              "size": 10,
              "solidity": 0.2
             }
            },
            "type": "histogram"
           }
          ],
          "histogram2d": [
           {
            "colorbar": {
             "outlinewidth": 0,
             "ticks": ""
            },
            "colorscale": [
             [
              0,
              "#0d0887"
             ],
             [
              0.1111111111111111,
              "#46039f"
             ],
             [
              0.2222222222222222,
              "#7201a8"
             ],
             [
              0.3333333333333333,
              "#9c179e"
             ],
             [
              0.4444444444444444,
              "#bd3786"
             ],
             [
              0.5555555555555556,
              "#d8576b"
             ],
             [
              0.6666666666666666,
              "#ed7953"
             ],
             [
              0.7777777777777778,
              "#fb9f3a"
             ],
             [
              0.8888888888888888,
              "#fdca26"
             ],
             [
              1,
              "#f0f921"
             ]
            ],
            "type": "histogram2d"
           }
          ],
          "histogram2dcontour": [
           {
            "colorbar": {
             "outlinewidth": 0,
             "ticks": ""
            },
            "colorscale": [
             [
              0,
              "#0d0887"
             ],
             [
              0.1111111111111111,
              "#46039f"
             ],
             [
              0.2222222222222222,
              "#7201a8"
             ],
             [
              0.3333333333333333,
              "#9c179e"
             ],
             [
              0.4444444444444444,
              "#bd3786"
             ],
             [
              0.5555555555555556,
              "#d8576b"
             ],
             [
              0.6666666666666666,
              "#ed7953"
             ],
             [
              0.7777777777777778,
              "#fb9f3a"
             ],
             [
              0.8888888888888888,
              "#fdca26"
             ],
             [
              1,
              "#f0f921"
             ]
            ],
            "type": "histogram2dcontour"
           }
          ],
          "mesh3d": [
           {
            "colorbar": {
             "outlinewidth": 0,
             "ticks": ""
            },
            "type": "mesh3d"
           }
          ],
          "parcoords": [
           {
            "line": {
             "colorbar": {
              "outlinewidth": 0,
              "ticks": ""
             }
            },
            "type": "parcoords"
           }
          ],
          "pie": [
           {
            "automargin": true,
            "type": "pie"
           }
          ],
          "scatter": [
           {
            "fillpattern": {
             "fillmode": "overlay",
             "size": 10,
             "solidity": 0.2
            },
            "type": "scatter"
           }
          ],
          "scatter3d": [
           {
            "line": {
             "colorbar": {
              "outlinewidth": 0,
              "ticks": ""
             }
            },
            "marker": {
             "colorbar": {
              "outlinewidth": 0,
              "ticks": ""
             }
            },
            "type": "scatter3d"
           }
          ],
          "scattercarpet": [
           {
            "marker": {
             "colorbar": {
              "outlinewidth": 0,
              "ticks": ""
             }
            },
            "type": "scattercarpet"
           }
          ],
          "scattergeo": [
           {
            "marker": {
             "colorbar": {
              "outlinewidth": 0,
              "ticks": ""
             }
            },
            "type": "scattergeo"
           }
          ],
          "scattergl": [
           {
            "marker": {
             "colorbar": {
              "outlinewidth": 0,
              "ticks": ""
             }
            },
            "type": "scattergl"
           }
          ],
          "scattermapbox": [
           {
            "marker": {
             "colorbar": {
              "outlinewidth": 0,
              "ticks": ""
             }
            },
            "type": "scattermapbox"
           }
          ],
          "scatterpolar": [
           {
            "marker": {
             "colorbar": {
              "outlinewidth": 0,
              "ticks": ""
             }
            },
            "type": "scatterpolar"
           }
          ],
          "scatterpolargl": [
           {
            "marker": {
             "colorbar": {
              "outlinewidth": 0,
              "ticks": ""
             }
            },
            "type": "scatterpolargl"
           }
          ],
          "scatterternary": [
           {
            "marker": {
             "colorbar": {
              "outlinewidth": 0,
              "ticks": ""
             }
            },
            "type": "scatterternary"
           }
          ],
          "surface": [
           {
            "colorbar": {
             "outlinewidth": 0,
             "ticks": ""
            },
            "colorscale": [
             [
              0,
              "#0d0887"
             ],
             [
              0.1111111111111111,
              "#46039f"
             ],
             [
              0.2222222222222222,
              "#7201a8"
             ],
             [
              0.3333333333333333,
              "#9c179e"
             ],
             [
              0.4444444444444444,
              "#bd3786"
             ],
             [
              0.5555555555555556,
              "#d8576b"
             ],
             [
              0.6666666666666666,
              "#ed7953"
             ],
             [
              0.7777777777777778,
              "#fb9f3a"
             ],
             [
              0.8888888888888888,
              "#fdca26"
             ],
             [
              1,
              "#f0f921"
             ]
            ],
            "type": "surface"
           }
          ],
          "table": [
           {
            "cells": {
             "fill": {
              "color": "#EBF0F8"
             },
             "line": {
              "color": "white"
             }
            },
            "header": {
             "fill": {
              "color": "#C8D4E3"
             },
             "line": {
              "color": "white"
             }
            },
            "type": "table"
           }
          ]
         },
         "layout": {
          "annotationdefaults": {
           "arrowcolor": "#2a3f5f",
           "arrowhead": 0,
           "arrowwidth": 1
          },
          "autotypenumbers": "strict",
          "coloraxis": {
           "colorbar": {
            "outlinewidth": 0,
            "ticks": ""
           }
          },
          "colorscale": {
           "diverging": [
            [
             0,
             "#8e0152"
            ],
            [
             0.1,
             "#c51b7d"
            ],
            [
             0.2,
             "#de77ae"
            ],
            [
             0.3,
             "#f1b6da"
            ],
            [
             0.4,
             "#fde0ef"
            ],
            [
             0.5,
             "#f7f7f7"
            ],
            [
             0.6,
             "#e6f5d0"
            ],
            [
             0.7,
             "#b8e186"
            ],
            [
             0.8,
             "#7fbc41"
            ],
            [
             0.9,
             "#4d9221"
            ],
            [
             1,
             "#276419"
            ]
           ],
           "sequential": [
            [
             0,
             "#0d0887"
            ],
            [
             0.1111111111111111,
             "#46039f"
            ],
            [
             0.2222222222222222,
             "#7201a8"
            ],
            [
             0.3333333333333333,
             "#9c179e"
            ],
            [
             0.4444444444444444,
             "#bd3786"
            ],
            [
             0.5555555555555556,
             "#d8576b"
            ],
            [
             0.6666666666666666,
             "#ed7953"
            ],
            [
             0.7777777777777778,
             "#fb9f3a"
            ],
            [
             0.8888888888888888,
             "#fdca26"
            ],
            [
             1,
             "#f0f921"
            ]
           ],
           "sequentialminus": [
            [
             0,
             "#0d0887"
            ],
            [
             0.1111111111111111,
             "#46039f"
            ],
            [
             0.2222222222222222,
             "#7201a8"
            ],
            [
             0.3333333333333333,
             "#9c179e"
            ],
            [
             0.4444444444444444,
             "#bd3786"
            ],
            [
             0.5555555555555556,
             "#d8576b"
            ],
            [
             0.6666666666666666,
             "#ed7953"
            ],
            [
             0.7777777777777778,
             "#fb9f3a"
            ],
            [
             0.8888888888888888,
             "#fdca26"
            ],
            [
             1,
             "#f0f921"
            ]
           ]
          },
          "colorway": [
           "#636efa",
           "#EF553B",
           "#00cc96",
           "#ab63fa",
           "#FFA15A",
           "#19d3f3",
           "#FF6692",
           "#B6E880",
           "#FF97FF",
           "#FECB52"
          ],
          "font": {
           "color": "#2a3f5f"
          },
          "geo": {
           "bgcolor": "white",
           "lakecolor": "white",
           "landcolor": "#E5ECF6",
           "showlakes": true,
           "showland": true,
           "subunitcolor": "white"
          },
          "hoverlabel": {
           "align": "left"
          },
          "hovermode": "closest",
          "mapbox": {
           "style": "light"
          },
          "paper_bgcolor": "white",
          "plot_bgcolor": "#E5ECF6",
          "polar": {
           "angularaxis": {
            "gridcolor": "white",
            "linecolor": "white",
            "ticks": ""
           },
           "bgcolor": "#E5ECF6",
           "radialaxis": {
            "gridcolor": "white",
            "linecolor": "white",
            "ticks": ""
           }
          },
          "scene": {
           "xaxis": {
            "backgroundcolor": "#E5ECF6",
            "gridcolor": "white",
            "gridwidth": 2,
            "linecolor": "white",
            "showbackground": true,
            "ticks": "",
            "zerolinecolor": "white"
           },
           "yaxis": {
            "backgroundcolor": "#E5ECF6",
            "gridcolor": "white",
            "gridwidth": 2,
            "linecolor": "white",
            "showbackground": true,
            "ticks": "",
            "zerolinecolor": "white"
           },
           "zaxis": {
            "backgroundcolor": "#E5ECF6",
            "gridcolor": "white",
            "gridwidth": 2,
            "linecolor": "white",
            "showbackground": true,
            "ticks": "",
            "zerolinecolor": "white"
           }
          },
          "shapedefaults": {
           "line": {
            "color": "#2a3f5f"
           }
          },
          "ternary": {
           "aaxis": {
            "gridcolor": "white",
            "linecolor": "white",
            "ticks": ""
           },
           "baxis": {
            "gridcolor": "white",
            "linecolor": "white",
            "ticks": ""
           },
           "bgcolor": "#E5ECF6",
           "caxis": {
            "gridcolor": "white",
            "linecolor": "white",
            "ticks": ""
           }
          },
          "title": {
           "x": 0.05
          },
          "xaxis": {
           "automargin": true,
           "gridcolor": "white",
           "linecolor": "white",
           "ticks": "",
           "title": {
            "standoff": 15
           },
           "zerolinecolor": "white",
           "zerolinewidth": 2
          },
          "yaxis": {
           "automargin": true,
           "gridcolor": "white",
           "linecolor": "white",
           "ticks": "",
           "title": {
            "standoff": 15
           },
           "zerolinecolor": "white",
           "zerolinewidth": 2
          }
         }
        },
        "title": {
         "text": "Total Sales by range"
        },
        "xaxis": {
         "anchor": "y",
         "autorange": true,
         "domain": [
          0,
          1
         ],
         "range": [
          -0.5,
          3.5
         ],
         "title": {
          "text": "Range"
         },
         "type": "category"
        },
        "yaxis": {
         "anchor": "x",
         "autorange": true,
         "domain": [
          0,
          1
         ],
         "range": [
          0,
          2287.684210526316
         ],
         "title": {
          "text": "Price"
         },
         "type": "linear"
        }
       }
      },
      "image/png": "[encoded data removed]",
      "text/html": [
       "<div>                            <div id=\"393b17e1-2617-4e91-97c9-8edbf236a630\" class=\"plotly-graph-div\" style=\"height:525px; width:100%;\"></div>            <script type=\"text/javascript\">                require([\"plotly\"], function(Plotly) {                    window.PLOTLYENV=window.PLOTLYENV || {};                                    if (document.getElementById(\"393b17e1-2617-4e91-97c9-8edbf236a630\")) {                    Plotly.newPlot(                        \"393b17e1-2617-4e91-97c9-8edbf236a630\",                        [{\"alignmentgroup\":\"True\",\"hovertemplate\":\"Product=2kg Dark Blend\\u003cbr\\u003eRange=%{x}\\u003cbr\\u003ePrice=%{y}\\u003cextra\\u003e\\u003c\\u002fextra\\u003e\",\"legendgroup\":\"2kg Dark Blend\",\"marker\":{\"color\":\"#636efa\",\"pattern\":{\"shape\":\"\"}},\"name\":\"2kg Dark Blend\",\"offsetgroup\":\"2kg Dark Blend\",\"orientation\":\"v\",\"showlegend\":true,\"textposition\":\"auto\",\"x\":[\"Barista\"],\"xaxis\":\"x\",\"y\":[880.4],\"yaxis\":\"y\",\"type\":\"bar\"},{\"alignmentgroup\":\"True\",\"hovertemplate\":\"Product=2kg Light Roast\\u003cbr\\u003eRange=%{x}\\u003cbr\\u003ePrice=%{y}\\u003cextra\\u003e\\u003c\\u002fextra\\u003e\",\"legendgroup\":\"2kg Light Roast\",\"marker\":{\"color\":\"#EF553B\",\"pattern\":{\"shape\":\"\"}},\"name\":\"2kg Light Roast\",\"offsetgroup\":\"2kg Light Roast\",\"orientation\":\"v\",\"showlegend\":true,\"textposition\":\"auto\",\"x\":[\"Barista\"],\"xaxis\":\"x\",\"y\":[617.1],\"yaxis\":\"y\",\"type\":\"bar\"},{\"alignmentgroup\":\"True\",\"hovertemplate\":\"Product=2kg Smooth Blend\\u003cbr\\u003eRange=%{x}\\u003cbr\\u003ePrice=%{y}\\u003cextra\\u003e\\u003c\\u002fextra\\u003e\",\"legendgroup\":\"2kg Smooth Blend\",\"marker\":{\"color\":\"#00cc96\",\"pattern\":{\"shape\":\"\"}},\"name\":\"2kg Smooth Blend\",\"offsetgroup\":\"2kg Smooth Blend\",\"orientation\":\"v\",\"showlegend\":true,\"textposition\":\"auto\",\"x\":[\"Barista\"],\"xaxis\":\"x\",\"y\":[675.8000000000001],\"yaxis\":\"y\",\"type\":\"bar\"},{\"alignmentgroup\":\"True\",\"hovertemplate\":\"Product=2kg Cafe Blend\\u003cbr\\u003eRange=%{x}\\u003cbr\\u003ePrice=%{y}\\u003cextra\\u003e\\u003c\\u002fextra\\u003e\",\"legendgroup\":\"2kg Cafe Blend\",\"marker\":{\"color\":\"#ab63fa\",\"pattern\":{\"shape\":\"\"}},\"name\":\"2kg Cafe Blend\",\"offsetgroup\":\"2kg Cafe Blend\",\"orientation\":\"v\",\"showlegend\":true,\"textposition\":\"auto\",\"x\":[\"Cafe\"],\"xaxis\":\"x\",\"y\":[1132.8],\"yaxis\":\"y\",\"type\":\"bar\"},{\"alignmentgroup\":\"True\",\"hovertemplate\":\"Product=2kg Cafe Single Origin\\u003cbr\\u003eRange=%{x}\\u003cbr\\u003ePrice=%{y}\\u003cextra\\u003e\\u003c\\u002fextra\\u003e\",\"legendgroup\":\"2kg Cafe Single Origin\",\"marker\":{\"color\":\"#FFA15A\",\"pattern\":{\"shape\":\"\"}},\"name\":\"2kg Cafe Single Origin\",\"offsetgroup\":\"2kg Cafe Single Origin\",\"orientation\":\"v\",\"showlegend\":true,\"textposition\":\"auto\",\"x\":[\"Cafe\"],\"xaxis\":\"x\",\"y\":[504.9],\"yaxis\":\"y\",\"type\":\"bar\"},{\"alignmentgroup\":\"True\",\"hovertemplate\":\"Product=2kg Single Origin Custom\\u003cbr\\u003eRange=%{x}\\u003cbr\\u003ePrice=%{y}\\u003cextra\\u003e\\u003c\\u002fextra\\u003e\",\"legendgroup\":\"2kg Single Origin Custom\",\"marker\":{\"color\":\"#19d3f3\",\"pattern\":{\"shape\":\"\"}},\"name\":\"2kg Single Origin Custom\",\"offsetgroup\":\"2kg Single Origin Custom\",\"orientation\":\"v\",\"showlegend\":true,\"textposition\":\"auto\",\"x\":[\"Cafe\"],\"xaxis\":\"x\",\"y\":[68.1],\"yaxis\":\"y\",\"type\":\"bar\"},{\"alignmentgroup\":\"True\",\"hovertemplate\":\"Product=2kg Single Origin Select\\u003cbr\\u003eRange=%{x}\\u003cbr\\u003ePrice=%{y}\\u003cextra\\u003e\\u003c\\u002fextra\\u003e\",\"legendgroup\":\"2kg Single Origin Select\",\"marker\":{\"color\":\"#FF6692\",\"pattern\":{\"shape\":\"\"}},\"name\":\"2kg Single Origin Select\",\"offsetgroup\":\"2kg Single Origin Select\",\"orientation\":\"v\",\"showlegend\":true,\"textposition\":\"auto\",\"x\":[\"Premium\"],\"xaxis\":\"x\",\"y\":[907.4],\"yaxis\":\"y\",\"type\":\"bar\"},{\"alignmentgroup\":\"True\",\"hovertemplate\":\"Product=2kg Everyday Blend\\u003cbr\\u003eRange=%{x}\\u003cbr\\u003ePrice=%{y}\\u003cextra\\u003e\\u003c\\u002fextra\\u003e\",\"legendgroup\":\"2kg Everyday Blend\",\"marker\":{\"color\":\"#B6E880\",\"pattern\":{\"shape\":\"\"}},\"name\":\"2kg Everyday Blend\",\"offsetgroup\":\"2kg Everyday Blend\",\"orientation\":\"v\",\"showlegend\":true,\"textposition\":\"auto\",\"x\":[\"Standard\"],\"xaxis\":\"x\",\"y\":[363.0],\"yaxis\":\"y\",\"type\":\"bar\"},{\"alignmentgroup\":\"True\",\"hovertemplate\":\"Product=4kg Everyday Blend\\u003cbr\\u003eRange=%{x}\\u003cbr\\u003ePrice=%{y}\\u003cextra\\u003e\\u003c\\u002fextra\\u003e\",\"legendgroup\":\"4kg Everyday Blend\",\"marker\":{\"color\":\"#FF97FF\",\"pattern\":{\"shape\":\"\"}},\"name\":\"4kg Everyday Blend\",\"offsetgroup\":\"4kg Everyday Blend\",\"orientation\":\"v\",\"showlegend\":true,\"textposition\":\"auto\",\"x\":[\"Standard\"],\"xaxis\":\"x\",\"y\":[220.5],\"yaxis\":\"y\",\"type\":\"bar\"}],                        {\"template\":{\"data\":{\"histogram2dcontour\":[{\"type\":\"histogram2dcontour\",\"colorbar\":{\"outlinewidth\":0,\"ticks\":\"\"},\"colorscale\":[[0.0,\"#0d0887\"],[0.1111111111111111,\"#46039f\"],[0.2222222222222222,\"#7201a8\"],[0.3333333333333333,\"#9c179e\"],[0.4444444444444444,\"#bd3786\"],[0.5555555555555556,\"#d8576b\"],[0.6666666666666666,\"#ed7953\"],[0.7777777777777778,\"#fb9f3a\"],[0.8888888888888888,\"#fdca26\"],[1.0,\"#f0f921\"]]}],\"choropleth\":[{\"type\":\"choropleth\",\"colorbar\":{\"outlinewidth\":0,\"ticks\":\"\"}}],\"histogram2d\":[{\"type\":\"histogram2d\",\"colorbar\":{\"outlinewidth\":0,\"ticks\":\"\"},\"colorscale\":[[0.0,\"#0d0887\"],[0.1111111111111111,\"#46039f\"],[0.2222222222222222,\"#7201a8\"],[0.3333333333333333,\"#9c179e\"],[0.4444444444444444,\"#bd3786\"],[0.5555555555555556,\"#d8576b\"],[0.6666666666666666,\"#ed7953\"],[0.7777777777777778,\"#fb9f3a\"],[0.8888888888888888,\"#fdca26\"],[1.0,\"#f0f921\"]]}],\"heatmap\":[{\"type\":\"heatmap\",\"colorbar\":{\"outlinewidth\":0,\"ticks\":\"\"},\"colorscale\":[[0.0,\"#0d0887\"],[0.1111111111111111,\"#46039f\"],[0.2222222222222222,\"#7201a8\"],[0.3333333333333333,\"#9c179e\"],[0.4444444444444444,\"#bd3786\"],[0.5555555555555556,\"#d8576b\"],[0.6666666666666666,\"#ed7953\"],[0.7777777777777778,\"#fb9f3a\"],[0.8888888888888888,\"#fdca26\"],[1.0,\"#f0f921\"]]}],\"heatmapgl\":[{\"type\":\"heatmapgl\",\"colorbar\":{\"outlinewidth\":0,\"ticks\":\"\"},\"colorscale\":[[0.0,\"#0d0887\"],[0.1111111111111111,\"#46039f\"],[0.2222222222222222,\"#7201a8\"],[0.3333333333333333,\"#9c179e\"],[0.4444444444444444,\"#bd3786\"],[0.5555555555555556,\"#d8576b\"],[0.6666666666666666,\"#ed7953\"],[0.7777777777777778,\"#fb9f3a\"],[0.8888888888888888,\"#fdca26\"],[1.0,\"#f0f921\"]]}],\"contourcarpet\":[{\"type\":\"contourcarpet\",\"colorbar\":{\"outlinewidth\":0,\"ticks\":\"\"}}],\"contour\":[{\"type\":\"contour\",\"colorbar\":{\"outlinewidth\":0,\"ticks\":\"\"},\"colorscale\":[[0.0,\"#0d0887\"],[0.1111111111111111,\"#46039f\"],[0.2222222222222222,\"#7201a8\"],[0.3333333333333333,\"#9c179e\"],[0.4444444444444444,\"#bd3786\"],[0.5555555555555556,\"#d8576b\"],[0.6666666666666666,\"#ed7953\"],[0.7777777777777778,\"#fb9f3a\"],[0.8888888888888888,\"#fdca26\"],[1.0,\"#f0f921\"]]}],\"surface\":[{\"type\":\"surface\",\"colorbar\":{\"outlinewidth\":0,\"ticks\":\"\"},\"colorscale\":[[0.0,\"#0d0887\"],[0.1111111111111111,\"#46039f\"],[0.2222222222222222,\"#7201a8\"],[0.3333333333333333,\"#9c179e\"],[0.4444444444444444,\"#bd3786\"],[0.5555555555555556,\"#d8576b\"],[0.6666666666666666,\"#ed7953\"],[0.7777777777777778,\"#fb9f3a\"],[0.8888888888888888,\"#fdca26\"],[1.0,\"#f0f921\"]]}],\"mesh3d\":[{\"type\":\"mesh3d\",\"colorbar\":{\"outlinewidth\":0,\"ticks\":\"\"}}],\"scatter\":[{\"fillpattern\":{\"fillmode\":\"overlay\",\"size\":10,\"solidity\":0.2},\"type\":\"scatter\"}],\"parcoords\":[{\"type\":\"parcoords\",\"line\":{\"colorbar\":{\"outlinewidth\":0,\"ticks\":\"\"}}}],\"scatterpolargl\":[{\"type\":\"scatterpolargl\",\"marker\":{\"colorbar\":{\"outlinewidth\":0,\"ticks\":\"\"}}}],\"bar\":[{\"error_x\":{\"color\":\"#2a3f5f\"},\"error_y\":{\"color\":\"#2a3f5f\"},\"marker\":{\"line\":{\"color\":\"#E5ECF6\",\"width\":0.5},\"pattern\":{\"fillmode\":\"overlay\",\"size\":10,\"solidity\":0.2}},\"type\":\"bar\"}],\"scattergeo\":[{\"type\":\"scattergeo\",\"marker\":{\"colorbar\":{\"outlinewidth\":0,\"ticks\":\"\"}}}],\"scatterpolar\":[{\"type\":\"scatterpolar\",\"marker\":{\"colorbar\":{\"outlinewidth\":0,\"ticks\":\"\"}}}],\"histogram\":[{\"marker\":{\"pattern\":{\"fillmode\":\"overlay\",\"size\":10,\"solidity\":0.2}},\"type\":\"histogram\"}],\"scattergl\":[{\"type\":\"scattergl\",\"marker\":{\"colorbar\":{\"outlinewidth\":0,\"ticks\":\"\"}}}],\"scatter3d\":[{\"type\":\"scatter3d\",\"line\":{\"colorbar\":{\"outlinewidth\":0,\"ticks\":\"\"}},\"marker\":{\"colorbar\":{\"outlinewidth\":0,\"ticks\":\"\"}}}],\"scattermapbox\":[{\"type\":\"scattermapbox\",\"marker\":{\"colorbar\":{\"outlinewidth\":0,\"ticks\":\"\"}}}],\"scatterternary\":[{\"type\":\"scatterternary\",\"marker\":{\"colorbar\":{\"outlinewidth\":0,\"ticks\":\"\"}}}],\"scattercarpet\":[{\"type\":\"scattercarpet\",\"marker\":{\"colorbar\":{\"outlinewidth\":0,\"ticks\":\"\"}}}],\"carpet\":[{\"aaxis\":{\"endlinecolor\":\"#2a3f5f\",\"gridcolor\":\"white\",\"linecolor\":\"white\",\"minorgridcolor\":\"white\",\"startlinecolor\":\"#2a3f5f\"},\"baxis\":{\"endlinecolor\":\"#2a3f5f\",\"gridcolor\":\"white\",\"linecolor\":\"white\",\"minorgridcolor\":\"white\",\"startlinecolor\":\"#2a3f5f\"},\"type\":\"carpet\"}],\"table\":[{\"cells\":{\"fill\":{\"color\":\"#EBF0F8\"},\"line\":{\"color\":\"white\"}},\"header\":{\"fill\":{\"color\":\"#C8D4E3\"},\"line\":{\"color\":\"white\"}},\"type\":\"table\"}],\"barpolar\":[{\"marker\":{\"line\":{\"color\":\"#E5ECF6\",\"width\":0.5},\"pattern\":{\"fillmode\":\"overlay\",\"size\":10,\"solidity\":0.2}},\"type\":\"barpolar\"}],\"pie\":[{\"automargin\":true,\"type\":\"pie\"}]},\"layout\":{\"autotypenumbers\":\"strict\",\"colorway\":[\"#636efa\",\"#EF553B\",\"#00cc96\",\"#ab63fa\",\"#FFA15A\",\"#19d3f3\",\"#FF6692\",\"#B6E880\",\"#FF97FF\",\"#FECB52\"],\"font\":{\"color\":\"#2a3f5f\"},\"hovermode\":\"closest\",\"hoverlabel\":{\"align\":\"left\"},\"paper_bgcolor\":\"white\",\"plot_bgcolor\":\"#E5ECF6\",\"polar\":{\"bgcolor\":\"#E5ECF6\",\"angularaxis\":{\"gridcolor\":\"white\",\"linecolor\":\"white\",\"ticks\":\"\"},\"radialaxis\":{\"gridcolor\":\"white\",\"linecolor\":\"white\",\"ticks\":\"\"}},\"ternary\":{\"bgcolor\":\"#E5ECF6\",\"aaxis\":{\"gridcolor\":\"white\",\"linecolor\":\"white\",\"ticks\":\"\"},\"baxis\":{\"gridcolor\":\"white\",\"linecolor\":\"white\",\"ticks\":\"\"},\"caxis\":{\"gridcolor\":\"white\",\"linecolor\":\"white\",\"ticks\":\"\"}},\"coloraxis\":{\"colorbar\":{\"outlinewidth\":0,\"ticks\":\"\"}},\"colorscale\":{\"sequential\":[[0.0,\"#0d0887\"],[0.1111111111111111,\"#46039f\"],[0.2222222222222222,\"#7201a8\"],[0.3333333333333333,\"#9c179e\"],[0.4444444444444444,\"#bd3786\"],[0.5555555555555556,\"#d8576b\"],[0.6666666666666666,\"#ed7953\"],[0.7777777777777778,\"#fb9f3a\"],[0.8888888888888888,\"#fdca26\"],[1.0,\"#f0f921\"]],\"sequentialminus\":[[0.0,\"#0d0887\"],[0.1111111111111111,\"#46039f\"],[0.2222222222222222,\"#7201a8\"],[0.3333333333333333,\"#9c179e\"],[0.4444444444444444,\"#bd3786\"],[0.5555555555555556,\"#d8576b\"],[0.6666666666666666,\"#ed7953\"],[0.7777777777777778,\"#fb9f3a\"],[0.8888888888888888,\"#fdca26\"],[1.0,\"#f0f921\"]],\"diverging\":[[0,\"#8e0152\"],[0.1,\"#c51b7d\"],[0.2,\"#de77ae\"],[0.3,\"#f1b6da\"],[0.4,\"#fde0ef\"],[0.5,\"#f7f7f7\"],[0.6,\"#e6f5d0\"],[0.7,\"#b8e186\"],[0.8,\"#7fbc41\"],[0.9,\"#4d9221\"],[1,\"#276419\"]]},\"xaxis\":{\"gridcolor\":\"white\",\"linecolor\":\"white\",\"ticks\":\"\",\"title\":{\"standoff\":15},\"zerolinecolor\":\"white\",\"automargin\":true,\"zerolinewidth\":2},\"yaxis\":{\"gridcolor\":\"white\",\"linecolor\":\"white\",\"ticks\":\"\",\"title\":{\"standoff\":15},\"zerolinecolor\":\"white\",\"automargin\":true,\"zerolinewidth\":2},\"scene\":{\"xaxis\":{\"backgroundcolor\":\"#E5ECF6\",\"gridcolor\":\"white\",\"linecolor\":\"white\",\"showbackground\":true,\"ticks\":\"\",\"zerolinecolor\":\"white\",\"gridwidth\":2},\"yaxis\":{\"backgroundcolor\":\"#E5ECF6\",\"gridcolor\":\"white\",\"linecolor\":\"white\",\"showbackground\":true,\"ticks\":\"\",\"zerolinecolor\":\"white\",\"gridwidth\":2},\"zaxis\":{\"backgroundcolor\":\"#E5ECF6\",\"gridcolor\":\"white\",\"linecolor\":\"white\",\"showbackground\":true,\"ticks\":\"\",\"zerolinecolor\":\"white\",\"gridwidth\":2}},\"shapedefaults\":{\"line\":{\"color\":\"#2a3f5f\"}},\"annotationdefaults\":{\"arrowcolor\":\"#2a3f5f\",\"arrowhead\":0,\"arrowwidth\":1},\"geo\":{\"bgcolor\":\"white\",\"landcolor\":\"#E5ECF6\",\"subunitcolor\":\"white\",\"showland\":true,\"showlakes\":true,\"lakecolor\":\"white\"},\"title\":{\"x\":0.05},\"mapbox\":{\"style\":\"light\"}}},\"xaxis\":{\"anchor\":\"y\",\"domain\":[0.0,1.0],\"title\":{\"text\":\"Range\"}},\"yaxis\":{\"anchor\":\"x\",\"domain\":[0.0,1.0],\"title\":{\"text\":\"Price\"}},\"legend\":{\"title\":{\"text\":\"Product\"},\"tracegroupgap\":0},\"title\":{\"text\":\"Total Sales by range\"},\"barmode\":\"relative\"},                        {\"responsive\": true}                    ).then(function(){\n",
       "                            \n",
       "var gd = document.getElementById('393b17e1-2617-4e91-97c9-8edbf236a630');\n",
       "var x = new MutationObserver(function (mutations, observer) {{\n",
       "        var display = window.getComputedStyle(gd).display;\n",
       "        if (!display || display === 'none') {{\n",
       "            console.log([gd, 'removed!']);\n",
       "            Plotly.purge(gd);\n",
       "            observer.disconnect();\n",
       "        }}\n",
       "}});\n",
       "\n",
       "// Listen for the removal of the full notebook cells\n",
       "var notebookContainer = gd.closest('#notebook-container');\n",
       "if (notebookContainer) {{\n",
       "    x.observe(notebookContainer, {childList: true});\n",
       "}}\n",
       "\n",
       "// Listen for the clearing of the current output cell\n",
       "var outputEl = gd.closest('.output');\n",
       "if (outputEl) {{\n",
       "    x.observe(outputEl, {childList: true});\n",
       "}}\n",
       "\n",
       "                        })                };                });            </script>        </div>"
      ]
     },
     "metadata": {},
     "output_type": "display_data"
    }
   ],
   "source": [
    "# Create a pie chart for product analysis to visualize the distribution of total sales by product\n",
    "product_total_sales = px.pie(product_sales, values='Price', names='Product', title='Total Sales by Product Range')\n",
    "\n",
    "# Create a bar chart for range analysis to visualize total sales by product range\n",
    "range_sales = px.bar(product_sales, x='Range', y='Price', color='Product', title='Total Sales by range')\n",
    "\n",
    "# Show the visualizations\n",
    "product_total_sales.show()\n",
    "range_sales.show()"
   ]
  },
  {
   "cell_type": "markdown",
   "metadata": {},
   "source": [
    "#### This visualization is crucial for understanding how sales vary over months and across different areas.\n",
    "#### The line chart provides insights into sales trends for each product, helping identify any seasonal patterns or area-specific trends."
   ]
  },
  {
   "cell_type": "code",
   "execution_count": 57,
   "metadata": {
    "tags": []
   },
   "outputs": [
    {
     "data": {
      "application/vnd.plotly.v1+json": {
       "config": {
        "plotlyServerURL": "https://plot.ly"
       },
       "data": [
        {
         "hovertemplate": "Product=2kg Cafe Blend<br>Area=Fortitude Valley<br>Date=%{x}<br>Qty=%{y}<extra></extra>",
         "legendgroup": "2kg Cafe Blend",
         "line": {
          "color": "#636efa",
          "dash": "solid"
         },
         "marker": {
          "symbol": "circle"
         },
         "mode": "lines",
         "name": "2kg Cafe Blend",
         "orientation": "v",
         "showlegend": true,
         "type": "scatter",
         "x": [
          "2022-01-01T00:00:00",
          "2022-01-05T00:00:00",
          "2022-01-16T00:00:00",
          "2022-01-29T00:00:00",
          "2022-02-19T00:00:00",
          "2022-03-08T00:00:00",
          "2022-03-14T00:00:00",
          "2022-04-16T00:00:00",
          "2022-05-16T00:00:00",
          "2022-05-28T00:00:00",
          "2022-06-15T00:00:00",
          "2022-07-09T00:00:00",
          "2022-08-11T00:00:00",
          "2022-08-20T00:00:00",
          "2022-09-01T00:00:00",
          "2022-09-10T00:00:00",
          "2022-09-25T00:00:00",
          "2022-10-01T00:00:00",
          "2022-10-19T00:00:00"
         ],
         "xaxis": "x",
         "y": [
          33,
          63,
          54,
          51,
          68,
          61,
          93,
          48,
          58,
          58,
          75,
          136,
          55,
          109,
          25,
          143,
          31,
          77,
          43
         ],
         "yaxis": "y"
        },
        {
         "hovertemplate": "Product=2kg Cafe Blend<br>Area=Southbank<br>Date=%{x}<br>Qty=%{y}<extra></extra>",
         "legendgroup": "2kg Cafe Blend",
         "line": {
          "color": "#636efa",
          "dash": "solid"
         },
         "marker": {
          "symbol": "circle"
         },
         "mode": "lines",
         "name": "2kg Cafe Blend",
         "orientation": "v",
         "showlegend": false,
         "type": "scatter",
         "x": [
          "2022-01-22T00:00:00",
          "2022-02-09T00:00:00",
          "2022-03-20T00:00:00",
          "2022-04-01T00:00:00",
          "2022-04-10T00:00:00",
          "2022-04-22T00:00:00",
          "2022-05-10T00:00:00",
          "2022-06-12T00:00:00",
          "2022-06-21T00:00:00",
          "2022-08-17T00:00:00",
          "2022-09-16T00:00:00",
          "2022-10-07T00:00:00",
          "2022-10-25T00:00:00",
          "2022-11-03T00:00:00",
          "2022-11-12T00:00:00",
          "2022-11-24T00:00:00",
          "2022-12-18T00:00:00"
         ],
         "xaxis": "x2",
         "y": [
          51,
          44,
          103,
          58,
          90,
          20,
          25,
          73,
          306,
          34,
          133,
          40,
          35,
          39,
          137,
          30,
          44
         ],
         "yaxis": "y2"
        },
        {
         "hovertemplate": "Product=2kg Cafe Blend<br>Area=CBD<br>Date=%{x}<br>Qty=%{y}<extra></extra>",
         "legendgroup": "2kg Cafe Blend",
         "line": {
          "color": "#636efa",
          "dash": "solid"
         },
         "marker": {
          "symbol": "circle"
         },
         "mode": "lines",
         "name": "2kg Cafe Blend",
         "orientation": "v",
         "showlegend": false,
         "type": "scatter",
         "x": [
          "2022-01-17T00:00:00",
          "2022-01-25T00:00:00",
          "2022-02-10T00:00:00",
          "2022-02-12T00:00:00",
          "2022-03-17T00:00:00",
          "2022-04-07T00:00:00",
          "2022-04-16T00:00:00",
          "2022-04-25T00:00:00",
          "2022-05-16T00:00:00",
          "2022-05-25T00:00:00",
          "2022-08-02T00:00:00",
          "2022-08-08T00:00:00",
          "2022-09-13T00:00:00",
          "2022-10-16T00:00:00",
          "2022-11-09T00:00:00",
          "2022-11-30T00:00:00",
          "2022-12-09T00:00:00"
         ],
         "xaxis": "x3",
         "y": [
          102,
          100,
          34,
          23,
          38,
          91,
          48,
          53,
          61,
          84,
          71,
          24,
          30,
          141,
          90,
          92,
          38
         ],
         "yaxis": "y3"
        },
        {
         "hovertemplate": "Product=2kg Cafe Blend<br>Area=West End<br>Date=%{x}<br>Qty=%{y}<extra></extra>",
         "legendgroup": "2kg Cafe Blend",
         "line": {
          "color": "#636efa",
          "dash": "solid"
         },
         "marker": {
          "symbol": "circle"
         },
         "mode": "lines",
         "name": "2kg Cafe Blend",
         "orientation": "v",
         "showlegend": false,
         "type": "scatter",
         "x": [
          "2022-01-23T00:00:00",
          "2022-04-01T00:00:00",
          "2022-06-09T00:00:00",
          "2022-06-21T00:00:00",
          "2022-07-03T00:00:00",
          "2022-08-26T00:00:00",
          "2022-09-04T00:00:00",
          "2022-09-19T00:00:00",
          "2022-10-13T00:00:00",
          "2022-10-22T00:00:00",
          "2022-11-21T00:00:00"
         ],
         "xaxis": "x4",
         "y": [
          56,
          118,
          42,
          41,
          52,
          41,
          45,
          49,
          40,
          20,
          20
         ],
         "yaxis": "y4"
        },
        {
         "hovertemplate": "Product=2kg Smooth Blend<br>Area=Fortitude Valley<br>Date=%{x}<br>Qty=%{y}<extra></extra>",
         "legendgroup": "2kg Smooth Blend",
         "line": {
          "color": "#EF553B",
          "dash": "solid"
         },
         "marker": {
          "symbol": "circle"
         },
         "mode": "lines",
         "name": "2kg Smooth Blend",
         "orientation": "v",
         "showlegend": true,
         "type": "scatter",
         "x": [
          "2022-01-02T00:00:00",
          "2022-01-13T00:00:00",
          "2022-01-26T00:00:00",
          "2022-01-31T00:00:00",
          "2022-02-18T00:00:00",
          "2022-04-04T00:00:00",
          "2022-05-25T00:00:00",
          "2022-08-17T00:00:00",
          "2022-08-29T00:00:00",
          "2022-09-07T00:00:00",
          "2022-09-22T00:00:00",
          "2022-09-28T00:00:00",
          "2022-10-16T00:00:00",
          "2022-10-25T00:00:00",
          "2022-11-24T00:00:00",
          "2022-12-18T00:00:00"
         ],
         "xaxis": "x",
         "y": [
          32,
          38,
          52,
          36,
          43,
          36,
          27,
          31,
          136,
          28,
          40,
          81,
          87,
          40,
          139,
          34
         ],
         "yaxis": "y"
        },
        {
         "hovertemplate": "Product=2kg Smooth Blend<br>Area=Southbank<br>Date=%{x}<br>Qty=%{y}<extra></extra>",
         "legendgroup": "2kg Smooth Blend",
         "line": {
          "color": "#EF553B",
          "dash": "solid"
         },
         "marker": {
          "symbol": "circle"
         },
         "mode": "lines",
         "name": "2kg Smooth Blend",
         "orientation": "v",
         "showlegend": false,
         "type": "scatter",
         "x": [
          "2022-02-04T00:00:00",
          "2022-02-25T00:00:00",
          "2022-05-01T00:00:00",
          "2022-07-27T00:00:00"
         ],
         "xaxis": "x2",
         "y": [
          58,
          30,
          77,
          20
         ],
         "yaxis": "y2"
        },
        {
         "hovertemplate": "Product=2kg Smooth Blend<br>Area=CBD<br>Date=%{x}<br>Qty=%{y}<extra></extra>",
         "legendgroup": "2kg Smooth Blend",
         "line": {
          "color": "#EF553B",
          "dash": "solid"
         },
         "marker": {
          "symbol": "circle"
         },
         "mode": "lines",
         "name": "2kg Smooth Blend",
         "orientation": "v",
         "showlegend": false,
         "type": "scatter",
         "x": [
          "2022-07-09T00:00:00",
          "2022-09-19T00:00:00",
          "2022-10-07T00:00:00",
          "2022-10-13T00:00:00",
          "2022-11-15T00:00:00",
          "2022-12-24T00:00:00"
         ],
         "xaxis": "x3",
         "y": [
          37,
          110,
          175,
          224,
          146,
          237
         ],
         "yaxis": "y3"
        },
        {
         "hovertemplate": "Product=2kg Smooth Blend<br>Area=West End<br>Date=%{x}<br>Qty=%{y}<extra></extra>",
         "legendgroup": "2kg Smooth Blend",
         "line": {
          "color": "#EF553B",
          "dash": "solid"
         },
         "marker": {
          "symbol": "circle"
         },
         "mode": "lines",
         "name": "2kg Smooth Blend",
         "orientation": "v",
         "showlegend": false,
         "type": "scatter",
         "x": [
          "2022-05-28T00:00:00",
          "2022-08-05T00:00:00",
          "2022-11-12T00:00:00",
          "2022-12-03T00:00:00",
          "2022-12-30T00:00:00"
         ],
         "xaxis": "x4",
         "y": [
          36,
          90,
          103,
          139,
          83
         ],
         "yaxis": "y4"
        },
        {
         "hovertemplate": "Product=2kg Single Origin Select<br>Area=Fortitude Valley<br>Date=%{x}<br>Qty=%{y}<extra></extra>",
         "legendgroup": "2kg Single Origin Select",
         "line": {
          "color": "#00cc96",
          "dash": "solid"
         },
         "marker": {
          "symbol": "circle"
         },
         "mode": "lines",
         "name": "2kg Single Origin Select",
         "orientation": "v",
         "showlegend": true,
         "type": "scatter",
         "x": [
          "2022-01-04T00:00:00",
          "2022-01-19T00:00:00",
          "2022-02-06T00:00:00",
          "2022-03-11T00:00:00",
          "2022-05-31T00:00:00",
          "2022-06-09T00:00:00",
          "2022-06-18T00:00:00",
          "2022-06-30T00:00:00",
          "2022-07-12T00:00:00",
          "2022-07-24T00:00:00",
          "2022-08-23T00:00:00",
          "2022-10-04T00:00:00",
          "2022-10-22T00:00:00",
          "2022-10-31T00:00:00",
          "2022-11-30T00:00:00",
          "2022-12-15T00:00:00",
          "2022-12-24T00:00:00"
         ],
         "xaxis": "x",
         "y": [
          87,
          149,
          28,
          40,
          33,
          26,
          38,
          34,
          42,
          23,
          21,
          38,
          30,
          46,
          20,
          41,
          30
         ],
         "yaxis": "y"
        },
        {
         "hovertemplate": "Product=2kg Single Origin Select<br>Area=Southbank<br>Date=%{x}<br>Qty=%{y}<extra></extra>",
         "legendgroup": "2kg Single Origin Select",
         "line": {
          "color": "#00cc96",
          "dash": "solid"
         },
         "marker": {
          "symbol": "circle"
         },
         "mode": "lines",
         "name": "2kg Single Origin Select",
         "orientation": "v",
         "showlegend": false,
         "type": "scatter",
         "x": [
          "2022-04-13T00:00:00",
          "2022-05-13T00:00:00"
         ],
         "xaxis": "x2",
         "y": [
          21,
          21
         ],
         "yaxis": "y2"
        },
        {
         "hovertemplate": "Product=2kg Single Origin Select<br>Area=CBD<br>Date=%{x}<br>Qty=%{y}<extra></extra>",
         "legendgroup": "2kg Single Origin Select",
         "line": {
          "color": "#00cc96",
          "dash": "solid"
         },
         "marker": {
          "symbol": "circle"
         },
         "mode": "lines",
         "name": "2kg Single Origin Select",
         "orientation": "v",
         "showlegend": false,
         "type": "scatter",
         "x": [
          "2022-01-20T00:00:00",
          "2022-04-10T00:00:00",
          "2022-08-11T00:00:00",
          "2022-10-19T00:00:00",
          "2022-12-12T00:00:00"
         ],
         "xaxis": "x3",
         "y": [
          31,
          23,
          30,
          32,
          25
         ],
         "yaxis": "y3"
        },
        {
         "hovertemplate": "Product=2kg Single Origin Select<br>Area=West End<br>Date=%{x}<br>Qty=%{y}<extra></extra>",
         "legendgroup": "2kg Single Origin Select",
         "line": {
          "color": "#00cc96",
          "dash": "solid"
         },
         "marker": {
          "symbol": "circle"
         },
         "mode": "lines",
         "name": "2kg Single Origin Select",
         "orientation": "v",
         "showlegend": false,
         "type": "scatter",
         "x": [
          "2022-06-12T00:00:00",
          "2022-07-06T00:00:00"
         ],
         "xaxis": "x4",
         "y": [
          20,
          28
         ],
         "yaxis": "y4"
        },
        {
         "hovertemplate": "Product=2kg Light Roast<br>Area=Fortitude Valley<br>Date=%{x}<br>Qty=%{y}<extra></extra>",
         "legendgroup": "2kg Light Roast",
         "line": {
          "color": "#ab63fa",
          "dash": "solid"
         },
         "marker": {
          "symbol": "circle"
         },
         "mode": "lines",
         "name": "2kg Light Roast",
         "orientation": "v",
         "showlegend": true,
         "type": "scatter",
         "x": [
          "2022-02-03T00:00:00",
          "2022-06-27T00:00:00",
          "2022-07-21T00:00:00",
          "2022-10-28T00:00:00",
          "2022-11-27T00:00:00",
          "2022-12-12T00:00:00",
          "2022-12-21T00:00:00"
         ],
         "xaxis": "x",
         "y": [
          31,
          38,
          32,
          49,
          211,
          36,
          245
         ],
         "yaxis": "y"
        },
        {
         "hovertemplate": "Product=2kg Light Roast<br>Area=Southbank<br>Date=%{x}<br>Qty=%{y}<extra></extra>",
         "legendgroup": "2kg Light Roast",
         "line": {
          "color": "#ab63fa",
          "dash": "solid"
         },
         "marker": {
          "symbol": "circle"
         },
         "mode": "lines",
         "name": "2kg Light Roast",
         "orientation": "v",
         "showlegend": false,
         "type": "scatter",
         "x": [
          "2022-01-07T00:00:00",
          "2022-02-07T00:00:00",
          "2022-02-28T00:00:00",
          "2022-03-14T00:00:00",
          "2022-05-04T00:00:00",
          "2022-05-22T00:00:00",
          "2022-07-15T00:00:00",
          "2022-07-30T00:00:00",
          "2022-08-05T00:00:00",
          "2022-08-26T00:00:00"
         ],
         "xaxis": "x2",
         "y": [
          58,
          34,
          232,
          86,
          58,
          43,
          75,
          64,
          107,
          80
         ],
         "yaxis": "y2"
        },
        {
         "hovertemplate": "Product=2kg Light Roast<br>Area=CBD<br>Date=%{x}<br>Qty=%{y}<extra></extra>",
         "legendgroup": "2kg Light Roast",
         "line": {
          "color": "#ab63fa",
          "dash": "solid"
         },
         "marker": {
          "symbol": "circle"
         },
         "mode": "lines",
         "name": "2kg Light Roast",
         "orientation": "v",
         "showlegend": false,
         "type": "scatter",
         "x": [
          "2022-01-10T00:00:00",
          "2022-03-02T00:00:00",
          "2022-06-06T00:00:00",
          "2022-07-12T00:00:00",
          "2022-09-22T00:00:00",
          "2022-10-10T00:00:00",
          "2022-11-18T00:00:00",
          "2022-12-27T00:00:00"
         ],
         "xaxis": "x3",
         "y": [
          82,
          85,
          76,
          40,
          65,
          23,
          34,
          65
         ],
         "yaxis": "y3"
        },
        {
         "hovertemplate": "Product=2kg Light Roast<br>Area=West End<br>Date=%{x}<br>Qty=%{y}<extra></extra>",
         "legendgroup": "2kg Light Roast",
         "line": {
          "color": "#ab63fa",
          "dash": "solid"
         },
         "marker": {
          "symbol": "circle"
         },
         "mode": "lines",
         "name": "2kg Light Roast",
         "orientation": "v",
         "showlegend": false,
         "type": "scatter",
         "x": [
          "2022-03-23T00:00:00",
          "2022-04-22T00:00:00",
          "2022-05-01T00:00:00",
          "2022-05-13T00:00:00",
          "2022-05-22T00:00:00",
          "2022-08-14T00:00:00",
          "2022-11-03T00:00:00",
          "2022-12-15T00:00:00"
         ],
         "xaxis": "x4",
         "y": [
          39,
          67,
          63,
          82,
          55,
          70,
          24,
          96
         ],
         "yaxis": "y4"
        },
        {
         "hovertemplate": "Product=4kg Everyday Blend<br>Area=Fortitude Valley<br>Date=%{x}<br>Qty=%{y}<extra></extra>",
         "legendgroup": "4kg Everyday Blend",
         "line": {
          "color": "#FFA15A",
          "dash": "solid"
         },
         "marker": {
          "symbol": "circle"
         },
         "mode": "lines",
         "name": "4kg Everyday Blend",
         "orientation": "v",
         "showlegend": true,
         "type": "scatter",
         "x": [
          "2022-01-08T00:00:00",
          "2022-02-22T00:00:00",
          "2022-05-19T00:00:00",
          "2022-08-14T00:00:00",
          "2022-09-04T00:00:00",
          "2022-09-13T00:00:00",
          "2022-09-28T00:00:00"
         ],
         "xaxis": "x",
         "y": [
          29,
          31,
          30,
          22,
          26,
          27,
          21
         ],
         "yaxis": "y"
        },
        {
         "hovertemplate": "Product=2kg Cafe Single Origin<br>Area=Fortitude Valley<br>Date=%{x}<br>Qty=%{y}<extra></extra>",
         "legendgroup": "2kg Cafe Single Origin",
         "line": {
          "color": "#19d3f3",
          "dash": "solid"
         },
         "marker": {
          "symbol": "circle"
         },
         "mode": "lines",
         "name": "2kg Cafe Single Origin",
         "orientation": "v",
         "showlegend": true,
         "type": "scatter",
         "x": [
          "2022-03-26T00:00:00",
          "2022-04-25T00:00:00",
          "2022-05-04T00:00:00",
          "2022-06-03T00:00:00",
          "2022-07-30T00:00:00",
          "2022-11-06T00:00:00",
          "2022-11-18T00:00:00"
         ],
         "xaxis": "x",
         "y": [
          103,
          27,
          105,
          27,
          56,
          83,
          66
         ],
         "yaxis": "y"
        },
        {
         "hovertemplate": "Product=2kg Cafe Single Origin<br>Area=Southbank<br>Date=%{x}<br>Qty=%{y}<extra></extra>",
         "legendgroup": "2kg Cafe Single Origin",
         "line": {
          "color": "#19d3f3",
          "dash": "solid"
         },
         "marker": {
          "symbol": "circle"
         },
         "mode": "lines",
         "name": "2kg Cafe Single Origin",
         "orientation": "v",
         "showlegend": false,
         "type": "scatter",
         "x": [
          "2022-01-11T00:00:00",
          "2022-02-24T00:00:00",
          "2022-07-03T00:00:00",
          "2022-09-07T00:00:00",
          "2022-10-01T00:00:00",
          "2022-12-03T00:00:00",
          "2022-12-27T00:00:00"
         ],
         "xaxis": "x2",
         "y": [
          77,
          42,
          65,
          50,
          43,
          42,
          30
         ],
         "yaxis": "y2"
        },
        {
         "hovertemplate": "Product=2kg Cafe Single Origin<br>Area=CBD<br>Date=%{x}<br>Qty=%{y}<extra></extra>",
         "legendgroup": "2kg Cafe Single Origin",
         "line": {
          "color": "#19d3f3",
          "dash": "solid"
         },
         "marker": {
          "symbol": "circle"
         },
         "mode": "lines",
         "name": "2kg Cafe Single Origin",
         "orientation": "v",
         "showlegend": false,
         "type": "scatter",
         "x": [
          "2022-03-02T00:00:00",
          "2022-03-26T00:00:00",
          "2022-05-07T00:00:00",
          "2022-06-15T00:00:00",
          "2022-06-27T00:00:00",
          "2022-07-18T00:00:00",
          "2022-08-20T00:00:00",
          "2022-08-29T00:00:00",
          "2022-10-28T00:00:00"
         ],
         "xaxis": "x3",
         "y": [
          68,
          57,
          47,
          38,
          110,
          72,
          39,
          75,
          57
         ],
         "yaxis": "y3"
        },
        {
         "hovertemplate": "Product=2kg Cafe Single Origin<br>Area=West End<br>Date=%{x}<br>Qty=%{y}<extra></extra>",
         "legendgroup": "2kg Cafe Single Origin",
         "line": {
          "color": "#19d3f3",
          "dash": "solid"
         },
         "marker": {
          "symbol": "circle"
         },
         "mode": "lines",
         "name": "2kg Cafe Single Origin",
         "orientation": "v",
         "showlegend": false,
         "type": "scatter",
         "x": [
          "2022-03-08T00:00:00",
          "2022-07-15T00:00:00",
          "2022-07-24T00:00:00",
          "2022-09-25T00:00:00"
         ],
         "xaxis": "x4",
         "y": [
          86,
          26,
          51,
          33
         ],
         "yaxis": "y4"
        },
        {
         "hovertemplate": "Product=2kg Dark Blend<br>Area=Fortitude Valley<br>Date=%{x}<br>Qty=%{y}<extra></extra>",
         "legendgroup": "2kg Dark Blend",
         "line": {
          "color": "#FF6692",
          "dash": "solid"
         },
         "marker": {
          "symbol": "circle"
         },
         "mode": "lines",
         "name": "2kg Dark Blend",
         "orientation": "v",
         "showlegend": true,
         "type": "scatter",
         "x": [
          "2022-02-21T00:00:00",
          "2022-03-29T00:00:00",
          "2022-04-07T00:00:00",
          "2022-04-28T00:00:00",
          "2022-05-07T00:00:00",
          "2022-06-06T00:00:00",
          "2022-08-02T00:00:00",
          "2022-11-09T00:00:00",
          "2022-11-21T00:00:00"
         ],
         "xaxis": "x",
         "y": [
          123,
          193,
          123,
          129,
          138,
          120,
          137,
          124,
          97
         ],
         "yaxis": "y"
        },
        {
         "hovertemplate": "Product=2kg Dark Blend<br>Area=Southbank<br>Date=%{x}<br>Qty=%{y}<extra></extra>",
         "legendgroup": "2kg Dark Blend",
         "line": {
          "color": "#FF6692",
          "dash": "solid"
         },
         "marker": {
          "symbol": "circle"
         },
         "mode": "lines",
         "name": "2kg Dark Blend",
         "orientation": "v",
         "showlegend": false,
         "type": "scatter",
         "x": [
          "2022-01-14T00:00:00",
          "2022-02-27T00:00:00",
          "2022-06-03T00:00:00",
          "2022-07-06T00:00:00",
          "2022-09-10T00:00:00",
          "2022-10-04T00:00:00",
          "2022-12-06T00:00:00",
          "2022-12-30T00:00:00"
         ],
         "xaxis": "x2",
         "y": [
          80,
          33,
          288,
          60,
          79,
          47,
          100,
          44
         ],
         "yaxis": "y2"
        },
        {
         "hovertemplate": "Product=2kg Dark Blend<br>Area=CBD<br>Date=%{x}<br>Qty=%{y}<extra></extra>",
         "legendgroup": "2kg Dark Blend",
         "line": {
          "color": "#FF6692",
          "dash": "solid"
         },
         "marker": {
          "symbol": "circle"
         },
         "mode": "lines",
         "name": "2kg Dark Blend",
         "orientation": "v",
         "showlegend": false,
         "type": "scatter",
         "x": [
          "2022-03-05T00:00:00",
          "2022-03-29T00:00:00",
          "2022-05-10T00:00:00",
          "2022-06-18T00:00:00",
          "2022-06-30T00:00:00",
          "2022-07-21T00:00:00",
          "2022-08-23T00:00:00",
          "2022-09-01T00:00:00"
         ],
         "xaxis": "x3",
         "y": [
          97,
          65,
          33,
          40,
          51,
          56,
          41,
          74
         ],
         "yaxis": "y3"
        },
        {
         "hovertemplate": "Product=2kg Dark Blend<br>Area=West End<br>Date=%{x}<br>Qty=%{y}<extra></extra>",
         "legendgroup": "2kg Dark Blend",
         "line": {
          "color": "#FF6692",
          "dash": "solid"
         },
         "marker": {
          "symbol": "circle"
         },
         "mode": "lines",
         "name": "2kg Dark Blend",
         "orientation": "v",
         "showlegend": false,
         "type": "scatter",
         "x": [
          "2022-02-16T00:00:00",
          "2022-03-05T00:00:00",
          "2022-05-31T00:00:00",
          "2022-08-08T00:00:00",
          "2022-11-15T00:00:00",
          "2022-12-06T00:00:00"
         ],
         "xaxis": "x4",
         "y": [
          29,
          30,
          44,
          38,
          32,
          29
         ],
         "yaxis": "y4"
        },
        {
         "hovertemplate": "Product=2kg Everyday Blend<br>Area=Fortitude Valley<br>Date=%{x}<br>Qty=%{y}<extra></extra>",
         "legendgroup": "2kg Everyday Blend",
         "line": {
          "color": "#B6E880",
          "dash": "solid"
         },
         "marker": {
          "symbol": "circle"
         },
         "mode": "lines",
         "name": "2kg Everyday Blend",
         "orientation": "v",
         "showlegend": true,
         "type": "scatter",
         "x": [
          "2022-02-01T00:00:00",
          "2022-03-17T00:00:00",
          "2022-04-19T00:00:00"
         ],
         "xaxis": "x",
         "y": [
          24,
          47,
          134
         ],
         "yaxis": "y"
        },
        {
         "hovertemplate": "Product=2kg Everyday Blend<br>Area=Southbank<br>Date=%{x}<br>Qty=%{y}<extra></extra>",
         "legendgroup": "2kg Everyday Blend",
         "line": {
          "color": "#B6E880",
          "dash": "solid"
         },
         "marker": {
          "symbol": "circle"
         },
         "mode": "lines",
         "name": "2kg Everyday Blend",
         "orientation": "v",
         "showlegend": false,
         "type": "scatter",
         "x": [
          "2022-03-23T00:00:00",
          "2022-04-04T00:00:00",
          "2022-06-24T00:00:00",
          "2022-10-10T00:00:00",
          "2022-11-06T00:00:00",
          "2022-11-27T00:00:00",
          "2022-12-21T00:00:00"
         ],
         "xaxis": "x2",
         "y": [
          33,
          68,
          28,
          114,
          62,
          29,
          29
         ],
         "yaxis": "y2"
        },
        {
         "hovertemplate": "Product=2kg Everyday Blend<br>Area=CBD<br>Date=%{x}<br>Qty=%{y}<extra></extra>",
         "legendgroup": "2kg Everyday Blend",
         "line": {
          "color": "#B6E880",
          "dash": "solid"
         },
         "marker": {
          "symbol": "circle"
         },
         "mode": "lines",
         "name": "2kg Everyday Blend",
         "orientation": "v",
         "showlegend": false,
         "type": "scatter",
         "x": [
          "2022-01-28T00:00:00",
          "2022-02-13T00:00:00",
          "2022-02-15T00:00:00",
          "2022-03-20T00:00:00",
          "2022-04-19T00:00:00",
          "2022-04-28T00:00:00",
          "2022-05-19T00:00:00",
          "2022-09-16T00:00:00",
          "2022-10-31T00:00:00"
         ],
         "xaxis": "x3",
         "y": [
          28,
          21,
          27,
          68,
          24,
          64,
          49,
          20,
          25
         ],
         "yaxis": "y3"
        },
        {
         "hovertemplate": "Product=2kg Everyday Blend<br>Area=West End<br>Date=%{x}<br>Qty=%{y}<extra></extra>",
         "legendgroup": "2kg Everyday Blend",
         "line": {
          "color": "#B6E880",
          "dash": "solid"
         },
         "marker": {
          "symbol": "circle"
         },
         "mode": "lines",
         "name": "2kg Everyday Blend",
         "orientation": "v",
         "showlegend": false,
         "type": "scatter",
         "x": [
          "2022-03-11T00:00:00",
          "2022-04-13T00:00:00",
          "2022-07-27T00:00:00"
         ],
         "xaxis": "x4",
         "y": [
          41,
          28,
          31
         ],
         "yaxis": "y4"
        },
        {
         "hovertemplate": "Product=2kg Single Origin Custom<br>Area=Fortitude Valley<br>Date=%{x}<br>Qty=%{y}<extra></extra>",
         "legendgroup": "2kg Single Origin Custom",
         "line": {
          "color": "#FF97FF",
          "dash": "solid"
         },
         "marker": {
          "symbol": "circle"
         },
         "mode": "lines",
         "name": "2kg Single Origin Custom",
         "orientation": "v",
         "showlegend": true,
         "type": "scatter",
         "x": [
          "2022-06-24T00:00:00",
          "2022-07-18T00:00:00",
          "2022-12-09T00:00:00"
         ],
         "xaxis": "x",
         "y": [
          27,
          22,
          30
         ],
         "yaxis": "y"
        }
       ],
       "layout": {
        "annotations": [
         {
          "font": {},
          "showarrow": false,
          "text": "Area=Fortitude Valley",
          "x": 0.1175,
          "xanchor": "center",
          "xref": "paper",
          "y": 1,
          "yanchor": "bottom",
          "yref": "paper"
         },
         {
          "font": {},
          "showarrow": false,
          "text": "Area=Southbank",
          "x": 0.3725,
          "xanchor": "center",
          "xref": "paper",
          "y": 1,
          "yanchor": "bottom",
          "yref": "paper"
         },
         {
          "font": {},
          "showarrow": false,
          "text": "Area=CBD",
          "x": 0.6275,
          "xanchor": "center",
          "xref": "paper",
          "y": 1,
          "yanchor": "bottom",
          "yref": "paper"
         },
         {
          "font": {},
          "showarrow": false,
          "text": "Area=West End",
          "x": 0.8824999999999998,
          "xanchor": "center",
          "xref": "paper",
          "y": 1,
          "yanchor": "bottom",
          "yref": "paper"
         }
        ],
        "autosize": true,
        "legend": {
         "title": {
          "text": "Product"
         },
         "tracegroupgap": 0
        },
        "template": {
         "data": {
          "bar": [
           {
            "error_x": {
             "color": "#2a3f5f"
            },
            "error_y": {
             "color": "#2a3f5f"
            },
            "marker": {
             "line": {
              "color": "#E5ECF6",
              "width": 0.5
             },
             "pattern": {
              "fillmode": "overlay",
              "size": 10,
              "solidity": 0.2
             }
            },
            "type": "bar"
           }
          ],
          "barpolar": [
           {
            "marker": {
             "line": {
              "color": "#E5ECF6",
              "width": 0.5
             },
             "pattern": {
              "fillmode": "overlay",
              "size": 10,
              "solidity": 0.2
             }
            },
            "type": "barpolar"
           }
          ],
          "carpet": [
           {
            "aaxis": {
             "endlinecolor": "#2a3f5f",
             "gridcolor": "white",
             "linecolor": "white",
             "minorgridcolor": "white",
             "startlinecolor": "#2a3f5f"
            },
            "baxis": {
             "endlinecolor": "#2a3f5f",
             "gridcolor": "white",
             "linecolor": "white",
             "minorgridcolor": "white",
             "startlinecolor": "#2a3f5f"
            },
            "type": "carpet"
           }
          ],
          "choropleth": [
           {
            "colorbar": {
             "outlinewidth": 0,
             "ticks": ""
            },
            "type": "choropleth"
           }
          ],
          "contour": [
           {
            "colorbar": {
             "outlinewidth": 0,
             "ticks": ""
            },
            "colorscale": [
             [
              0,
              "#0d0887"
             ],
             [
              0.1111111111111111,
              "#46039f"
             ],
             [
              0.2222222222222222,
              "#7201a8"
             ],
             [
              0.3333333333333333,
              "#9c179e"
             ],
             [
              0.4444444444444444,
              "#bd3786"
             ],
             [
              0.5555555555555556,
              "#d8576b"
             ],
             [
              0.6666666666666666,
              "#ed7953"
             ],
             [
              0.7777777777777778,
              "#fb9f3a"
             ],
             [
              0.8888888888888888,
              "#fdca26"
             ],
             [
              1,
              "#f0f921"
             ]
            ],
            "type": "contour"
           }
          ],
          "contourcarpet": [
           {
            "colorbar": {
             "outlinewidth": 0,
             "ticks": ""
            },
            "type": "contourcarpet"
           }
          ],
          "heatmap": [
           {
            "colorbar": {
             "outlinewidth": 0,
             "ticks": ""
            },
            "colorscale": [
             [
              0,
              "#0d0887"
             ],
             [
              0.1111111111111111,
              "#46039f"
             ],
             [
              0.2222222222222222,
              "#7201a8"
             ],
             [
              0.3333333333333333,
              "#9c179e"
             ],
             [
              0.4444444444444444,
              "#bd3786"
             ],
             [
              0.5555555555555556,
              "#d8576b"
             ],
             [
              0.6666666666666666,
              "#ed7953"
             ],
             [
              0.7777777777777778,
              "#fb9f3a"
             ],
             [
              0.8888888888888888,
              "#fdca26"
             ],
             [
              1,
              "#f0f921"
             ]
            ],
            "type": "heatmap"
           }
          ],
          "heatmapgl": [
           {
            "colorbar": {
             "outlinewidth": 0,
             "ticks": ""
            },
            "colorscale": [
             [
              0,
              "#0d0887"
             ],
             [
              0.1111111111111111,
              "#46039f"
             ],
             [
              0.2222222222222222,
              "#7201a8"
             ],
             [
              0.3333333333333333,
              "#9c179e"
             ],
             [
              0.4444444444444444,
              "#bd3786"
             ],
             [
              0.5555555555555556,
              "#d8576b"
             ],
             [
              0.6666666666666666,
              "#ed7953"
             ],
             [
              0.7777777777777778,
              "#fb9f3a"
             ],
             [
              0.8888888888888888,
              "#fdca26"
             ],
             [
              1,
              "#f0f921"
             ]
            ],
            "type": "heatmapgl"
           }
          ],
          "histogram": [
           {
            "marker": {
             "pattern": {
              "fillmode": "overlay",
              "size": 10,
              "solidity": 0.2
             }
            },
            "type": "histogram"
           }
          ],
          "histogram2d": [
           {
            "colorbar": {
             "outlinewidth": 0,
             "ticks": ""
            },
            "colorscale": [
             [
              0,
              "#0d0887"
             ],
             [
              0.1111111111111111,
              "#46039f"
             ],
             [
              0.2222222222222222,
              "#7201a8"
             ],
             [
              0.3333333333333333,
              "#9c179e"
             ],
             [
              0.4444444444444444,
              "#bd3786"
             ],
             [
              0.5555555555555556,
              "#d8576b"
             ],
             [
              0.6666666666666666,
              "#ed7953"
             ],
             [
              0.7777777777777778,
              "#fb9f3a"
             ],
             [
              0.8888888888888888,
              "#fdca26"
             ],
             [
              1,
              "#f0f921"
             ]
            ],
            "type": "histogram2d"
           }
          ],
          "histogram2dcontour": [
           {
            "colorbar": {
             "outlinewidth": 0,
             "ticks": ""
            },
            "colorscale": [
             [
              0,
              "#0d0887"
             ],
             [
              0.1111111111111111,
              "#46039f"
             ],
             [
              0.2222222222222222,
              "#7201a8"
             ],
             [
              0.3333333333333333,
              "#9c179e"
             ],
             [
              0.4444444444444444,
              "#bd3786"
             ],
             [
              0.5555555555555556,
              "#d8576b"
             ],
             [
              0.6666666666666666,
              "#ed7953"
             ],
             [
              0.7777777777777778,
              "#fb9f3a"
             ],
             [
              0.8888888888888888,
              "#fdca26"
             ],
             [
              1,
              "#f0f921"
             ]
            ],
            "type": "histogram2dcontour"
           }
          ],
          "mesh3d": [
           {
            "colorbar": {
             "outlinewidth": 0,
             "ticks": ""
            },
            "type": "mesh3d"
           }
          ],
          "parcoords": [
           {
            "line": {
             "colorbar": {
              "outlinewidth": 0,
              "ticks": ""
             }
            },
            "type": "parcoords"
           }
          ],
          "pie": [
           {
            "automargin": true,
            "type": "pie"
           }
          ],
          "scatter": [
           {
            "fillpattern": {
             "fillmode": "overlay",
             "size": 10,
             "solidity": 0.2
            },
            "type": "scatter"
           }
          ],
          "scatter3d": [
           {
            "line": {
             "colorbar": {
              "outlinewidth": 0,
              "ticks": ""
             }
            },
            "marker": {
             "colorbar": {
              "outlinewidth": 0,
              "ticks": ""
             }
            },
            "type": "scatter3d"
           }
          ],
          "scattercarpet": [
           {
            "marker": {
             "colorbar": {
              "outlinewidth": 0,
              "ticks": ""
             }
            },
            "type": "scattercarpet"
           }
          ],
          "scattergeo": [
           {
            "marker": {
             "colorbar": {
              "outlinewidth": 0,
              "ticks": ""
             }
            },
            "type": "scattergeo"
           }
          ],
          "scattergl": [
           {
            "marker": {
             "colorbar": {
              "outlinewidth": 0,
              "ticks": ""
             }
            },
            "type": "scattergl"
           }
          ],
          "scattermapbox": [
           {
            "marker": {
             "colorbar": {
              "outlinewidth": 0,
              "ticks": ""
             }
            },
            "type": "scattermapbox"
           }
          ],
          "scatterpolar": [
           {
            "marker": {
             "colorbar": {
              "outlinewidth": 0,
              "ticks": ""
             }
            },
            "type": "scatterpolar"
           }
          ],
          "scatterpolargl": [
           {
            "marker": {
             "colorbar": {
              "outlinewidth": 0,
              "ticks": ""
             }
            },
            "type": "scatterpolargl"
           }
          ],
          "scatterternary": [
           {
            "marker": {
             "colorbar": {
              "outlinewidth": 0,
              "ticks": ""
             }
            },
            "type": "scatterternary"
           }
          ],
          "surface": [
           {
            "colorbar": {
             "outlinewidth": 0,
             "ticks": ""
            },
            "colorscale": [
             [
              0,
              "#0d0887"
             ],
             [
              0.1111111111111111,
              "#46039f"
             ],
             [
              0.2222222222222222,
              "#7201a8"
             ],
             [
              0.3333333333333333,
              "#9c179e"
             ],
             [
              0.4444444444444444,
              "#bd3786"
             ],
             [
              0.5555555555555556,
              "#d8576b"
             ],
             [
              0.6666666666666666,
              "#ed7953"
             ],
             [
              0.7777777777777778,
              "#fb9f3a"
             ],
             [
              0.8888888888888888,
              "#fdca26"
             ],
             [
              1,
              "#f0f921"
             ]
            ],
            "type": "surface"
           }
          ],
          "table": [
           {
            "cells": {
             "fill": {
              "color": "#EBF0F8"
             },
             "line": {
              "color": "white"
             }
            },
            "header": {
             "fill": {
              "color": "#C8D4E3"
             },
             "line": {
              "color": "white"
             }
            },
            "type": "table"
           }
          ]
         },
         "layout": {
          "annotationdefaults": {
           "arrowcolor": "#2a3f5f",
           "arrowhead": 0,
           "arrowwidth": 1
          },
          "autotypenumbers": "strict",
          "coloraxis": {
           "colorbar": {
            "outlinewidth": 0,
            "ticks": ""
           }
          },
          "colorscale": {
           "diverging": [
            [
             0,
             "#8e0152"
            ],
            [
             0.1,
             "#c51b7d"
            ],
            [
             0.2,
             "#de77ae"
            ],
            [
             0.3,
             "#f1b6da"
            ],
            [
             0.4,
             "#fde0ef"
            ],
            [
             0.5,
             "#f7f7f7"
            ],
            [
             0.6,
             "#e6f5d0"
            ],
            [
             0.7,
             "#b8e186"
            ],
            [
             0.8,
             "#7fbc41"
            ],
            [
             0.9,
             "#4d9221"
            ],
            [
             1,
             "#276419"
            ]
           ],
           "sequential": [
            [
             0,
             "#0d0887"
            ],
            [
             0.1111111111111111,
             "#46039f"
            ],
            [
             0.2222222222222222,
             "#7201a8"
            ],
            [
             0.3333333333333333,
             "#9c179e"
            ],
            [
             0.4444444444444444,
             "#bd3786"
            ],
            [
             0.5555555555555556,
             "#d8576b"
            ],
            [
             0.6666666666666666,
             "#ed7953"
            ],
            [
             0.7777777777777778,
             "#fb9f3a"
            ],
            [
             0.8888888888888888,
             "#fdca26"
            ],
            [
             1,
             "#f0f921"
            ]
           ],
           "sequentialminus": [
            [
             0,
             "#0d0887"
            ],
            [
             0.1111111111111111,
             "#46039f"
            ],
            [
             0.2222222222222222,
             "#7201a8"
            ],
            [
             0.3333333333333333,
             "#9c179e"
            ],
            [
             0.4444444444444444,
             "#bd3786"
            ],
            [
             0.5555555555555556,
             "#d8576b"
            ],
            [
             0.6666666666666666,
             "#ed7953"
            ],
            [
             0.7777777777777778,
             "#fb9f3a"
            ],
            [
             0.8888888888888888,
             "#fdca26"
            ],
            [
             1,
             "#f0f921"
            ]
           ]
          },
          "colorway": [
           "#636efa",
           "#EF553B",
           "#00cc96",
           "#ab63fa",
           "#FFA15A",
           "#19d3f3",
           "#FF6692",
           "#B6E880",
           "#FF97FF",
           "#FECB52"
          ],
          "font": {
           "color": "#2a3f5f"
          },
          "geo": {
           "bgcolor": "white",
           "lakecolor": "white",
           "landcolor": "#E5ECF6",
           "showlakes": true,
           "showland": true,
           "subunitcolor": "white"
          },
          "hoverlabel": {
           "align": "left"
          },
          "hovermode": "closest",
          "mapbox": {
           "style": "light"
          },
          "paper_bgcolor": "white",
          "plot_bgcolor": "#E5ECF6",
          "polar": {
           "angularaxis": {
            "gridcolor": "white",
            "linecolor": "white",
            "ticks": ""
           },
           "bgcolor": "#E5ECF6",
           "radialaxis": {
            "gridcolor": "white",
            "linecolor": "white",
            "ticks": ""
           }
          },
          "scene": {
           "xaxis": {
            "backgroundcolor": "#E5ECF6",
            "gridcolor": "white",
            "gridwidth": 2,
            "linecolor": "white",
            "showbackground": true,
            "ticks": "",
            "zerolinecolor": "white"
           },
           "yaxis": {
            "backgroundcolor": "#E5ECF6",
            "gridcolor": "white",
            "gridwidth": 2,
            "linecolor": "white",
            "showbackground": true,
            "ticks": "",
            "zerolinecolor": "white"
           },
           "zaxis": {
            "backgroundcolor": "#E5ECF6",
            "gridcolor": "white",
            "gridwidth": 2,
            "linecolor": "white",
            "showbackground": true,
            "ticks": "",
            "zerolinecolor": "white"
           }
          },
          "shapedefaults": {
           "line": {
            "color": "#2a3f5f"
           }
          },
          "ternary": {
           "aaxis": {
            "gridcolor": "white",
            "linecolor": "white",
            "ticks": ""
           },
           "baxis": {
            "gridcolor": "white",
            "linecolor": "white",
            "ticks": ""
           },
           "bgcolor": "#E5ECF6",
           "caxis": {
            "gridcolor": "white",
            "linecolor": "white",
            "ticks": ""
           }
          },
          "title": {
           "x": 0.05
          },
          "xaxis": {
           "automargin": true,
           "gridcolor": "white",
           "linecolor": "white",
           "ticks": "",
           "title": {
            "standoff": 15
           },
           "zerolinecolor": "white",
           "zerolinewidth": 2
          },
          "yaxis": {
           "automargin": true,
           "gridcolor": "white",
           "linecolor": "white",
           "ticks": "",
           "title": {
            "standoff": 15
           },
           "zerolinecolor": "white",
           "zerolinewidth": 2
          }
         }
        },
        "title": {
         "text": "Total Sales by months and areas"
        },
        "xaxis": {
         "anchor": "y",
         "autorange": true,
         "domain": [
          0,
          0.235
         ],
         "range": [
          "2022-01-01",
          "2022-12-30"
         ],
         "title": {
          "text": "Date"
         },
         "type": "date"
        },
        "xaxis2": {
         "anchor": "y2",
         "autorange": true,
         "domain": [
          0.255,
          0.49
         ],
         "matches": "x",
         "range": [
          "2022-01-01",
          "2022-12-30"
         ],
         "title": {
          "text": "Date"
         },
         "type": "date"
        },
        "xaxis3": {
         "anchor": "y3",
         "autorange": true,
         "domain": [
          0.51,
          0.745
         ],
         "matches": "x",
         "range": [
          "2022-01-01",
          "2022-12-30"
         ],
         "title": {
          "text": "Date"
         },
         "type": "date"
        },
        "xaxis4": {
         "anchor": "y4",
         "autorange": true,
         "domain": [
          0.7649999999999999,
          0.9999999999999999
         ],
         "matches": "x",
         "range": [
          "2022-01-01",
          "2022-12-30"
         ],
         "title": {
          "text": "Date"
         },
         "type": "date"
        },
        "yaxis": {
         "anchor": "x",
         "autorange": true,
         "domain": [
          0,
          1
         ],
         "range": [
          4.111111111111111,
          321.8888888888889
         ],
         "title": {
          "text": "Total Qty for each Products"
         },
         "type": "linear"
        },
        "yaxis2": {
         "anchor": "x2",
         "autorange": true,
         "domain": [
          0,
          1
         ],
         "matches": "y",
         "range": [
          4.111111111111111,
          321.8888888888889
         ],
         "showticklabels": false,
         "type": "linear"
        },
        "yaxis3": {
         "anchor": "x3",
         "autorange": true,
         "domain": [
          0,
          1
         ],
         "matches": "y",
         "range": [
          4.111111111111111,
          321.8888888888889
         ],
         "showticklabels": false,
         "type": "linear"
        },
        "yaxis4": {
         "anchor": "x4",
         "autorange": true,
         "domain": [
          0,
          1
         ],
         "matches": "y",
         "range": [
          4.111111111111111,
          321.8888888888889
         ],
         "showticklabels": false,
         "type": "linear"
        }
       }
      },
      "image/png": "[encoded data removed]",
      "text/html": [
       "<div>                            <div id=\"6ce78c8b-db89-42d1-b470-54963d18cf4f\" class=\"plotly-graph-div\" style=\"height:525px; width:100%;\"></div>            <script type=\"text/javascript\">                require([\"plotly\"], function(Plotly) {                    window.PLOTLYENV=window.PLOTLYENV || {};                                    if (document.getElementById(\"6ce78c8b-db89-42d1-b470-54963d18cf4f\")) {                    Plotly.newPlot(                        \"6ce78c8b-db89-42d1-b470-54963d18cf4f\",                        [{\"hovertemplate\":\"Product=2kg Cafe Blend\\u003cbr\\u003eArea=Fortitude Valley\\u003cbr\\u003eDate=%{x}\\u003cbr\\u003eQty=%{y}\\u003cextra\\u003e\\u003c\\u002fextra\\u003e\",\"legendgroup\":\"2kg Cafe Blend\",\"line\":{\"color\":\"#636efa\",\"dash\":\"solid\"},\"marker\":{\"symbol\":\"circle\"},\"mode\":\"lines\",\"name\":\"2kg Cafe Blend\",\"orientation\":\"v\",\"showlegend\":true,\"x\":[\"2022-01-01T00:00:00\",\"2022-01-05T00:00:00\",\"2022-01-16T00:00:00\",\"2022-01-29T00:00:00\",\"2022-02-19T00:00:00\",\"2022-03-08T00:00:00\",\"2022-03-14T00:00:00\",\"2022-04-16T00:00:00\",\"2022-05-16T00:00:00\",\"2022-05-28T00:00:00\",\"2022-06-15T00:00:00\",\"2022-07-09T00:00:00\",\"2022-08-11T00:00:00\",\"2022-08-20T00:00:00\",\"2022-09-01T00:00:00\",\"2022-09-10T00:00:00\",\"2022-09-25T00:00:00\",\"2022-10-01T00:00:00\",\"2022-10-19T00:00:00\"],\"xaxis\":\"x\",\"y\":[33,63,54,51,68,61,93,48,58,58,75,136,55,109,25,143,31,77,43],\"yaxis\":\"y\",\"type\":\"scatter\"},{\"hovertemplate\":\"Product=2kg Cafe Blend\\u003cbr\\u003eArea=Southbank\\u003cbr\\u003eDate=%{x}\\u003cbr\\u003eQty=%{y}\\u003cextra\\u003e\\u003c\\u002fextra\\u003e\",\"legendgroup\":\"2kg Cafe Blend\",\"line\":{\"color\":\"#636efa\",\"dash\":\"solid\"},\"marker\":{\"symbol\":\"circle\"},\"mode\":\"lines\",\"name\":\"2kg Cafe Blend\",\"orientation\":\"v\",\"showlegend\":false,\"x\":[\"2022-01-22T00:00:00\",\"2022-02-09T00:00:00\",\"2022-03-20T00:00:00\",\"2022-04-01T00:00:00\",\"2022-04-10T00:00:00\",\"2022-04-22T00:00:00\",\"2022-05-10T00:00:00\",\"2022-06-12T00:00:00\",\"2022-06-21T00:00:00\",\"2022-08-17T00:00:00\",\"2022-09-16T00:00:00\",\"2022-10-07T00:00:00\",\"2022-10-25T00:00:00\",\"2022-11-03T00:00:00\",\"2022-11-12T00:00:00\",\"2022-11-24T00:00:00\",\"2022-12-18T00:00:00\"],\"xaxis\":\"x2\",\"y\":[51,44,103,58,90,20,25,73,306,34,133,40,35,39,137,30,44],\"yaxis\":\"y2\",\"type\":\"scatter\"},{\"hovertemplate\":\"Product=2kg Cafe Blend\\u003cbr\\u003eArea=CBD\\u003cbr\\u003eDate=%{x}\\u003cbr\\u003eQty=%{y}\\u003cextra\\u003e\\u003c\\u002fextra\\u003e\",\"legendgroup\":\"2kg Cafe Blend\",\"line\":{\"color\":\"#636efa\",\"dash\":\"solid\"},\"marker\":{\"symbol\":\"circle\"},\"mode\":\"lines\",\"name\":\"2kg Cafe Blend\",\"orientation\":\"v\",\"showlegend\":false,\"x\":[\"2022-01-17T00:00:00\",\"2022-01-25T00:00:00\",\"2022-02-10T00:00:00\",\"2022-02-12T00:00:00\",\"2022-03-17T00:00:00\",\"2022-04-07T00:00:00\",\"2022-04-16T00:00:00\",\"2022-04-25T00:00:00\",\"2022-05-16T00:00:00\",\"2022-05-25T00:00:00\",\"2022-08-02T00:00:00\",\"2022-08-08T00:00:00\",\"2022-09-13T00:00:00\",\"2022-10-16T00:00:00\",\"2022-11-09T00:00:00\",\"2022-11-30T00:00:00\",\"2022-12-09T00:00:00\"],\"xaxis\":\"x3\",\"y\":[102,100,34,23,38,91,48,53,61,84,71,24,30,141,90,92,38],\"yaxis\":\"y3\",\"type\":\"scatter\"},{\"hovertemplate\":\"Product=2kg Cafe Blend\\u003cbr\\u003eArea=West End\\u003cbr\\u003eDate=%{x}\\u003cbr\\u003eQty=%{y}\\u003cextra\\u003e\\u003c\\u002fextra\\u003e\",\"legendgroup\":\"2kg Cafe Blend\",\"line\":{\"color\":\"#636efa\",\"dash\":\"solid\"},\"marker\":{\"symbol\":\"circle\"},\"mode\":\"lines\",\"name\":\"2kg Cafe Blend\",\"orientation\":\"v\",\"showlegend\":false,\"x\":[\"2022-01-23T00:00:00\",\"2022-04-01T00:00:00\",\"2022-06-09T00:00:00\",\"2022-06-21T00:00:00\",\"2022-07-03T00:00:00\",\"2022-08-26T00:00:00\",\"2022-09-04T00:00:00\",\"2022-09-19T00:00:00\",\"2022-10-13T00:00:00\",\"2022-10-22T00:00:00\",\"2022-11-21T00:00:00\"],\"xaxis\":\"x4\",\"y\":[56,118,42,41,52,41,45,49,40,20,20],\"yaxis\":\"y4\",\"type\":\"scatter\"},{\"hovertemplate\":\"Product=2kg Smooth Blend\\u003cbr\\u003eArea=Fortitude Valley\\u003cbr\\u003eDate=%{x}\\u003cbr\\u003eQty=%{y}\\u003cextra\\u003e\\u003c\\u002fextra\\u003e\",\"legendgroup\":\"2kg Smooth Blend\",\"line\":{\"color\":\"#EF553B\",\"dash\":\"solid\"},\"marker\":{\"symbol\":\"circle\"},\"mode\":\"lines\",\"name\":\"2kg Smooth Blend\",\"orientation\":\"v\",\"showlegend\":true,\"x\":[\"2022-01-02T00:00:00\",\"2022-01-13T00:00:00\",\"2022-01-26T00:00:00\",\"2022-01-31T00:00:00\",\"2022-02-18T00:00:00\",\"2022-04-04T00:00:00\",\"2022-05-25T00:00:00\",\"2022-08-17T00:00:00\",\"2022-08-29T00:00:00\",\"2022-09-07T00:00:00\",\"2022-09-22T00:00:00\",\"2022-09-28T00:00:00\",\"2022-10-16T00:00:00\",\"2022-10-25T00:00:00\",\"2022-11-24T00:00:00\",\"2022-12-18T00:00:00\"],\"xaxis\":\"x\",\"y\":[32,38,52,36,43,36,27,31,136,28,40,81,87,40,139,34],\"yaxis\":\"y\",\"type\":\"scatter\"},{\"hovertemplate\":\"Product=2kg Smooth Blend\\u003cbr\\u003eArea=Southbank\\u003cbr\\u003eDate=%{x}\\u003cbr\\u003eQty=%{y}\\u003cextra\\u003e\\u003c\\u002fextra\\u003e\",\"legendgroup\":\"2kg Smooth Blend\",\"line\":{\"color\":\"#EF553B\",\"dash\":\"solid\"},\"marker\":{\"symbol\":\"circle\"},\"mode\":\"lines\",\"name\":\"2kg Smooth Blend\",\"orientation\":\"v\",\"showlegend\":false,\"x\":[\"2022-02-04T00:00:00\",\"2022-02-25T00:00:00\",\"2022-05-01T00:00:00\",\"2022-07-27T00:00:00\"],\"xaxis\":\"x2\",\"y\":[58,30,77,20],\"yaxis\":\"y2\",\"type\":\"scatter\"},{\"hovertemplate\":\"Product=2kg Smooth Blend\\u003cbr\\u003eArea=CBD\\u003cbr\\u003eDate=%{x}\\u003cbr\\u003eQty=%{y}\\u003cextra\\u003e\\u003c\\u002fextra\\u003e\",\"legendgroup\":\"2kg Smooth Blend\",\"line\":{\"color\":\"#EF553B\",\"dash\":\"solid\"},\"marker\":{\"symbol\":\"circle\"},\"mode\":\"lines\",\"name\":\"2kg Smooth Blend\",\"orientation\":\"v\",\"showlegend\":false,\"x\":[\"2022-07-09T00:00:00\",\"2022-09-19T00:00:00\",\"2022-10-07T00:00:00\",\"2022-10-13T00:00:00\",\"2022-11-15T00:00:00\",\"2022-12-24T00:00:00\"],\"xaxis\":\"x3\",\"y\":[37,110,175,224,146,237],\"yaxis\":\"y3\",\"type\":\"scatter\"},{\"hovertemplate\":\"Product=2kg Smooth Blend\\u003cbr\\u003eArea=West End\\u003cbr\\u003eDate=%{x}\\u003cbr\\u003eQty=%{y}\\u003cextra\\u003e\\u003c\\u002fextra\\u003e\",\"legendgroup\":\"2kg Smooth Blend\",\"line\":{\"color\":\"#EF553B\",\"dash\":\"solid\"},\"marker\":{\"symbol\":\"circle\"},\"mode\":\"lines\",\"name\":\"2kg Smooth Blend\",\"orientation\":\"v\",\"showlegend\":false,\"x\":[\"2022-05-28T00:00:00\",\"2022-08-05T00:00:00\",\"2022-11-12T00:00:00\",\"2022-12-03T00:00:00\",\"2022-12-30T00:00:00\"],\"xaxis\":\"x4\",\"y\":[36,90,103,139,83],\"yaxis\":\"y4\",\"type\":\"scatter\"},{\"hovertemplate\":\"Product=2kg Single Origin Select\\u003cbr\\u003eArea=Fortitude Valley\\u003cbr\\u003eDate=%{x}\\u003cbr\\u003eQty=%{y}\\u003cextra\\u003e\\u003c\\u002fextra\\u003e\",\"legendgroup\":\"2kg Single Origin Select\",\"line\":{\"color\":\"#00cc96\",\"dash\":\"solid\"},\"marker\":{\"symbol\":\"circle\"},\"mode\":\"lines\",\"name\":\"2kg Single Origin Select\",\"orientation\":\"v\",\"showlegend\":true,\"x\":[\"2022-01-04T00:00:00\",\"2022-01-19T00:00:00\",\"2022-02-06T00:00:00\",\"2022-03-11T00:00:00\",\"2022-05-31T00:00:00\",\"2022-06-09T00:00:00\",\"2022-06-18T00:00:00\",\"2022-06-30T00:00:00\",\"2022-07-12T00:00:00\",\"2022-07-24T00:00:00\",\"2022-08-23T00:00:00\",\"2022-10-04T00:00:00\",\"2022-10-22T00:00:00\",\"2022-10-31T00:00:00\",\"2022-11-30T00:00:00\",\"2022-12-15T00:00:00\",\"2022-12-24T00:00:00\"],\"xaxis\":\"x\",\"y\":[87,149,28,40,33,26,38,34,42,23,21,38,30,46,20,41,30],\"yaxis\":\"y\",\"type\":\"scatter\"},{\"hovertemplate\":\"Product=2kg Single Origin Select\\u003cbr\\u003eArea=Southbank\\u003cbr\\u003eDate=%{x}\\u003cbr\\u003eQty=%{y}\\u003cextra\\u003e\\u003c\\u002fextra\\u003e\",\"legendgroup\":\"2kg Single Origin Select\",\"line\":{\"color\":\"#00cc96\",\"dash\":\"solid\"},\"marker\":{\"symbol\":\"circle\"},\"mode\":\"lines\",\"name\":\"2kg Single Origin Select\",\"orientation\":\"v\",\"showlegend\":false,\"x\":[\"2022-04-13T00:00:00\",\"2022-05-13T00:00:00\"],\"xaxis\":\"x2\",\"y\":[21,21],\"yaxis\":\"y2\",\"type\":\"scatter\"},{\"hovertemplate\":\"Product=2kg Single Origin Select\\u003cbr\\u003eArea=CBD\\u003cbr\\u003eDate=%{x}\\u003cbr\\u003eQty=%{y}\\u003cextra\\u003e\\u003c\\u002fextra\\u003e\",\"legendgroup\":\"2kg Single Origin Select\",\"line\":{\"color\":\"#00cc96\",\"dash\":\"solid\"},\"marker\":{\"symbol\":\"circle\"},\"mode\":\"lines\",\"name\":\"2kg Single Origin Select\",\"orientation\":\"v\",\"showlegend\":false,\"x\":[\"2022-01-20T00:00:00\",\"2022-04-10T00:00:00\",\"2022-08-11T00:00:00\",\"2022-10-19T00:00:00\",\"2022-12-12T00:00:00\"],\"xaxis\":\"x3\",\"y\":[31,23,30,32,25],\"yaxis\":\"y3\",\"type\":\"scatter\"},{\"hovertemplate\":\"Product=2kg Single Origin Select\\u003cbr\\u003eArea=West End\\u003cbr\\u003eDate=%{x}\\u003cbr\\u003eQty=%{y}\\u003cextra\\u003e\\u003c\\u002fextra\\u003e\",\"legendgroup\":\"2kg Single Origin Select\",\"line\":{\"color\":\"#00cc96\",\"dash\":\"solid\"},\"marker\":{\"symbol\":\"circle\"},\"mode\":\"lines\",\"name\":\"2kg Single Origin Select\",\"orientation\":\"v\",\"showlegend\":false,\"x\":[\"2022-06-12T00:00:00\",\"2022-07-06T00:00:00\"],\"xaxis\":\"x4\",\"y\":[20,28],\"yaxis\":\"y4\",\"type\":\"scatter\"},{\"hovertemplate\":\"Product=2kg Light Roast\\u003cbr\\u003eArea=Fortitude Valley\\u003cbr\\u003eDate=%{x}\\u003cbr\\u003eQty=%{y}\\u003cextra\\u003e\\u003c\\u002fextra\\u003e\",\"legendgroup\":\"2kg Light Roast\",\"line\":{\"color\":\"#ab63fa\",\"dash\":\"solid\"},\"marker\":{\"symbol\":\"circle\"},\"mode\":\"lines\",\"name\":\"2kg Light Roast\",\"orientation\":\"v\",\"showlegend\":true,\"x\":[\"2022-02-03T00:00:00\",\"2022-06-27T00:00:00\",\"2022-07-21T00:00:00\",\"2022-10-28T00:00:00\",\"2022-11-27T00:00:00\",\"2022-12-12T00:00:00\",\"2022-12-21T00:00:00\"],\"xaxis\":\"x\",\"y\":[31,38,32,49,211,36,245],\"yaxis\":\"y\",\"type\":\"scatter\"},{\"hovertemplate\":\"Product=2kg Light Roast\\u003cbr\\u003eArea=Southbank\\u003cbr\\u003eDate=%{x}\\u003cbr\\u003eQty=%{y}\\u003cextra\\u003e\\u003c\\u002fextra\\u003e\",\"legendgroup\":\"2kg Light Roast\",\"line\":{\"color\":\"#ab63fa\",\"dash\":\"solid\"},\"marker\":{\"symbol\":\"circle\"},\"mode\":\"lines\",\"name\":\"2kg Light Roast\",\"orientation\":\"v\",\"showlegend\":false,\"x\":[\"2022-01-07T00:00:00\",\"2022-02-07T00:00:00\",\"2022-02-28T00:00:00\",\"2022-03-14T00:00:00\",\"2022-05-04T00:00:00\",\"2022-05-22T00:00:00\",\"2022-07-15T00:00:00\",\"2022-07-30T00:00:00\",\"2022-08-05T00:00:00\",\"2022-08-26T00:00:00\"],\"xaxis\":\"x2\",\"y\":[58,34,232,86,58,43,75,64,107,80],\"yaxis\":\"y2\",\"type\":\"scatter\"},{\"hovertemplate\":\"Product=2kg Light Roast\\u003cbr\\u003eArea=CBD\\u003cbr\\u003eDate=%{x}\\u003cbr\\u003eQty=%{y}\\u003cextra\\u003e\\u003c\\u002fextra\\u003e\",\"legendgroup\":\"2kg Light Roast\",\"line\":{\"color\":\"#ab63fa\",\"dash\":\"solid\"},\"marker\":{\"symbol\":\"circle\"},\"mode\":\"lines\",\"name\":\"2kg Light Roast\",\"orientation\":\"v\",\"showlegend\":false,\"x\":[\"2022-01-10T00:00:00\",\"2022-03-02T00:00:00\",\"2022-06-06T00:00:00\",\"2022-07-12T00:00:00\",\"2022-09-22T00:00:00\",\"2022-10-10T00:00:00\",\"2022-11-18T00:00:00\",\"2022-12-27T00:00:00\"],\"xaxis\":\"x3\",\"y\":[82,85,76,40,65,23,34,65],\"yaxis\":\"y3\",\"type\":\"scatter\"},{\"hovertemplate\":\"Product=2kg Light Roast\\u003cbr\\u003eArea=West End\\u003cbr\\u003eDate=%{x}\\u003cbr\\u003eQty=%{y}\\u003cextra\\u003e\\u003c\\u002fextra\\u003e\",\"legendgroup\":\"2kg Light Roast\",\"line\":{\"color\":\"#ab63fa\",\"dash\":\"solid\"},\"marker\":{\"symbol\":\"circle\"},\"mode\":\"lines\",\"name\":\"2kg Light Roast\",\"orientation\":\"v\",\"showlegend\":false,\"x\":[\"2022-03-23T00:00:00\",\"2022-04-22T00:00:00\",\"2022-05-01T00:00:00\",\"2022-05-13T00:00:00\",\"2022-05-22T00:00:00\",\"2022-08-14T00:00:00\",\"2022-11-03T00:00:00\",\"2022-12-15T00:00:00\"],\"xaxis\":\"x4\",\"y\":[39,67,63,82,55,70,24,96],\"yaxis\":\"y4\",\"type\":\"scatter\"},{\"hovertemplate\":\"Product=4kg Everyday Blend\\u003cbr\\u003eArea=Fortitude Valley\\u003cbr\\u003eDate=%{x}\\u003cbr\\u003eQty=%{y}\\u003cextra\\u003e\\u003c\\u002fextra\\u003e\",\"legendgroup\":\"4kg Everyday Blend\",\"line\":{\"color\":\"#FFA15A\",\"dash\":\"solid\"},\"marker\":{\"symbol\":\"circle\"},\"mode\":\"lines\",\"name\":\"4kg Everyday Blend\",\"orientation\":\"v\",\"showlegend\":true,\"x\":[\"2022-01-08T00:00:00\",\"2022-02-22T00:00:00\",\"2022-05-19T00:00:00\",\"2022-08-14T00:00:00\",\"2022-09-04T00:00:00\",\"2022-09-13T00:00:00\",\"2022-09-28T00:00:00\"],\"xaxis\":\"x\",\"y\":[29,31,30,22,26,27,21],\"yaxis\":\"y\",\"type\":\"scatter\"},{\"hovertemplate\":\"Product=2kg Cafe Single Origin\\u003cbr\\u003eArea=Fortitude Valley\\u003cbr\\u003eDate=%{x}\\u003cbr\\u003eQty=%{y}\\u003cextra\\u003e\\u003c\\u002fextra\\u003e\",\"legendgroup\":\"2kg Cafe Single Origin\",\"line\":{\"color\":\"#19d3f3\",\"dash\":\"solid\"},\"marker\":{\"symbol\":\"circle\"},\"mode\":\"lines\",\"name\":\"2kg Cafe Single Origin\",\"orientation\":\"v\",\"showlegend\":true,\"x\":[\"2022-03-26T00:00:00\",\"2022-04-25T00:00:00\",\"2022-05-04T00:00:00\",\"2022-06-03T00:00:00\",\"2022-07-30T00:00:00\",\"2022-11-06T00:00:00\",\"2022-11-18T00:00:00\"],\"xaxis\":\"x\",\"y\":[103,27,105,27,56,83,66],\"yaxis\":\"y\",\"type\":\"scatter\"},{\"hovertemplate\":\"Product=2kg Cafe Single Origin\\u003cbr\\u003eArea=Southbank\\u003cbr\\u003eDate=%{x}\\u003cbr\\u003eQty=%{y}\\u003cextra\\u003e\\u003c\\u002fextra\\u003e\",\"legendgroup\":\"2kg Cafe Single Origin\",\"line\":{\"color\":\"#19d3f3\",\"dash\":\"solid\"},\"marker\":{\"symbol\":\"circle\"},\"mode\":\"lines\",\"name\":\"2kg Cafe Single Origin\",\"orientation\":\"v\",\"showlegend\":false,\"x\":[\"2022-01-11T00:00:00\",\"2022-02-24T00:00:00\",\"2022-07-03T00:00:00\",\"2022-09-07T00:00:00\",\"2022-10-01T00:00:00\",\"2022-12-03T00:00:00\",\"2022-12-27T00:00:00\"],\"xaxis\":\"x2\",\"y\":[77,42,65,50,43,42,30],\"yaxis\":\"y2\",\"type\":\"scatter\"},{\"hovertemplate\":\"Product=2kg Cafe Single Origin\\u003cbr\\u003eArea=CBD\\u003cbr\\u003eDate=%{x}\\u003cbr\\u003eQty=%{y}\\u003cextra\\u003e\\u003c\\u002fextra\\u003e\",\"legendgroup\":\"2kg Cafe Single Origin\",\"line\":{\"color\":\"#19d3f3\",\"dash\":\"solid\"},\"marker\":{\"symbol\":\"circle\"},\"mode\":\"lines\",\"name\":\"2kg Cafe Single Origin\",\"orientation\":\"v\",\"showlegend\":false,\"x\":[\"2022-03-02T00:00:00\",\"2022-03-26T00:00:00\",\"2022-05-07T00:00:00\",\"2022-06-15T00:00:00\",\"2022-06-27T00:00:00\",\"2022-07-18T00:00:00\",\"2022-08-20T00:00:00\",\"2022-08-29T00:00:00\",\"2022-10-28T00:00:00\"],\"xaxis\":\"x3\",\"y\":[68,57,47,38,110,72,39,75,57],\"yaxis\":\"y3\",\"type\":\"scatter\"},{\"hovertemplate\":\"Product=2kg Cafe Single Origin\\u003cbr\\u003eArea=West End\\u003cbr\\u003eDate=%{x}\\u003cbr\\u003eQty=%{y}\\u003cextra\\u003e\\u003c\\u002fextra\\u003e\",\"legendgroup\":\"2kg Cafe Single Origin\",\"line\":{\"color\":\"#19d3f3\",\"dash\":\"solid\"},\"marker\":{\"symbol\":\"circle\"},\"mode\":\"lines\",\"name\":\"2kg Cafe Single Origin\",\"orientation\":\"v\",\"showlegend\":false,\"x\":[\"2022-03-08T00:00:00\",\"2022-07-15T00:00:00\",\"2022-07-24T00:00:00\",\"2022-09-25T00:00:00\"],\"xaxis\":\"x4\",\"y\":[86,26,51,33],\"yaxis\":\"y4\",\"type\":\"scatter\"},{\"hovertemplate\":\"Product=2kg Dark Blend\\u003cbr\\u003eArea=Fortitude Valley\\u003cbr\\u003eDate=%{x}\\u003cbr\\u003eQty=%{y}\\u003cextra\\u003e\\u003c\\u002fextra\\u003e\",\"legendgroup\":\"2kg Dark Blend\",\"line\":{\"color\":\"#FF6692\",\"dash\":\"solid\"},\"marker\":{\"symbol\":\"circle\"},\"mode\":\"lines\",\"name\":\"2kg Dark Blend\",\"orientation\":\"v\",\"showlegend\":true,\"x\":[\"2022-02-21T00:00:00\",\"2022-03-29T00:00:00\",\"2022-04-07T00:00:00\",\"2022-04-28T00:00:00\",\"2022-05-07T00:00:00\",\"2022-06-06T00:00:00\",\"2022-08-02T00:00:00\",\"2022-11-09T00:00:00\",\"2022-11-21T00:00:00\"],\"xaxis\":\"x\",\"y\":[123,193,123,129,138,120,137,124,97],\"yaxis\":\"y\",\"type\":\"scatter\"},{\"hovertemplate\":\"Product=2kg Dark Blend\\u003cbr\\u003eArea=Southbank\\u003cbr\\u003eDate=%{x}\\u003cbr\\u003eQty=%{y}\\u003cextra\\u003e\\u003c\\u002fextra\\u003e\",\"legendgroup\":\"2kg Dark Blend\",\"line\":{\"color\":\"#FF6692\",\"dash\":\"solid\"},\"marker\":{\"symbol\":\"circle\"},\"mode\":\"lines\",\"name\":\"2kg Dark Blend\",\"orientation\":\"v\",\"showlegend\":false,\"x\":[\"2022-01-14T00:00:00\",\"2022-02-27T00:00:00\",\"2022-06-03T00:00:00\",\"2022-07-06T00:00:00\",\"2022-09-10T00:00:00\",\"2022-10-04T00:00:00\",\"2022-12-06T00:00:00\",\"2022-12-30T00:00:00\"],\"xaxis\":\"x2\",\"y\":[80,33,288,60,79,47,100,44],\"yaxis\":\"y2\",\"type\":\"scatter\"},{\"hovertemplate\":\"Product=2kg Dark Blend\\u003cbr\\u003eArea=CBD\\u003cbr\\u003eDate=%{x}\\u003cbr\\u003eQty=%{y}\\u003cextra\\u003e\\u003c\\u002fextra\\u003e\",\"legendgroup\":\"2kg Dark Blend\",\"line\":{\"color\":\"#FF6692\",\"dash\":\"solid\"},\"marker\":{\"symbol\":\"circle\"},\"mode\":\"lines\",\"name\":\"2kg Dark Blend\",\"orientation\":\"v\",\"showlegend\":false,\"x\":[\"2022-03-05T00:00:00\",\"2022-03-29T00:00:00\",\"2022-05-10T00:00:00\",\"2022-06-18T00:00:00\",\"2022-06-30T00:00:00\",\"2022-07-21T00:00:00\",\"2022-08-23T00:00:00\",\"2022-09-01T00:00:00\"],\"xaxis\":\"x3\",\"y\":[97,65,33,40,51,56,41,74],\"yaxis\":\"y3\",\"type\":\"scatter\"},{\"hovertemplate\":\"Product=2kg Dark Blend\\u003cbr\\u003eArea=West End\\u003cbr\\u003eDate=%{x}\\u003cbr\\u003eQty=%{y}\\u003cextra\\u003e\\u003c\\u002fextra\\u003e\",\"legendgroup\":\"2kg Dark Blend\",\"line\":{\"color\":\"#FF6692\",\"dash\":\"solid\"},\"marker\":{\"symbol\":\"circle\"},\"mode\":\"lines\",\"name\":\"2kg Dark Blend\",\"orientation\":\"v\",\"showlegend\":false,\"x\":[\"2022-02-16T00:00:00\",\"2022-03-05T00:00:00\",\"2022-05-31T00:00:00\",\"2022-08-08T00:00:00\",\"2022-11-15T00:00:00\",\"2022-12-06T00:00:00\"],\"xaxis\":\"x4\",\"y\":[29,30,44,38,32,29],\"yaxis\":\"y4\",\"type\":\"scatter\"},{\"hovertemplate\":\"Product=2kg Everyday Blend\\u003cbr\\u003eArea=Fortitude Valley\\u003cbr\\u003eDate=%{x}\\u003cbr\\u003eQty=%{y}\\u003cextra\\u003e\\u003c\\u002fextra\\u003e\",\"legendgroup\":\"2kg Everyday Blend\",\"line\":{\"color\":\"#B6E880\",\"dash\":\"solid\"},\"marker\":{\"symbol\":\"circle\"},\"mode\":\"lines\",\"name\":\"2kg Everyday Blend\",\"orientation\":\"v\",\"showlegend\":true,\"x\":[\"2022-02-01T00:00:00\",\"2022-03-17T00:00:00\",\"2022-04-19T00:00:00\"],\"xaxis\":\"x\",\"y\":[24,47,134],\"yaxis\":\"y\",\"type\":\"scatter\"},{\"hovertemplate\":\"Product=2kg Everyday Blend\\u003cbr\\u003eArea=Southbank\\u003cbr\\u003eDate=%{x}\\u003cbr\\u003eQty=%{y}\\u003cextra\\u003e\\u003c\\u002fextra\\u003e\",\"legendgroup\":\"2kg Everyday Blend\",\"line\":{\"color\":\"#B6E880\",\"dash\":\"solid\"},\"marker\":{\"symbol\":\"circle\"},\"mode\":\"lines\",\"name\":\"2kg Everyday Blend\",\"orientation\":\"v\",\"showlegend\":false,\"x\":[\"2022-03-23T00:00:00\",\"2022-04-04T00:00:00\",\"2022-06-24T00:00:00\",\"2022-10-10T00:00:00\",\"2022-11-06T00:00:00\",\"2022-11-27T00:00:00\",\"2022-12-21T00:00:00\"],\"xaxis\":\"x2\",\"y\":[33,68,28,114,62,29,29],\"yaxis\":\"y2\",\"type\":\"scatter\"},{\"hovertemplate\":\"Product=2kg Everyday Blend\\u003cbr\\u003eArea=CBD\\u003cbr\\u003eDate=%{x}\\u003cbr\\u003eQty=%{y}\\u003cextra\\u003e\\u003c\\u002fextra\\u003e\",\"legendgroup\":\"2kg Everyday Blend\",\"line\":{\"color\":\"#B6E880\",\"dash\":\"solid\"},\"marker\":{\"symbol\":\"circle\"},\"mode\":\"lines\",\"name\":\"2kg Everyday Blend\",\"orientation\":\"v\",\"showlegend\":false,\"x\":[\"2022-01-28T00:00:00\",\"2022-02-13T00:00:00\",\"2022-02-15T00:00:00\",\"2022-03-20T00:00:00\",\"2022-04-19T00:00:00\",\"2022-04-28T00:00:00\",\"2022-05-19T00:00:00\",\"2022-09-16T00:00:00\",\"2022-10-31T00:00:00\"],\"xaxis\":\"x3\",\"y\":[28,21,27,68,24,64,49,20,25],\"yaxis\":\"y3\",\"type\":\"scatter\"},{\"hovertemplate\":\"Product=2kg Everyday Blend\\u003cbr\\u003eArea=West End\\u003cbr\\u003eDate=%{x}\\u003cbr\\u003eQty=%{y}\\u003cextra\\u003e\\u003c\\u002fextra\\u003e\",\"legendgroup\":\"2kg Everyday Blend\",\"line\":{\"color\":\"#B6E880\",\"dash\":\"solid\"},\"marker\":{\"symbol\":\"circle\"},\"mode\":\"lines\",\"name\":\"2kg Everyday Blend\",\"orientation\":\"v\",\"showlegend\":false,\"x\":[\"2022-03-11T00:00:00\",\"2022-04-13T00:00:00\",\"2022-07-27T00:00:00\"],\"xaxis\":\"x4\",\"y\":[41,28,31],\"yaxis\":\"y4\",\"type\":\"scatter\"},{\"hovertemplate\":\"Product=2kg Single Origin Custom\\u003cbr\\u003eArea=Fortitude Valley\\u003cbr\\u003eDate=%{x}\\u003cbr\\u003eQty=%{y}\\u003cextra\\u003e\\u003c\\u002fextra\\u003e\",\"legendgroup\":\"2kg Single Origin Custom\",\"line\":{\"color\":\"#FF97FF\",\"dash\":\"solid\"},\"marker\":{\"symbol\":\"circle\"},\"mode\":\"lines\",\"name\":\"2kg Single Origin Custom\",\"orientation\":\"v\",\"showlegend\":true,\"x\":[\"2022-06-24T00:00:00\",\"2022-07-18T00:00:00\",\"2022-12-09T00:00:00\"],\"xaxis\":\"x\",\"y\":[27,22,30],\"yaxis\":\"y\",\"type\":\"scatter\"}],                        {\"template\":{\"data\":{\"histogram2dcontour\":[{\"type\":\"histogram2dcontour\",\"colorbar\":{\"outlinewidth\":0,\"ticks\":\"\"},\"colorscale\":[[0.0,\"#0d0887\"],[0.1111111111111111,\"#46039f\"],[0.2222222222222222,\"#7201a8\"],[0.3333333333333333,\"#9c179e\"],[0.4444444444444444,\"#bd3786\"],[0.5555555555555556,\"#d8576b\"],[0.6666666666666666,\"#ed7953\"],[0.7777777777777778,\"#fb9f3a\"],[0.8888888888888888,\"#fdca26\"],[1.0,\"#f0f921\"]]}],\"choropleth\":[{\"type\":\"choropleth\",\"colorbar\":{\"outlinewidth\":0,\"ticks\":\"\"}}],\"histogram2d\":[{\"type\":\"histogram2d\",\"colorbar\":{\"outlinewidth\":0,\"ticks\":\"\"},\"colorscale\":[[0.0,\"#0d0887\"],[0.1111111111111111,\"#46039f\"],[0.2222222222222222,\"#7201a8\"],[0.3333333333333333,\"#9c179e\"],[0.4444444444444444,\"#bd3786\"],[0.5555555555555556,\"#d8576b\"],[0.6666666666666666,\"#ed7953\"],[0.7777777777777778,\"#fb9f3a\"],[0.8888888888888888,\"#fdca26\"],[1.0,\"#f0f921\"]]}],\"heatmap\":[{\"type\":\"heatmap\",\"colorbar\":{\"outlinewidth\":0,\"ticks\":\"\"},\"colorscale\":[[0.0,\"#0d0887\"],[0.1111111111111111,\"#46039f\"],[0.2222222222222222,\"#7201a8\"],[0.3333333333333333,\"#9c179e\"],[0.4444444444444444,\"#bd3786\"],[0.5555555555555556,\"#d8576b\"],[0.6666666666666666,\"#ed7953\"],[0.7777777777777778,\"#fb9f3a\"],[0.8888888888888888,\"#fdca26\"],[1.0,\"#f0f921\"]]}],\"heatmapgl\":[{\"type\":\"heatmapgl\",\"colorbar\":{\"outlinewidth\":0,\"ticks\":\"\"},\"colorscale\":[[0.0,\"#0d0887\"],[0.1111111111111111,\"#46039f\"],[0.2222222222222222,\"#7201a8\"],[0.3333333333333333,\"#9c179e\"],[0.4444444444444444,\"#bd3786\"],[0.5555555555555556,\"#d8576b\"],[0.6666666666666666,\"#ed7953\"],[0.7777777777777778,\"#fb9f3a\"],[0.8888888888888888,\"#fdca26\"],[1.0,\"#f0f921\"]]}],\"contourcarpet\":[{\"type\":\"contourcarpet\",\"colorbar\":{\"outlinewidth\":0,\"ticks\":\"\"}}],\"contour\":[{\"type\":\"contour\",\"colorbar\":{\"outlinewidth\":0,\"ticks\":\"\"},\"colorscale\":[[0.0,\"#0d0887\"],[0.1111111111111111,\"#46039f\"],[0.2222222222222222,\"#7201a8\"],[0.3333333333333333,\"#9c179e\"],[0.4444444444444444,\"#bd3786\"],[0.5555555555555556,\"#d8576b\"],[0.6666666666666666,\"#ed7953\"],[0.7777777777777778,\"#fb9f3a\"],[0.8888888888888888,\"#fdca26\"],[1.0,\"#f0f921\"]]}],\"surface\":[{\"type\":\"surface\",\"colorbar\":{\"outlinewidth\":0,\"ticks\":\"\"},\"colorscale\":[[0.0,\"#0d0887\"],[0.1111111111111111,\"#46039f\"],[0.2222222222222222,\"#7201a8\"],[0.3333333333333333,\"#9c179e\"],[0.4444444444444444,\"#bd3786\"],[0.5555555555555556,\"#d8576b\"],[0.6666666666666666,\"#ed7953\"],[0.7777777777777778,\"#fb9f3a\"],[0.8888888888888888,\"#fdca26\"],[1.0,\"#f0f921\"]]}],\"mesh3d\":[{\"type\":\"mesh3d\",\"colorbar\":{\"outlinewidth\":0,\"ticks\":\"\"}}],\"scatter\":[{\"fillpattern\":{\"fillmode\":\"overlay\",\"size\":10,\"solidity\":0.2},\"type\":\"scatter\"}],\"parcoords\":[{\"type\":\"parcoords\",\"line\":{\"colorbar\":{\"outlinewidth\":0,\"ticks\":\"\"}}}],\"scatterpolargl\":[{\"type\":\"scatterpolargl\",\"marker\":{\"colorbar\":{\"outlinewidth\":0,\"ticks\":\"\"}}}],\"bar\":[{\"error_x\":{\"color\":\"#2a3f5f\"},\"error_y\":{\"color\":\"#2a3f5f\"},\"marker\":{\"line\":{\"color\":\"#E5ECF6\",\"width\":0.5},\"pattern\":{\"fillmode\":\"overlay\",\"size\":10,\"solidity\":0.2}},\"type\":\"bar\"}],\"scattergeo\":[{\"type\":\"scattergeo\",\"marker\":{\"colorbar\":{\"outlinewidth\":0,\"ticks\":\"\"}}}],\"scatterpolar\":[{\"type\":\"scatterpolar\",\"marker\":{\"colorbar\":{\"outlinewidth\":0,\"ticks\":\"\"}}}],\"histogram\":[{\"marker\":{\"pattern\":{\"fillmode\":\"overlay\",\"size\":10,\"solidity\":0.2}},\"type\":\"histogram\"}],\"scattergl\":[{\"type\":\"scattergl\",\"marker\":{\"colorbar\":{\"outlinewidth\":0,\"ticks\":\"\"}}}],\"scatter3d\":[{\"type\":\"scatter3d\",\"line\":{\"colorbar\":{\"outlinewidth\":0,\"ticks\":\"\"}},\"marker\":{\"colorbar\":{\"outlinewidth\":0,\"ticks\":\"\"}}}],\"scattermapbox\":[{\"type\":\"scattermapbox\",\"marker\":{\"colorbar\":{\"outlinewidth\":0,\"ticks\":\"\"}}}],\"scatterternary\":[{\"type\":\"scatterternary\",\"marker\":{\"colorbar\":{\"outlinewidth\":0,\"ticks\":\"\"}}}],\"scattercarpet\":[{\"type\":\"scattercarpet\",\"marker\":{\"colorbar\":{\"outlinewidth\":0,\"ticks\":\"\"}}}],\"carpet\":[{\"aaxis\":{\"endlinecolor\":\"#2a3f5f\",\"gridcolor\":\"white\",\"linecolor\":\"white\",\"minorgridcolor\":\"white\",\"startlinecolor\":\"#2a3f5f\"},\"baxis\":{\"endlinecolor\":\"#2a3f5f\",\"gridcolor\":\"white\",\"linecolor\":\"white\",\"minorgridcolor\":\"white\",\"startlinecolor\":\"#2a3f5f\"},\"type\":\"carpet\"}],\"table\":[{\"cells\":{\"fill\":{\"color\":\"#EBF0F8\"},\"line\":{\"color\":\"white\"}},\"header\":{\"fill\":{\"color\":\"#C8D4E3\"},\"line\":{\"color\":\"white\"}},\"type\":\"table\"}],\"barpolar\":[{\"marker\":{\"line\":{\"color\":\"#E5ECF6\",\"width\":0.5},\"pattern\":{\"fillmode\":\"overlay\",\"size\":10,\"solidity\":0.2}},\"type\":\"barpolar\"}],\"pie\":[{\"automargin\":true,\"type\":\"pie\"}]},\"layout\":{\"autotypenumbers\":\"strict\",\"colorway\":[\"#636efa\",\"#EF553B\",\"#00cc96\",\"#ab63fa\",\"#FFA15A\",\"#19d3f3\",\"#FF6692\",\"#B6E880\",\"#FF97FF\",\"#FECB52\"],\"font\":{\"color\":\"#2a3f5f\"},\"hovermode\":\"closest\",\"hoverlabel\":{\"align\":\"left\"},\"paper_bgcolor\":\"white\",\"plot_bgcolor\":\"#E5ECF6\",\"polar\":{\"bgcolor\":\"#E5ECF6\",\"angularaxis\":{\"gridcolor\":\"white\",\"linecolor\":\"white\",\"ticks\":\"\"},\"radialaxis\":{\"gridcolor\":\"white\",\"linecolor\":\"white\",\"ticks\":\"\"}},\"ternary\":{\"bgcolor\":\"#E5ECF6\",\"aaxis\":{\"gridcolor\":\"white\",\"linecolor\":\"white\",\"ticks\":\"\"},\"baxis\":{\"gridcolor\":\"white\",\"linecolor\":\"white\",\"ticks\":\"\"},\"caxis\":{\"gridcolor\":\"white\",\"linecolor\":\"white\",\"ticks\":\"\"}},\"coloraxis\":{\"colorbar\":{\"outlinewidth\":0,\"ticks\":\"\"}},\"colorscale\":{\"sequential\":[[0.0,\"#0d0887\"],[0.1111111111111111,\"#46039f\"],[0.2222222222222222,\"#7201a8\"],[0.3333333333333333,\"#9c179e\"],[0.4444444444444444,\"#bd3786\"],[0.5555555555555556,\"#d8576b\"],[0.6666666666666666,\"#ed7953\"],[0.7777777777777778,\"#fb9f3a\"],[0.8888888888888888,\"#fdca26\"],[1.0,\"#f0f921\"]],\"sequentialminus\":[[0.0,\"#0d0887\"],[0.1111111111111111,\"#46039f\"],[0.2222222222222222,\"#7201a8\"],[0.3333333333333333,\"#9c179e\"],[0.4444444444444444,\"#bd3786\"],[0.5555555555555556,\"#d8576b\"],[0.6666666666666666,\"#ed7953\"],[0.7777777777777778,\"#fb9f3a\"],[0.8888888888888888,\"#fdca26\"],[1.0,\"#f0f921\"]],\"diverging\":[[0,\"#8e0152\"],[0.1,\"#c51b7d\"],[0.2,\"#de77ae\"],[0.3,\"#f1b6da\"],[0.4,\"#fde0ef\"],[0.5,\"#f7f7f7\"],[0.6,\"#e6f5d0\"],[0.7,\"#b8e186\"],[0.8,\"#7fbc41\"],[0.9,\"#4d9221\"],[1,\"#276419\"]]},\"xaxis\":{\"gridcolor\":\"white\",\"linecolor\":\"white\",\"ticks\":\"\",\"title\":{\"standoff\":15},\"zerolinecolor\":\"white\",\"automargin\":true,\"zerolinewidth\":2},\"yaxis\":{\"gridcolor\":\"white\",\"linecolor\":\"white\",\"ticks\":\"\",\"title\":{\"standoff\":15},\"zerolinecolor\":\"white\",\"automargin\":true,\"zerolinewidth\":2},\"scene\":{\"xaxis\":{\"backgroundcolor\":\"#E5ECF6\",\"gridcolor\":\"white\",\"linecolor\":\"white\",\"showbackground\":true,\"ticks\":\"\",\"zerolinecolor\":\"white\",\"gridwidth\":2},\"yaxis\":{\"backgroundcolor\":\"#E5ECF6\",\"gridcolor\":\"white\",\"linecolor\":\"white\",\"showbackground\":true,\"ticks\":\"\",\"zerolinecolor\":\"white\",\"gridwidth\":2},\"zaxis\":{\"backgroundcolor\":\"#E5ECF6\",\"gridcolor\":\"white\",\"linecolor\":\"white\",\"showbackground\":true,\"ticks\":\"\",\"zerolinecolor\":\"white\",\"gridwidth\":2}},\"shapedefaults\":{\"line\":{\"color\":\"#2a3f5f\"}},\"annotationdefaults\":{\"arrowcolor\":\"#2a3f5f\",\"arrowhead\":0,\"arrowwidth\":1},\"geo\":{\"bgcolor\":\"white\",\"landcolor\":\"#E5ECF6\",\"subunitcolor\":\"white\",\"showland\":true,\"showlakes\":true,\"lakecolor\":\"white\"},\"title\":{\"x\":0.05},\"mapbox\":{\"style\":\"light\"}}},\"xaxis\":{\"anchor\":\"y\",\"domain\":[0.0,0.235],\"title\":{\"text\":\"Date\"}},\"yaxis\":{\"anchor\":\"x\",\"domain\":[0.0,1.0],\"title\":{\"text\":\"Total Qty for each Products\"}},\"xaxis2\":{\"anchor\":\"y2\",\"domain\":[0.255,0.49],\"matches\":\"x\",\"title\":{\"text\":\"Date\"}},\"yaxis2\":{\"anchor\":\"x2\",\"domain\":[0.0,1.0],\"matches\":\"y\",\"showticklabels\":false},\"xaxis3\":{\"anchor\":\"y3\",\"domain\":[0.51,0.745],\"matches\":\"x\",\"title\":{\"text\":\"Date\"}},\"yaxis3\":{\"anchor\":\"x3\",\"domain\":[0.0,1.0],\"matches\":\"y\",\"showticklabels\":false},\"xaxis4\":{\"anchor\":\"y4\",\"domain\":[0.7649999999999999,0.9999999999999999],\"matches\":\"x\",\"title\":{\"text\":\"Date\"}},\"yaxis4\":{\"anchor\":\"x4\",\"domain\":[0.0,1.0],\"matches\":\"y\",\"showticklabels\":false},\"annotations\":[{\"font\":{},\"showarrow\":false,\"text\":\"Area=Fortitude Valley\",\"x\":0.1175,\"xanchor\":\"center\",\"xref\":\"paper\",\"y\":1.0,\"yanchor\":\"bottom\",\"yref\":\"paper\"},{\"font\":{},\"showarrow\":false,\"text\":\"Area=Southbank\",\"x\":0.3725,\"xanchor\":\"center\",\"xref\":\"paper\",\"y\":1.0,\"yanchor\":\"bottom\",\"yref\":\"paper\"},{\"font\":{},\"showarrow\":false,\"text\":\"Area=CBD\",\"x\":0.6275,\"xanchor\":\"center\",\"xref\":\"paper\",\"y\":1.0,\"yanchor\":\"bottom\",\"yref\":\"paper\"},{\"font\":{},\"showarrow\":false,\"text\":\"Area=West End\",\"x\":0.8824999999999998,\"xanchor\":\"center\",\"xref\":\"paper\",\"y\":1.0,\"yanchor\":\"bottom\",\"yref\":\"paper\"}],\"legend\":{\"title\":{\"text\":\"Product\"},\"tracegroupgap\":0},\"title\":{\"text\":\"Total Sales by months and areas\"}},                        {\"responsive\": true}                    ).then(function(){\n",
       "                            \n",
       "var gd = document.getElementById('6ce78c8b-db89-42d1-b470-54963d18cf4f');\n",
       "var x = new MutationObserver(function (mutations, observer) {{\n",
       "        var display = window.getComputedStyle(gd).display;\n",
       "        if (!display || display === 'none') {{\n",
       "            console.log([gd, 'removed!']);\n",
       "            Plotly.purge(gd);\n",
       "            observer.disconnect();\n",
       "        }}\n",
       "}});\n",
       "\n",
       "// Listen for the removal of the full notebook cells\n",
       "var notebookContainer = gd.closest('#notebook-container');\n",
       "if (notebookContainer) {{\n",
       "    x.observe(notebookContainer, {childList: true});\n",
       "}}\n",
       "\n",
       "// Listen for the clearing of the current output cell\n",
       "var outputEl = gd.closest('.output');\n",
       "if (outputEl) {{\n",
       "    x.observe(outputEl, {childList: true});\n",
       "}}\n",
       "\n",
       "                        })                };                });            </script>        </div>"
      ]
     },
     "metadata": {},
     "output_type": "display_data"
    }
   ],
   "source": [
    "# Create a line chart to analyze total sales by months and areas, with separate lines for each product\n",
    "seasons_total = px.line(coffee_trend_by_season, x = \"Date\", y = \"Qty\", color = \"Product\",\n",
    "                       title = \"Total Sales by months and areas\", facet_col=\"Area\", facet_col_wrap=4)\n",
    "\n",
    "# Customize the y-axis title to reflect the total quantity for each product\n",
    "seasons_total.update_layout(yaxis_title = \"Total Qty for each Products\")\n",
    "\n",
    "# Show the visualizations\n",
    "seasons_total.show()    "
   ]
  },
  {
   "cell_type": "markdown",
   "metadata": {},
   "source": [
    "### 5. Insight"
   ]
  },
  {
   "cell_type": "markdown",
   "metadata": {},
   "source": [
    "*Write your business insights drawn from the data analytics. Ensure that you clearly connect the business concern, the question, the analytics and the insights.*\n",
    "\n",
    "### Which regions within Brisbane City are the top-performing in terms of coffee sales?\n",
    "- The data analysis reveals that Fortitude Valley emerges as the top-performing area in Brisbane City, with the highest total sales. Southbank comes in third, closely followed by CBD with the second-highest overall sales. Even while West End is currently doing well, it ranks fourth in overall sales. With the help of these information, we can carefully deploy resources and adjust our business strategy to best leverage our presence and potential in Fortitude Valley, the CBD, and Southbank, three areas with strong sales. And this highlights the importance of focusing on Fortitude Valley for maximizing sales efforts.\n",
    "### Which coffee product ranges are driving the highest total sales?\n",
    "- The 2kg Cafe Blend range clearly stands out as the best-performing one, delivering the most significant amount of overall sales, according to the data analytics. The 2kg Single Origin Select, with the second-highest overall sales, is closely behind. The 2kg Smooth Blend comes in at number three, followed by the 2kg Light Roast at number four, and the 2kg Dark Blend at number three. Marketing plans and inventory management both depend on this information. It instructs us to adapt our strategy for the other product lines and concentrate resources and marketing efforts on promoting the 2kg Cafe Blend, which accounts for the majority of our sales.\n",
    "\n",
    "### Which specific coffee products are performing exceptionally well in different areas, and during which months do they exhibit the highest sales?\n",
    "- In Fortitude Valley, two standout products warrant attention due to their consistent high sales performance. These products are the 2kg Dark Blend and the 2kg Light Roast. The 2kg Dark Blend experienced its peak sales between February and April, while the 2kg Light Roast shone in November and December, outperforming all other products during those months. Conversely, the 2kg Single Origin Custom consistently showed the lowest sales across all months in this area.\n",
    "\n",
    "- In Southbank, the spotlight falls on the 2kg Light Roast, 2kg Dark Blend, and 2kg Cafe Blend. The 2kg Light Roast achieved its highest sales at the end of February. Both the 2kg Dark Blend and 2kg Cafe Blend reached their peak sales in June. These insights suggest that these products should receive particular marketing attention during these months in Southbank.\n",
    "\n",
    "- For CBD, the noteworthy products are the 2kg Smooth Blend and the 2kg Single Origin Select. The 2kg Smooth Blend experienced a sales peak in October, followed by another surge in December. In contrast, the 2kg Single Origin Select consistently displayed the lowest sales throughout the year. To maximize sales, it's essential to leverage the sales trends for the 2kg Smooth Blend and address the challenges faced by the 2kg Single Origin Select.\n",
    "\n",
    "- West End showcased relatively lower sales for all products. While the 2kg Cafe Blend and 2kg Smooth Blend saw slight upticks in sales in April and December, respectively, these increases were not dramatic. West End, in general, maintained lower sales across all products. To boost sales in this area, a more comprehensive marketing and product strategy may be required.\n",
    "\n",
    "- ##### From this we can maximize promotions for 2kg Cafe Blend, 2kg Smooth Blend, and products with high sales in specific months, address challenges faced by consistently low-performing products, and focus on Fortitude Valley for sales growth due to its consistently high sales.\n"
   ]
  },
  {
   "cell_type": "markdown",
   "metadata": {},
   "source": [
    "---\n",
    "## Question 2 - External Concern\n",
    "\n",
    "Your business is a boutique coffee roastery, and you are interested in wheather general news about coffee is potentially helpful for you business. You are also looking for specific news that you can use to (a)promote the positives of drinking coffee, and (b) identify other products that could be good to sell with coffee.\n",
    "\n",
    "#### Data:\n",
    "[The Guardian OpenPlatform](https://open-platform.theguardian.com/access/)\n"
   ]
  },
  {
   "cell_type": "code",
   "execution_count": 58,
   "metadata": {},
   "outputs": [],
   "source": [
    "# import libraries that you need here\n",
    "import requests\n",
    "import json\n",
    "import re\n",
    "import time\n",
    "import pandas as pd"
   ]
  },
  {
   "cell_type": "markdown",
   "metadata": {},
   "source": [
    "### 1. Question"
   ]
  },
  {
   "cell_type": "markdown",
   "metadata": {},
   "source": [
    "*Write your question and interpretation of the business concern here*\n",
    "\n",
    "- Is there any recent general news about coffee that may impact our business positively or negatively?\n",
    "\n",
    "- Are there news articles that highlight the health benefits or positive aspects of drinking coffee?\n"
   ]
  },
  {
   "cell_type": "markdown",
   "metadata": {},
   "source": [
    "### 2. Data"
   ]
  },
  {
   "cell_type": "code",
   "execution_count": 59,
   "metadata": {},
   "outputs": [
    {
     "data": {
      "text/plain": [
       "36"
      ]
     },
     "execution_count": 59,
     "metadata": {},
     "output_type": "execute_result"
    }
   ],
   "source": [
    "# Access the data via API\n",
    "\n",
    "#load my personal API key\n",
    "with open('private/guardian_key.txt', 'r') as file:\n",
    "    key = file.read().strip()\n",
    "len(key)\n",
    "\n",
    "# Clean/prepare the data for analysis"
   ]
  },
  {
   "cell_type": "code",
   "execution_count": 60,
   "metadata": {
    "tags": []
   },
   "outputs": [],
   "source": [
    "# build a search URL\n",
    "base_url = 'https://content.guardianapis.com/'\n",
    "\n",
    "# modify your search terms & filters\n",
    "search_string = \"coffee benefit\"\n",
    "from_date = '2023-05-29'\n",
    "to_date = '2023-08-22'\n",
    "show_field = 'body'\n",
    "\n",
    "\n",
    "\n",
    "# this is an example of a search URL\n",
    "full_url = base_url+f\"search?q={search_string}&from-date={from_date}&to_date={to_date}&show-fields={show_field}&api-key={key}\""
   ]
  },
  {
   "cell_type": "code",
   "execution_count": 61,
   "metadata": {
    "tags": []
   },
   "outputs": [
    {
     "data": {
      "text/plain": [
       "{'status': 'ok',\n",
       " 'userTier': 'developer',\n",
       " 'total': 442,\n",
       " 'startIndex': 1,\n",
       " 'pageSize': 10,\n",
       " 'currentPage': 1,\n",
       " 'pages': 45,\n",
       " 'orderBy': 'relevance',\n",
       " 'results': [{'id': 'food/2023/jun/28/how-to-make-coffee-granita-recipe-felicity-cloake',\n",
       "   'type': 'article',\n",
       "   'sectionId': 'food',\n",
       "   'sectionName': 'Food',\n",
       "   'webPublicationDate': '2023-06-28T10:00:02Z',\n",
       "   'webTitle': \"How to make coffee granita – recipe | Felicity Cloake's Masterclass\",\n",
       "   'webUrl': 'https://www.theguardian.com/food/2023/jun/28/how-to-make-coffee-granita-recipe-felicity-cloake',\n",
       "   'apiUrl': 'https://content.guardianapis.com/food/2023/jun/28/how-to-make-coffee-granita-recipe-felicity-cloake',\n",
       "   'fields': {'body': '<p>When it’s too hot even for ice-cream, the icy shards of granita come into their own. <a href=\"https://www.theguardian.com/profile/marcella-hazan\">Marcella Hazan</a> describes the coffee variety as one of the best ways to while away a sunny afternoon, “watching life dawdle by as you let the … crystals melt on the tongue”. More refreshing than an espresso, and with a similar kick, it’s the ultimate summer pick-me-up.</p> <h2>Coffee granita</h2> <p>Prep <strong>15 min</strong><br>Cook <strong>5 min</strong><br>Freeze <strong>About 2 hr<br></strong>Serves <strong>4</strong></p> <p><strong>40g ground espresso coffee</strong> (see step 1)<br><strong>40g caster sugar<br>½ tbsp lemon juice<br>200ml whipping cream</strong> (optional)<br><strong>2 tbsp icing sugar</strong> (optional)<br><strong>A square of dark chocolate</strong> (optional)</p>  <figure class=\"element element-image element--supporting\" data-media-id=\"f8c178295be426a6a851b3b4d44757c9642f6bde\"> <img src=\"https://media.guim.co.uk/f8c178295be426a6a851b3b4d44757c9642f6bde/0_1844_3755_2253/1000.jpg\" alt=\"coffee beans\" width=\"1000\" height=\"600\" class=\"gu-image\" /> </figure>  <h2>1 A word on the coffee</h2> <p>In truth, you can use any sort of coffee you want here (decaf included), so long as you make it strong enough to retain its flavour once diluted and frozen. The method I adopt, used by the gelateria at the <a href=\"https://www.facebook.com/grancaffetirrenoformia/?locale=it_IT\">Gran Caffé Tirreno in Formia</a>, Lazio, is the easiest, but feel free to use 500ml freshly brewed espresso or 500ml strong instant coffee instead, and start at step 3.</p> <h2>2 Make the coffee</h2>  <figure class=\"element element-image\" data-media-id=\"3001f7a1c86fd64fa636aff33729a9828d23cd74\"> <img src=\"https://media.guim.co.uk/3001f7a1c86fd64fa636aff33729a9828d23cd74/268_1736_2820_2820/1000.jpg\" alt=\"Coffee, for Felicity Cloake’s coffee granita\" width=\"1000\" height=\"1000\" class=\"gu-image\" /> </figure>  <p>If using ground espresso, put it in a medium pan with 500ml cold water. Bring to a boil, stirring occasionally, then take off the heat and leave to sit for about five minutes. Pour through coffee filters, a fine sieve or a sheet of muslin to strain.</p> <h2>3 Add sugar, cool, then add lemon</h2>  <figure class=\"element element-image\" data-media-id=\"6630ffbb81326b8223466861bb6f1da613191385\"> <img src=\"https://media.guim.co.uk/6630ffbb81326b8223466861bb6f1da613191385/0_1507_3840_3840/1000.jpg\" alt=\"Felicity Cloake’s coffee granita: stirring in sugar and lemon\" width=\"1000\" height=\"1000\" class=\"gu-image\" /> </figure>  <p>While the coffee is still hot, stir in the sugar, until it dissolves. Leave it to cool, then add the lemon juice and taste: flavours are muted by freezing, so it will probably seem far too sweet at this stage. Given that these quantities provide the balance that suits my taste, if it’s not to yours, by all means add more sugar (or, in any subsequent batch, less).</p> <h2>4 Leave to cool, then chill</h2>  <figure class=\"element element-image\" data-media-id=\"8d0840b180b64fafbacb2091634be38b90f1a722\"> <img src=\"https://media.guim.co.uk/8d0840b180b64fafbacb2091634be38b90f1a722/0_711_3840_3840/1000.jpg\" alt=\" Pour the cooled coffee mix into a wide, freezer-proof dish.\" width=\"1000\" height=\"1000\" class=\"gu-image\" /> </figure>  <p>Pour the cooled coffee mix into a wide, freezer-proof dish that will accommodate it at a depth of no more than a couple of centimetres (any deeper and it will take a <em>long</em> time to freeze). Put the dish in the fridge to chill. In the meantime, make sure you have room in the freezer for the dish to sit completely flat.</p> <h2>5 Freeze, stir, repeat</h2> <p>Transfer the dish to the freezer for 45 minutes, then check on it. As soon as it’s starting to freeze around the edges, stir with a fork, mixing the solid ice around the outside into the liquid centre. Return the dish to the freezer and repeat about every half-hour, raking the mixture until it’s all frozen like coffee snow. This should take about two hours in total.</p>  <figure class=\"element element-image\" data-media-id=\"e8a6e9a373185cb47f92b6067902d43e5bf5c08c\"> <img src=\"https://media.guim.co.uk/e8a6e9a373185cb47f92b6067902d43e5bf5c08c/0_960_3840_3840/1000.jpg\" alt=\"Felicity Cloake’s coffee granita. Transfer the cold mixture to the freezer, leave for 45 minutes, then check on it. As soon as it’s starting to freeze around the edges, stir with a fork, mixing the solid ice around the outside into the liquid centre. Return the dish to the freezer and repeat about every half-hour, raking the mixture until it’s all frozen like coffee snow. This should take about two hours in total.\" width=\"1000\" height=\"1000\" class=\"gu-image\" /> </figure>  <h2>6 It’s now ready to serve …</h2> <p>Once the whole thing is a fluffy cloud of ice crystals, serve it immediately, or keep it in the freezer, raking it up regularly (or even pulsing briefly in a food processor to break it up before serving). Granita is best eaten within a couple of days, though.</p> <h2>7 … or add cream and chocolate</h2> <p>Whip the cream and icing sugar, if using, to soft peaks. Spoon the granita into four glasses and top each serving with a dollop of the whipped cream mix and a grating of dark chocolate. In Sicily, granita is often served with a sweet brioche bun, which makes a fine breakfast on a hot day.</p>  <figure class=\"element element-image\" data-media-id=\"2f45769043479d3133a2042f9d24bdf067c63a19\"> <img src=\"https://media.guim.co.uk/2f45769043479d3133a2042f9d24bdf067c63a19/568_1265_1562_1562/1000.jpg\" alt=\"Felicity Cloake’s coffee granita, in a cup ready to serve with cream.\" width=\"1000\" height=\"1000\" class=\"gu-image\" /> </figure>  <h2>8 … or alcohol</h2> <p>To make a boozy granita for after dinner (or whenever), stir in up to 100ml coffee liqueur or other alcohol when you add the lemon juice to the coffee mix, though bear in mind that the higher the alcohol content, the softer and slushier the set will be, so go easy if you’re using spirits; you can always serve the granita with a shot on the side, if need be.</p> <h2>9 … or spices</h2> <p>For a mocha granita, add 50g cocoa powder to the ground coffee at the start. Or, to spice things up, add two crushed cardamom pods and/or a broken cinnamon stick, a grating of nutmeg, citrus zest or a dash of vanilla extract. Brown sugar will give richer, caramelised notes, while honey or maple and other syrups will lend their own flavour.</p>'},\n",
       "   'isHosted': False,\n",
       "   'pillarId': 'pillar/lifestyle',\n",
       "   'pillarName': 'Lifestyle'},\n",
       "  {'id': 'society/2023/may/29/male-bonding-over-coffee-and-chess',\n",
       "   'type': 'article',\n",
       "   'sectionId': 'society',\n",
       "   'sectionName': 'Society',\n",
       "   'webPublicationDate': '2023-05-29T16:17:53Z',\n",
       "   'webTitle': 'Male bonding over coffee and chess | Letter',\n",
       "   'webUrl': 'https://www.theguardian.com/society/2023/may/29/male-bonding-over-coffee-and-chess',\n",
       "   'apiUrl': 'https://content.guardianapis.com/society/2023/may/29/male-bonding-over-coffee-and-chess',\n",
       "   'fields': {'body': '<p>This was interesting article with many truths in it about male friendship (<a href=\"https://www.theguardian.com/lifeandstyle/2023/may/25/we-dont-do-deep-emotional-discussions-why-men-lose-their-friends-and-how-they-can-make-more\" title=\"\">‘We don’t do deep emotional discussions’: why men lose their friends – and how they can make more, 25 May</a>). At the age of 76, I have my oldest friend of more than 50 years living close by, and I can talk to him about nearly anything.</p> <p>Unfortunately, ageing takes its toll on friendship: one friend died, two are a considerable distance away. Yet I am fortunate. Around six or seven years ago, a group of us started having a coffee morning, all members of a local chess club. This echoed the scooter club described in Sam Wollaston’s article. It is interesting to note how the conversation has changed.</p> <p>Initially at a light level, we now have discovered a lot more about each other’s backgrounds and personalities. This means that we are more ready to share the downsides of life with each other, but also means that we do laugh a lot more.</p> <p>The widely varying political views just make us more interested rather than conflicted. Being old, we take little seriously any more. Only absence or illness stops me going.<br incopy-break-type=\"webbreak\"><strong>John Reed</strong><br incopy-break-type=\"webbreak\"><em>Stockport, Greater Manchester</em></p> <p><strong><em>• Have an opinion on anything you’ve read in the Guardian today? Please </em></strong><a href=\"mailto:guardian.letters@theguardian.com\" title=\"\"><strong><em>email</em></strong></a><strong><em> us your letter and it will be considered for publication in our </em></strong><a href=\"https://www.theguardian.com/tone/letters\" title=\"\"><strong><em>letters</em></strong></a><strong><em> section.</em></strong></p>'},\n",
       "   'isHosted': False,\n",
       "   'pillarId': 'pillar/news',\n",
       "   'pillarName': 'News'},\n",
       "  {'id': 'football/2023/jul/23/avocado-coffee-fajitas-the-food-guru-fuelling-the-matildas-dreams',\n",
       "   'type': 'article',\n",
       "   'sectionId': 'football',\n",
       "   'sectionName': 'Football',\n",
       "   'webPublicationDate': '2023-07-22T20:00:22Z',\n",
       "   'webTitle': 'Avocado, coffee, fajitas: the food guru fuelling the Matildas’ dreams',\n",
       "   'webUrl': 'https://www.theguardian.com/football/2023/jul/23/avocado-coffee-fajitas-the-food-guru-fuelling-the-matildas-dreams',\n",
       "   'apiUrl': 'https://content.guardianapis.com/football/2023/jul/23/avocado-coffee-fajitas-the-food-guru-fuelling-the-matildas-dreams',\n",
       "   'fields': {'body': '<p>Being the national team chef at a World Cup is about much more than food. Brazilian Vini Capovilla, head chef for the Matildas, leads a team that prepares multiple meals a day for 50-plus players, coaches and staff. In his fifth World Cup for an Australian national team (Capovilla has cooked for both the Socceroos and the Matildas since 2014), the culinary guru says he brings a holistic perspective to the role.</p> <p>“When I joined, I thought it was all about performance, the maximum nutrition to accomplish performance,” says Capovilla. “After a few competitions, I learned that there’s much more to the role. Of course nutrition is key, but the wellbeing of players (and) the wellness that a meal can bring, is key.”</p> <p>There can be a tension, the chef admits, between maximum nutrition and maximum wellbeing, particularly now after seven weeks in camp. “Now is the most important time (but) it’s a fine tune, you have to read their minds,” Capovilla says. “How can we make everyone happy? So all these little details, you have to be very smart. I’m focusing on the service of the meals, but at the same time I have to be focused on their reactions, because that will guide me on the next day.”</p> <p>Capovilla has a few aces up his sleeve. The chef says the Matildas love avocados – it’s one of the ingredients he goes through quickest. “Avocado is a hit for the girls,” he chuckles. “And berries – they love their blueberries, raspberries.” Living up to Australian stereotypes, the team also prioritises coffee – they have their own in-camp barista, Alexia Ralevski, who joined Football Australia <a href=\"https://www.theguardian.com/football/2022/nov/21/the-most-popular-member-of-socceroos-squad-the-barista-fuelling-australian-world-cup-hopes\">last year for the Men’s World Cup in Qatar</a> (inspired by the Australian Olympic Committee, <a href=\"https://www.theguardian.com/sport/2021/jul/30/australias-secret-weapon-in-at-the-tokyo-olympics-good-coffee-of-course\">who brought a barista to Tokyo</a>).</p> <p>“That is part of creating this beautiful environment for them – I think coffee is key for the girls right now,” says Capovilla. “I know the players are tired, they have rough routines. But the barista with her smile, her coffee, she changes everyone’s faces.”</p>  <figure class=\"element element-image\" data-media-id=\"708fb1ab5f97b26e48c58fe0b528e691903f7895\"> <img src=\"https://media.guim.co.uk/708fb1ab5f97b26e48c58fe0b528e691903f7895/0_243_7328_4400/1000.jpg\" alt=\"“What’s moving us now is player wellbeing,” says chef Capovilla. “Their smile is the fuel for us.”\" width=\"1000\" height=\"600\" class=\"gu-image\" /> <figcaption> <span class=\"element-image__caption\">“What’s moving us now is player wellbeing,” says chef Capovilla. “Their smile is the fuel for us.”</span> <span class=\"element-image__credit\">Photograph: Joel Carrett/AAP</span> </figcaption> </figure>  <p>The chef also makes sure the Matildas get to enjoy their favourite culinary event at least once a fortnight. “They love their Mexican night,” he says. “We make some nachos bowls, a beautiful chilli con carne, some quesadillas, some fajitas. I know they enjoy.”</p> <p>It’s these little touches that give Capovilla most satisfaction. “Even though I love football, of course, I don’t do this for the football anymore,” he says. “I do this to see a smile on a player’s face, understanding the little percentages that we affect when they’re performing well. This is what’s moving us nowadays, player wellbeing. Their smile is the fuel for us.”</p> <p>Capovilla has been in the role since he joined ahead of the 2014 Men’s World Cup in Brazil. With a degree in biology and culinary training, it was actually Capovilla’s language skills – he’s from Brazil, lives in Spain and also speaks Italian – that first landed him the job. “The team was trying to find someone who could easily dialogue between the medical team, the players and our kitchen in Brazil at the time,” he says. He has since pursued qualifications in sports nutrition to ensure he can offer the best to the team.</p> <p>In that time, Capovilla has worked with a variety of national team bosses. “Bert van Marwijk was the one that was very keen for me to create an environment that was more holistic,” he says. “Ange Postecoglou would give me a lot [latitude] – once he started trusting my work, it was just: ‘Do what you want to do.’ Tony Gustavsson wants me to always be one step ahead.”</p> <p>It’s a tireless job during tournaments – Capovilla works 16-hours days, managing a team of 10-20 staff to deliver every meal the team needs at any time of the day. “It’s ongoing, understanding, adapting - it’s a non-stop operation, you have to keep up to speed.”</p> <p>In some respects, Capovilla’s work follows the rhythm of the team. He says they ramp up fuelling, including carbohydrate loading, in the lead-up to each match. But the chef also has an inverse relationship to the stress that the players and coaching staff experience on match day at the Women’s World Cup. “For us, every day is game day,” he laughs. “Every day we have to convince [the players] that what we’re providing is good. They are happy about it, they want to try it.</p> <p>“Then on their game-day, my job actually changes,” he adds. “It’s to relax them, for them to feel welcome, to feel home, – ‘Ahh look I’m in the meal room, I can relax right now – even though I have a game in three and a half hours.’ That day is my relaxing day.”</p>'},\n",
       "   'isHosted': False,\n",
       "   'pillarId': 'pillar/sport',\n",
       "   'pillarName': 'Sport'},\n",
       "  {'id': 'society/2023/aug/11/benefit-cap-punishes-children-by-forcing-them-into-poverty',\n",
       "   'type': 'article',\n",
       "   'sectionId': 'society',\n",
       "   'sectionName': 'Society',\n",
       "   'webPublicationDate': '2023-08-11T17:01:53Z',\n",
       "   'webTitle': 'Benefit cap punishes children by forcing them into poverty | Letters',\n",
       "   'webUrl': 'https://www.theguardian.com/society/2023/aug/11/benefit-cap-punishes-children-by-forcing-them-into-poverty',\n",
       "   'apiUrl': 'https://content.guardianapis.com/society/2023/aug/11/benefit-cap-punishes-children-by-forcing-them-into-poverty',\n",
       "   'fields': {'body': '<p>I assume Eleanor Talbot possesses a crystal ball, considering her letter supporting the two-child cap on benefits (<a href=\"https://www.theguardian.com/society/2023/aug/08/parents-should-only-have-more-children-if-they-can-afford-it\" title=\"\">8 August</a>). Most parents do consider whether or not they can afford children before having them. However, life happens. You may become disabled. Your partner may die. You may lose your job. No parent can predict these things upon conception, and we should have a system to support all families who fall on hard times, regardless of their size.</p> <p>Also, children are not responsible for the choices of their parents and they shouldn’t be made to suffer. Moralising about who’s responsible for their upkeep does nothing to change the fact that once a child is born, they have needs that have to be met. A childhood of grinding poverty should not be the punishment for families who have more children. This is the punishment for over a million children forced into poverty or forced deeper into it simply for having more than one sibling.</p> <p>No child deserves poverty and destitution. All deserve a childhood free of that burden, and we should be outraged that they’re not. Tony Blair promised to end child poverty by 2020. It is possible to end it now, if we have the political will.<br incopy-break-type=\"webbreak\"><strong>Kathleen Foster</strong><br incopy-break-type=\"webbreak\"><em>Bordon, Hampshire</em></p> <p>• While Eleanor Talbot makes some valid points regarding responsibilities as parents for our children, she ignores several realities. Not all women, even in the UK, have freedom of choice as to whether they become pregnant or become a parent; women with a background of trauma, adverse childhood experiences and disrupted family life often lack autonomy and agency generally, and specifically in relation to their bodies; pregnancy and having children can offer opportunities for nurture and attention that some women don’t receive otherwise and (understandably) seek.</p> <p>I am glad that she had support and felt able to thrive as well as survive single parenthood, but universalising our own limited experiences rarely provides a compassionate or useful response for others, or a basis for policy. <br incopy-break-type=\"webbreak\"><strong>Claire Edwards</strong><br incopy-break-type=\"webbreak\"><em>Edinburgh</em></p> <p>• How sad was I to read Eleanor Talbot’s letter. This is exactly the rhetoric of the non-caring austerity measures this government puts forward. Thousands of children are living in poverty, and not by choice. They are the ones who suffer. None of them asked to be born, but they are the ones suffering.<br incopy-break-type=\"webbreak\"><strong>Linda Theobald</strong><br incopy-break-type=\"webbreak\"><em>London</em></p> <p><strong><em>• Have an opinion on anything you’ve read in the Guardian today? Please </em></strong><a href=\"mailto:guardian.letters@theguardian.com\" title=\"\"><strong><em>email</em></strong></a><strong><em> us your letter and it will be considered for publication in our </em></strong><a href=\"https://www.theguardian.com/tone/letters\" title=\"\"><strong><em>letters</em></strong></a><strong><em> section.</em></strong></p>'},\n",
       "   'isHosted': False,\n",
       "   'pillarId': 'pillar/news',\n",
       "   'pillarName': 'News'},\n",
       "  {'id': 'science/2023/aug/23/full-of-beans-scientists-use-processed-coffee-grounds-to-make-stronger-concrete',\n",
       "   'type': 'article',\n",
       "   'sectionId': 'science',\n",
       "   'sectionName': 'Science',\n",
       "   'webPublicationDate': '2023-08-22T15:00:02Z',\n",
       "   'webTitle': 'Full of beans: scientists use processed coffee grounds to make stronger concrete',\n",
       "   'webUrl': 'https://www.theguardian.com/science/2023/aug/23/full-of-beans-scientists-use-processed-coffee-grounds-to-make-stronger-concrete',\n",
       "   'apiUrl': 'https://content.guardianapis.com/science/2023/aug/23/full-of-beans-scientists-use-processed-coffee-grounds-to-make-stronger-concrete',\n",
       "   'fields': {'body': '<p>In an idea that fittingly arose over a cup of coffee, researchers have devised a technique to recycle used coffee grounds to make stronger concrete.</p> <p>Engineers at RMIT University say they have developed a way to make concrete nearly 30% stronger by incorporating processed coffee grounds into the material.</p> <p>The researchers have converted waste coffee grounds into biochar, a lightweight residue similar to charcoal, and used that biochar to replace a portion of the sand required to make concrete.</p> <p>The idea arose from a desire to minimise coffee waste within the workplace, said study co-lead Dr Shannon Kilmartin-Lynch, a vice-chancellor’s Indigenous postdoctoral research fellow at RMIT.</p>  <figure class=\"element element-image\" data-media-id=\"c20cd2796693a01598bb853fee1da8fe0edd0830\"> <img src=\"https://media.guim.co.uk/c20cd2796693a01598bb853fee1da8fe0edd0830/0_98_2000_1200/1000.jpg\" alt=\"Samples of unroasted coffee beans, roasted coffee beans, spent ground coffee and the team’s coffee biochar.\" width=\"1000\" height=\"600\" class=\"gu-image\" /> <figcaption> <span class=\"element-image__caption\">Samples of unroasted coffee beans, roasted coffee beans, spent ground coffee and the team’s coffee biochar.</span> <span class=\"element-image__credit\">Photograph: Carelle Mulawa-Richards, RMIT University</span> </figcaption> </figure>  <p>“There was a lot of ground coffee and coffee pods being discarded,” he said. “[We wanted] to see if we could transform those spent coffee grounds into a more valuable sort of material.”</p> <p>The researchers are now collaborating with local councils on future infrastructure projects such as the construction of walkways and pavements.</p> <p>The technique could be environmentally beneficial if it can reduce the amount of coffee waste going to landfill, as well as the demand for natural sand used in the construction industry, the engineers say.</p> <p>Food waste accounts for about <a href=\"https://www.dcceew.gov.au/environment/protection/waste/food-waste\">3% of Australia’s annual greenhouse</a> emissions, according to the National Food Waste Strategy Feasibility Study. Australia produces an estimated 75,000 tonnes of coffee waste per year.</p> <p>Creating biochar involves roasting used coffee grounds in the same way unused beans are roasted to enhance their taste, said study co-lead Dr Rajeev Roychand of RMIT.</p> <p>“We do the same thing, but in the absence of oxygen [to prevent carbon dioxide from being produced],” Roychand said. “We don’t want carbon to get into the atmosphere and add to greenhouse gas emissions.”</p> <p>The process, called pyrolysis, involves heating the coffee waste to about 350C. The team says their technique is more energy efficient because it requires lower than usual temperatures.</p> <p>“Typically pyrolysis has a high energy [input] because you need to raise temperatures to somewhere between 700 to 900C,” Kilmartin-Lynch said.</p> <p>By replacing 15% of the sand typically used in concrete with coffee biochar, the researchers found that the addition enhanced strength by 29.3%.</p>  <figure class=\"element element-image\" data-media-id=\"e2d20ecc4c4fb03e296e2bd98bfb6beb6b5b2d27\"> <img src=\"https://media.guim.co.uk/e2d20ecc4c4fb03e296e2bd98bfb6beb6b5b2d27/0_25_2000_1200/1000.jpg\" alt=\"Talwali co-founder Drew Paten and RMIT researchers Dr Rajeev Roychand, Dr Shannon Kilmartin-Lynch and Dr Mohammad Saberian.\" width=\"1000\" height=\"600\" class=\"gu-image\" /> <figcaption> <span class=\"element-image__caption\">Talwali co-founder Drew Paten and RMIT researchers Dr Rajeev Roychand, Dr Shannon Kilmartin-Lynch and Dr Mohammad Saberian.</span> <span class=\"element-image__credit\">Photograph: Carelle Mulawa-Richards, RMIT University</span> </figcaption> </figure>  <p>“Structurally, the coffee biochar itself is finer than a sand … but it’s also a porous material, so it allows the cement to bind within the porous structure of the biochar itself,” Kilmartin-Lynch said.</p> <p>“It definitely still is in its initial phase – there are further tests to be done on the durability and things like that.”</p> <p>If all waste coffee grounds produced in Australia each year were converted into biochar, it would amount to roughly 22,500 tonnes, the researchers estimate.</p> <p>However, about 28.8 million tonnes of sand are required each year to produce the approximately 72 million tonnes of cement concrete made in Australia.</p> <p>The research was published in the journal <a href=\"https://www.sciencedirect.com/science/article/pii/S0959652623023636\">Journal of Cleaner Production</a>.</p> <p>• This article was amended on 25 August 2023. The amount of cement concrete made in Australia each year is approximately 72 million tonnes, not 72,000 million tonnes as an earlier version said due to incorrect information provided.</p>'},\n",
       "   'isHosted': False,\n",
       "   'pillarId': 'pillar/news',\n",
       "   'pillarName': 'News'},\n",
       "  {'id': 'politics/2023/jul/18/keir-starmer-must-scrap-the-two-child-benefit-cap',\n",
       "   'type': 'article',\n",
       "   'sectionId': 'politics',\n",
       "   'sectionName': 'Politics',\n",
       "   'webPublicationDate': '2023-07-18T16:58:05Z',\n",
       "   'webTitle': 'Keir Starmer must scrap the two-child benefit cap | Letters',\n",
       "   'webUrl': 'https://www.theguardian.com/politics/2023/jul/18/keir-starmer-must-scrap-the-two-child-benefit-cap',\n",
       "   'apiUrl': 'https://content.guardianapis.com/politics/2023/jul/18/keir-starmer-must-scrap-the-two-child-benefit-cap',\n",
       "   'fields': {'body': '<p>Labour states that lifting the two-child limit on child benefit payments may cost £1.3bn (<a href=\"https://www.theguardian.com/politics/2023/jul/16/labour-keep-two-child-benefit-cap-says-keir-starmer\" title=\"\">Labour would keep two-child benefit cap, says Keir Starmer, 16 July</a>). Removing VAT relief from private schools would raise £1.4bn or more. Those private schools whose fees crested £30,000 per pupil currently receive a 20% rebate per child. That’s about £6,000 annually. It seems the wealthy have been receiving generous child benefit support for years – and with no cap if your family has more than two children in education, as some current politicians may have.<br><strong>Dr Jonathan J Ross</strong><br><em>Sheffield</em></p> <aside class=\"element element-rich-link element--thumbnail\"> <p> <span>Related: </span><a href=\"https://www.theguardian.com/politics/2023/jul/18/elect-keir-starmer-on-thursday-and-fight-him-on-friday\">Elect Keir Starmer on Thursday, and fight him on Friday</a> </p> </aside>  <p>• Following Sir Keir Starmer’s announcement that Labour intends to maintain the cruel and discriminatory two-child benefit cap, I have cancelled my Labour party membership and am giving the subscription to the Child Poverty Action Group instead. How can Labour expect us to subsidise its continuation of an arbitrary anti-child measure that does so much damage to young lives and would cost so little to scrap?<br><strong>Richard Morgan</strong><br><em>Woking, Surrey</em></p> <p>• Give Keir Starmer a break! He will be faced with the horrific mess left by the Tories, whose blunders are just making a grim economic situation worse and worse. He’s trying not to make big spending commitments now, because they would just give the corrupt Tory media month after month to distort and lie about them.<br><strong>Peter Brooker</strong><br><em>West Wickham, London</em></p> <p><em><strong>• Have an opinion on anything you’ve read in the Guardian today? Please </strong></em><em><strong><a href=\"mailto:guardian.letters@theguardian.com\" title=\"\">email</a></strong></em><em><strong> us your letter and it will be considered for publication in our </strong></em><em><strong><a href=\"https://www.theguardian.com/tone/letters\" title=\"\">letters</a></strong></em><em><strong> section.</strong></em></p>'},\n",
       "   'isHosted': False,\n",
       "   'pillarId': 'pillar/news',\n",
       "   'pillarName': 'News'},\n",
       "  {'id': 'society/2023/jul/02/labour-under-pressure-to-axe-two-child-benefit-limit',\n",
       "   'type': 'article',\n",
       "   'sectionId': 'society',\n",
       "   'sectionName': 'Society',\n",
       "   'webPublicationDate': '2023-07-02T07:00:35Z',\n",
       "   'webTitle': 'Labour under pressure to axe two-child benefit limit',\n",
       "   'webUrl': 'https://www.theguardian.com/society/2023/jul/02/labour-under-pressure-to-axe-two-child-benefit-limit',\n",
       "   'apiUrl': 'https://content.guardianapis.com/society/2023/jul/02/labour-under-pressure-to-axe-two-child-benefit-limit',\n",
       "   'fields': {'body': '<p>Labour will come under pressure to back abolishing the two-child limit on benefits, promise universal free school meals and restore the international development department, as activists and trade unions attempt to persuade Keir Starmer to adopt a more ambitious policy platform.</p> <p>With the Labour leadership using the last few weeks to jettison or <a href=\"https://www.theguardian.com/politics/2023/jun/28/labour-leadership-lisa-nandy-accused-u-turn-rent-controls\" title=\"\">correct potentially problematic policies</a> before an election campaign next year, it now faces a summer of concerted campaigning from figures across the party who want it to be bolder in its pledges.</p> <p>The clashes will culminate in its “national policy forum” in Nottingham at the end of the month. It will see activists, unions, MPs and the leadership hold talks over the party’s policy programme before its election preparations begin in earnest at its autumn conference.</p> <p>In a shift in tactics from senior figures on the left, the aim is to propose policies with broad support that “go with the grain” of Starmer’s project – and have a chance of being adopted. They believe that they have identified a series of issues, including some that have their roots in Tony Blair’s New Labour government.</p> <p>Abolishing the two-child limit on welfare, costing around £1.3bn a year to deliver, has emerged as a top priority and could be backed by some of the big unions affiliated with Labour. While Labour has pledged to reform the universal credit system, the party has not formally committed to abolishing the two-child limit on benefits that was introduced during Theresa May’s premiership in 2017. It has already been criticised as the <a href=\"https://social-policy.org.uk/50-for-50/two-child-policy/\" title=\"\">“worst social security policy ever”</a>. It is thought to affect an <a href=\"https://www.theguardian.com/society/2023/apr/06/more-than-1m-children-growing-up-in-poverty-under-two-child-benefits-limit\" title=\"\">estimated 1.5 million children</a>.</p> <p>A <a href=\"https://sticerd.lse.ac.uk/CASE/_NEW/PUBLICATIONS/abstract/?index=10186\" title=\"\">recent study</a> found that the policy has failed to increase employment levels – but it has left hundreds of thousands of households in poverty. It found its “main function” has been to push families further into poverty and damage their mental health.</p> <p>Some Labour figures said that the party’s caution had become so strong that they were now simply trying to ensure it stuck to relatively small pledges such as restoring a separate department for international development. The department, responsible for administering foreign aid, was first set up by Labour in 1997.</p> <p>“It’s a very tough time for the left within the party and it’s not getting easier. But we do feel that the leadership are overplaying their hand in policy terms, going so far the other way,” said one senior figure on Labour’s left.</p> <aside class=\"element element-rich-link element--thumbnail\"> <p> <span>Related: </span><a href=\"https://www.theguardian.com/society/2023/jun/01/two-child-limit-on-uk-welfare-benefits-has-failed-to-push-parents-into-jobs\">Two-child limit on UK welfare benefits ‘has failed to push parents into jobs’</a> </p> </aside>  <p>“The irony is not lost on me, but there are areas where we can appeal to the legacies of Blair and New Labour. We are aware that this is a compromise process, where we’re likely to extract minor concessions, rather than flagship demands.”</p> <p>The demand with the widest support is adopting universal free school meals for state primary schools in England. The Labour first minister of Wales, Mark Drakeford, as well as Labour mayors and unions, support the policy. There is also said to be significant support within the shadow cabinet for the move, which would cost around £1bn a year to implement.</p> <p>Some Labour MPs are concerned about the cautious approach being shown by the leadership, but most believe that party discipline will hold while it retains a large poll lead. A poll by Opinium this weekend shows that Labour maintains a significant 19-point lead over the Tories, with just 25% saying they plan to vote Conservative.</p> <p>“The pre-eminence of Labour’s fiscal rules means that they’re just trying to eliminate anything that can be characterised as being unfunded or extravagant,” said one influential figure involved in the summer talks. “They just want to be seen to be not committing to anything on any front, sending a message of fiscal prudence. The problem is that people want some sense of what’s going to happen under a Labour government.”</p> <p>Labour is planning to use the coming week to unveil its plans to “break down barriers to opportunity” - one of Starmer’s “five missions” designed to set out his vision for a Labour government. It will include a pledge to take 200,000 children off mental health waiting lists, funded by ending tax breaks for private schools.</p>'},\n",
       "   'isHosted': False,\n",
       "   'pillarId': 'pillar/news',\n",
       "   'pillarName': 'News'},\n",
       "  {'id': 'lifeandstyle/2023/aug/19/tim-dowling-i-am-talking-to-the-coffee-machine-and-yes-its-listening',\n",
       "   'type': 'article',\n",
       "   'sectionId': 'lifeandstyle',\n",
       "   'sectionName': 'Life and style',\n",
       "   'webPublicationDate': '2023-08-19T05:00:09Z',\n",
       "   'webTitle': 'Tim Dowling: I am talking to the coffee machine. And yes, it’s listening',\n",
       "   'webUrl': 'https://www.theguardian.com/lifeandstyle/2023/aug/19/tim-dowling-i-am-talking-to-the-coffee-machine-and-yes-its-listening',\n",
       "   'apiUrl': 'https://content.guardianapis.com/lifeandstyle/2023/aug/19/tim-dowling-i-am-talking-to-the-coffee-machine-and-yes-its-listening',\n",
       "   'fields': {'body': '<p>The oldest one stays the night. In the morning – the very late morning – he comes down to the kitchen looking groggy. “Look who’s up,” my wife says. “Did you both drink everything in the house?”</p> <p>“Not <em>everything</em>,” says the middle one, without looking up from his laptop. “There’s still some vermouth.”</p> <p>“How does this thing work?” says the oldest one, standing in front of the coffee machine.</p> <p>Our oldest son moved into his own place over a year ago. He was not around when the old coffee machine started giving everyone electric shocks and we finally had to replace it. I remember what it’s like to return to your childhood home to find unfamiliar improvements; it’s like they waited until you moved out to make things nice.</p> <p>“You’ve never used this one before, have you?” I say.</p> <p>“Is it the same as the old one?” he says.</p> <p>“It’s the same idea,” I say. “The procedure is quite different.”</p>  <aside class=\"element element-pullquote element--inline\"> <blockquote> <p>My wife found what she considered a superior model for less money. My wife does not drink coffee</p> </blockquote> </aside>  <p>I was all for getting an exact copy of the old coffee machine – I liked the coffee it made, electric shocks or no – but my wife found what she considered a superior model for less money. My wife does not drink coffee.</p> <p>“First off, there’s a power button on the side,” I say.</p> <p>“Yup,” he says, pushing it.</p> <p>“The light on the front flashes red for a bit,” I say. “When it changes to a steady blue, turn the dial to the left.”</p> <p>“OK,” he says. The light changes, and he turns the dial. The pump inside the machine starts up.</p> <p>“After that, it’s all voice-activated,” I say. “Coffee machine STOP!”</p> <p>The machine’s pump falls silent.</p> <p>“Coffee machine START!” I say. The pump restarts and two thin lines of espresso begin to fill the cup.</p> <p>A little background: when we first acquired the new coffee machine, last May, I plugged it in, filled it with water and coffee and put a cup underneath. Following the instructions, I pushed the side button, waited for flashing red to change to steady blue, and turned the dial anti-clockwise.</p> <p>The machine responded with a loud, grating noise. Then, after a few seconds, it stopped. I figured I’d done something wrong, but just as I reached for the instructions, it started up again. The coffee it produced was fine, though not as good as the old machine. At least I wasn’t risking electrocution.</p> <p>I soon learned that this pausing of the pump mechanism was standard: every time you switched the machine on it stopped after four seconds, and resumed after another three.</p> <p>I took to pointing at the machine every morning with a dramatic magician’s flourish – first after silently counting to four, and again after counting to three. One morning the youngest one caught me at it.</p> <p>“What are you doing?” he said.</p> <p>“Oh nothing,” I said. “Just controlling the coffee machine with the power of my mind.”</p> <p>“Your timing is slightly off,” he said.</p> <p>“It’s a work in progress,” I said.</p> <p>At some point in June I realised silent counting was no good – you simply had to gauge the correct intervals by feel. Some mornings I was spot on, but all alone. Other mornings, when there were onlookers, my pointing was woefully out of sync.</p> <p>“Who is this trick supposed to be for?” said the middle one.</p> <p>“I don’t know,” I said. “The important thing is that I’m ready when the time comes.”</p> <p>The idea of voice activation is a late innovation – the idea being that the timing is a little more forgiving – but I have never attempted it in front of anyone until now.</p> <p>As I sit back down, I consider improving my technique. Perhaps I should employ a more official-sounding form of words – maybe “SYSTEM OVERRIDE” and “RESUME FUNCTION”. Or I could go back to pointing.</p> <aside class=\"element element-rich-link element--thumbnail\"> <p> <span>Related: </span><a href=\"https://www.theguardian.com/lifeandstyle/2023/aug/05/tim-dowling-my-sisters-have-taken-a-stand-on-my-share-of-the-stuff-in-the-attic\">Tim Dowling: my sisters have taken a stand on my share of the stuff in the attic</a> </p> </aside>  <p>The oldest one continues to watch as his cup slowly fills with coffee. Eventually it nears the lip of the cup.</p> <p>“Coffee machine STOP!” he shouts. The cup continues to fill. The middle one lifts his eyes from his laptop for the first time, looks at the oldest one, and looks at me.</p> <p>“Oh my God,” he says. “I can’t believe someone actually fell for that.”</p> <p>“This is literally the greatest day of my life,” I say.</p> <p>“What’s happening?” my wife says.</p> <p>“Coffee machine STOP!” shouts the oldest one, even louder, to no avail.</p>'},\n",
       "   'isHosted': False,\n",
       "   'pillarId': 'pillar/lifestyle',\n",
       "   'pillarName': 'Lifestyle'},\n",
       "  {'id': 'us-news/2023/jul/21/kamala-harris-florida-schools-black-history-slavery',\n",
       "   'type': 'article',\n",
       "   'sectionId': 'us-news',\n",
       "   'sectionName': 'US news',\n",
       "   'webPublicationDate': '2023-07-21T20:47:47Z',\n",
       "   'webTitle': 'Kamala Harris condemns Florida over curriculum claim of slavery ‘benefit’',\n",
       "   'webUrl': 'https://www.theguardian.com/us-news/2023/jul/21/kamala-harris-florida-schools-black-history-slavery',\n",
       "   'apiUrl': 'https://content.guardianapis.com/us-news/2023/jul/21/kamala-harris-florida-schools-black-history-slavery',\n",
       "   'fields': {'body': '<p>Kamala Harris went to Florida on Friday to address the state board of education’s controversial new standards for Black history, which include the contention that some Black people benefited from being enslaved.</p> <p>In an impassioned afternoon speech, the vice-president predicted the standards would rob children of knowing true US history that the rest of the world has been taught.</p> <p>“All the folks that we would go out and send our children to go and meet around the world are clear about our history, and we … send our children now to not know what it is,” said Harris, who is the first woman and first Black person to hold the office of vice-president.</p> <p>“Building in a handicap for our children that they are going to be the ones in the room who don’t know their own history – when the rest of the world does?”</p> <p>Harris was in Jacksonville to discuss ways to “protect fundamental freedoms, specifically, the freedom to learn and teach America’s full and true history”, <a href=\"https://www.nbcnews.com/politics/white-house/harris-visit-florida-speak-new-black-history-standards-approved-state-rcna95450\">NBC reported</a>, citing a White House official.</p> <aside class=\"element element-rich-link element--thumbnail\"> <p> <span>Related: </span><a href=\"https://www.theguardian.com/us-news/2023/jul/21/ron-desantis-florida-atlantic-university-randy-fine\">Cries of cronyism as DeSantis bids to place rightwing ally at top university</a> </p> </aside>  <p>She was to meet civil rights leaders, educators, elected officials and other community members, NBC said.</p> <p>On Wednesday, the Florida board of education approved new standards for how public schools should teach Black history.</p> <p>According to a <a href=\"https://www.fldoe.org/core/fileparse.php/20653/urlt/6-4.pdf\">216-page document</a>, public school students will now be taught that some Black people received “personal benefit” from slavery – because it taught them useful skills.</p> <p>“Instruction includes how slaves developed skills which, in some instances, could be applied for their personal benefit,” one curriculum benchmark said.</p> <p>The new curriculum also says Black people perpetrated violence during some race massacres, including the 1906 Atlanta race riot and the 1921 Tulsa massacre.</p> <p>On Thursday, at a conference for the Black sorority Delta Sigma Theta, Harris condemned the updated education standards as “revisionist history”.</p> <p>“Just yesterday in the state of Florida, they decided middle school students will be taught that enslaved people benefited from slavery,” <a href=\"https://twitter.com/KamalaHarris\">the vice-president said</a>. “They insult us in an attempt to gaslight us and we will not stand for it.”</p> <p>Advocacy groups have denounced the Florida curriculum changes for providing a sanitized version of history.</p> <p>In <a href=\"https://naacp.org/articles/naacp-president-decries-new-florida-board-education-rules\">a statement</a>, Derrick Johnson, president of the National Association for the Advancement of Colored People (NAACP), said: “Today’s actions by the Florida state government are an attempt to bring our country back to a 19th-century America where Black life was not valued, nor our rights protected.</p> <p>“Our children deserve nothing less than truth, justice and the equity our ancestors shed blood, sweat and tears for<em>.”</em></p> <p>The Florida Education Association, a union representing more than 150,000 educators, called the new curriculum a “disservice to Florida students” and a “big step backwards”.</p> <p>“Florida’s students deserve a world-class education that equips them to be successful adults who can heal our nation’s divisions rather than deepen them,” <a href=\"https://twitter.com/FloridaEA/status/1681697872989806597\">said</a> Andrew Spar, the FEA president.</p> <p>The changes to the state curriculum came a year after the Republican Florida governor, the presidential hopeful Ron DeSantis, enacted the Stop Woke Act, <a href=\"https://time.com/6296413/florida-board-of-education-black-history/\">Time reported</a>.</p> <p>The law <a href=\"https://www.theguardian.com/commentisfree/2023/feb/06/what-is-behind-ron-desantis-stop-woke-act#:~:text=In%20addition%20to%20his%20Stop,or%20national%20origin%2C%20he%20has\">prohibits</a> teaching students or employees about anything that could cause them to “feel guilt, anguish or any form of psychological distress” because of their race, color, national origin or sex.</p> <p>LaGarrett J King, director of the Center for K-12 Black History and Racial Literacy Education at the University at Buffalo, said the updates to the Florida curriculum were “anti-Black”.</p> <p>Students of Florida, King said, will be “extremely ignorant about the history of this country.</p> <p>“For those who are going to college, there’s going to be a lot of correction. Especially if they go outside of the state. For those who don’t go to college, they’re going to hold these inaccurate perceptions about Black people throughout their years, if they don’t get any correction.”</p> <p>King added: “I’m fearful because history is about identity and history helps us understand other folk. If we do not understand the complexities of those histories, that can have some damaging consequences to how we treat people in the present.”</p> <p>Harris warned on Friday that damaging curriculum updates like the one in Florida to which she was referring in her speech will not go away on their own if no one takes a stand against them.</p> <p>“There is a national agenda,” Harris said. “Extremist so-called leaders … want to replace history with lies.</p> <p>“They insult us in an attempt to gaslight us, and we will not have it. We will not let it happen.”</p>'},\n",
       "   'isHosted': False,\n",
       "   'pillarId': 'pillar/news',\n",
       "   'pillarName': 'News'},\n",
       "  {'id': 'politics/2023/jul/16/labour-keep-two-child-benefit-cap-says-keir-starmer',\n",
       "   'type': 'article',\n",
       "   'sectionId': 'politics',\n",
       "   'sectionName': 'Politics',\n",
       "   'webPublicationDate': '2023-07-16T23:18:46Z',\n",
       "   'webTitle': 'Labour would keep two-child benefit cap, says Keir Starmer',\n",
       "   'webUrl': 'https://www.theguardian.com/politics/2023/jul/16/labour-keep-two-child-benefit-cap-says-keir-starmer',\n",
       "   'apiUrl': 'https://content.guardianapis.com/politics/2023/jul/16/labour-keep-two-child-benefit-cap-says-keir-starmer',\n",
       "   'fields': {'body': '<p>Keir Starmer has confirmed that a Labour government would keep the Conservatives’ controversial two-child benefits cap, despite unease among his top team and leading academics over the policy, which has been blamed for pushing families into poverty.</p> <p>Starmer said on Sunday that he was “not changing that policy”, when asked if he would scrap it if Labour wins the next election. His shadow work and pensions secretary, Jonathan Ashworth, had condemned it as “heinous” just last month.</p> <p>Labour had come under fresh pressure to promise to scrap the cap after it emerged that one in four children in some of England and Wales’s poorest parliamentary constituencies live in families left at least £3,000 a year out of pocket as a result.</p> <p>Starmer’s decision to rule out lifting the cap caused alarm among anti-poverty campaigners and despair in the Labour ranks. It would cost about £1.3bn but the shadow chancellor, Rachel Reeves, is said to have concluded it would be unaffordable due to the state of the economy.</p> <p>The Labour leadership’s decision came as <a href=\"https://largerfamilies.study/publications/needs-and-entitlements/\">a major academic study</a> into the effects of the two-child cap concluded the policy had been a “poverty-producing” initiative over the past six years, which had caused hardship and anxiety to tens of thousands of low-income families.</p> <p>The research, published on Monday morning by academics from the Universities of York, Oxford and LSE found both the two-child limit and the benefit cap had failed to meet their own stated aims, having had no positive incentive effect on employment, nor produced a reduction in fertility among poorer families.</p> <p>The benefit cap, first implemented in 2013, places a cap on the amount a household can receive in benefits if they have no, or low, earnings, with the average household losing £50 a week. The two-child limit was introduced in 2017 – an estimated 32,000 households containing 110,000 children were affected by both policies at the same time in March 2022.</p> <p>Ethnic minority and larger families were disproportionately likely to be hit by the two-child limit and benefit cap, typically leaving them unable to afford essential items for their children, such as food, clothes and heating, with a consequent negative effect on children’s emotional and physical development, the study found.</p> <p>Ruth Patrick from the University of York said: “Our research evidence makes clear that the two-child limit and benefit cap are poverty-producing policies, which fail to meet their stated aims. Both policies need to be removed urgently, as part of a broader commitment to addressing child poverty and investing in children and families.”</p> <p>Alex Beer, welfare programme head at the Nuffield Foundation, which funded the research, said: “The two-child limit and the benefit cap are not incentivising families as the government intended and instead is leaving them unable to afford even basic necessities and affecting their mental health. These policies should be placed under review, and ideally removed.”</p> <p>The stance is seen by some in the party as an indicator of the lack of strength of its determination to tackle child poverty. However, one party insider suggested Starmer could revisit the policy if the public finances improved.</p>  <figure class=\"element element-interactive interactive element--supporting\" data-interactive=\"https://interactive.guim.co.uk/embed/iframe-wrapper/0.1/boot.js\" data-canonical-url=\"https://interactive.guim.co.uk/uploader/embed/2023/07/poverty_map-zip/giv-13425kZ9eJWXPJofB/\" data-alt=\"Map of constituencies affected by the two-child cap on benefits\"> <a href=\"https://interactive.guim.co.uk/uploader/embed/2023/07/poverty_map-zip/giv-13425kZ9eJWXPJofB/\">Interactive</a> </figure>  <p>In February 2020, Starmer said he wanted to scrap it in order to help “tackle the vast social injustice in our country”. But this month he hinted that Labour would stick to the Tory policy. His latest remarks to the BBC’s Sunday with Kuenssberg show appeared to confirm that position.</p> <p>Senior Labour insiders said they agreed that the policy was “horrible” and would not exist “in a perfect world” but said the party was not making any spending commitments it was unable to deliver on. “I can see why colleagues might feel uncomfortable with this but we’ve got to be realistic about the state of the economy,” they said.</p> <p>One shadow cabinet minister said Starmer had to be able to “slay shibboleths” over public spending but admitted it was a tough position for MPs with constituents in poverty to defend.</p> <p>“These things are not easy for the MPs because they do genuinely hurt families in their constituencies,” they said. “But we can’t end child poverty unless we have more money to do it – and that’s not going to happen, frankly, in the first term of a Labour government.”</p> <p>Concern over the policy has long been an issue within Labour ranks. Forty-eight MPs, just under a quarter of the parliamentary party, defied their whips and voted against the welfare bill at second reading in July 2015. They included three current shadow cabinet ministers and the mayor of London.</p> <p>Later in his BBC interview, Starmer said that “of course” it was worth ruffling feathers within the party to win the next election, saying his “central promise” to members when he took over was to change the party to make it electorally viable.</p> <p>“The Labour party was created to give working people not just representation in parliament but a government in parliament that can govern on their behalf and change the lives of millions of people for the better,” he said. “I have been changing the Labour party to put us in a position where we are now credible contenders for the next election.”</p> <p>Starmer did not rule out lifting the freeze on housing benefit, which has been in place since 2020 even though rents have soared, saying he would wait until closer to the general election to decide. “I’m not committing to that here, I’m not writing our manifesto here,” he said.</p>  <figure class=\"element element-interactive interactive\" data-interactive=\"https://interactive.guim.co.uk/embed/iframe-wrapper/0.1/boot.js\" data-canonical-url=\"https://interactive.guim.co.uk/uploader/embed/2023/07/poverty_scatter-zip/giv-13425Y4crSoLU54oQ/\" data-alt=\"Chart showing constituencies affected by the two-child cap on benefits\"> <a href=\"https://interactive.guim.co.uk/uploader/embed/2023/07/poverty_scatter-zip/giv-13425Y4crSoLU54oQ/\">Interactive</a> </figure>  <p>Lynn Perry, the chief executive of Barnardo’s, said: “Even before the cost of living crisis intensified in 2022, more than one in four children in the UK were growing up in poverty. That just not acceptable in a country with the sixth largest economy in the world.</p> <p>“Research shows that the two-child limit is one of the leading causes of child poverty. We urge the current government and the opposition to reverse this policy, focus on supporting families who are struggling, and restore hope to the next generation.”</p> <p>Imran Hussain, the director of policy and campaigns at Action for Children, said: “Any government serious about tackling child poverty will eventually have to confront the cruel reality of a policy that is designed to actively stop poor children receiving assistance to meet their minimum needs.</p> <aside class=\"element element-rich-link element--thumbnail\"> <p> <span>Related: </span><a href=\"https://www.theguardian.com/society/2023/jul/16/two-child-benefit-cap-explainer\">What is the UK’s two-child benefit cap and how has it affected families?</a> </p> </aside>  <p>“Any government serious about strengthening our society and our economy knows child poverty is hugely damaging to public services and public finances. Poverty drives huge costs in schools and the NHS and damages our nation’s skills base, which weakens our economy by many times more than the money saved by this policy.”</p> <p>Starmer refused to commit to further spending under a Labour government, amid growing calls from unions for him to back more of their policy priorities. However, he said: “A Labour government will always want to invest in its public services.”</p> <p>The leader has been emphatic about prioritising “financial responsibility” over reckless spending as the party seeks to reassure voters it can manage the economy. He suggested he was relaxed about being described as a fiscal conservative.</p> <p>“I don’t mind what label people put on me,” he said. “I do want to make my argument. My argument is this: What was absolutely plain from last year’s mini-budget is if you lose control of the economy, it’s working people who pay.”</p>'},\n",
       "   'isHosted': False,\n",
       "   'pillarId': 'pillar/news',\n",
       "   'pillarName': 'News'}]}"
      ]
     },
     "execution_count": 61,
     "metadata": {},
     "output_type": "execute_result"
    }
   ],
   "source": [
    "# get data from server\n",
    "response = requests.get(full_url)\n",
    "resp_data = response.json()['response']\n",
    "resp_data"
   ]
  },
  {
   "cell_type": "code",
   "execution_count": 62,
   "metadata": {
    "tags": []
   },
   "outputs": [
    {
     "data": {
      "text/plain": [
       "45"
      ]
     },
     "execution_count": 62,
     "metadata": {},
     "output_type": "execute_result"
    }
   ],
   "source": [
    "# Count number of pages\n",
    "num_pages = resp_data['pages']\n",
    "num_pages"
   ]
  },
  {
   "cell_type": "code",
   "execution_count": 63,
   "metadata": {
    "tags": []
   },
   "outputs": [],
   "source": [
    "def articles_from_page_results(page_results):\n",
    "    articles = {}\n",
    "    for result in page_results:\n",
    "        article_date = result['webPublicationDate']\n",
    "        article_title = result['webTitle']+f\" [{article_date}]\"\n",
    "        article_html = result['fields']['body']\n",
    "        article_text = re.sub(r'<.*?>','',article_html)\n",
    "        articles[article_title] = article_text\n",
    "    return articles"
   ]
  },
  {
   "cell_type": "code",
   "execution_count": 64,
   "metadata": {
    "tags": []
   },
   "outputs": [],
   "source": [
    "def get_all_articles_for_response(response_json,full_url):\n",
    "    total_pages = response_json['pages']\n",
    "    total_articles = response_json['total']\n",
    "    print(f\"Fetching {total_articles} articles from {total_pages} pages...\")\n",
    "    all_articles = {}\n",
    "    page1_articles = articles_from_page_results(response_json['results'])\n",
    "    all_articles.update(page1_articles)\n",
    "    print(\"Added articles for page: 1\")\n",
    "    \n",
    "    for page in range(2,total_pages+1):\n",
    "        print(\"Getting articles from API for page:\",page)\n",
    "        page_response = requests.get(full_url+f\"&page={page}\")\n",
    "        page_data = page_response.json()['response']\n",
    "        print(\"Processing results for page:\",page_data['currentPage'])\n",
    "        page_articles = articles_from_page_results(page_data['results'])\n",
    "        print(f\"Fetched {len(page_articles)} articles.\")\n",
    "        all_articles.update(page_articles)\n",
    "        print(\"Added articles for page:\",page)\n",
    "        print(f\"Status: {len(all_articles)} articles.\")\n",
    "        time.sleep(1) # make sure we're not hitting the API to hard\n",
    "    \n",
    "    print(f\"FINISHED: Fetched {len(all_articles)} articles.\")\n",
    "    return all_articles\n"
   ]
  },
  {
   "cell_type": "code",
   "execution_count": 65,
   "metadata": {
    "tags": []
   },
   "outputs": [
    {
     "name": "stdout",
     "output_type": "stream",
     "text": [
      "Fetching 442 articles from 45 pages...\n",
      "Added articles for page: 1\n",
      "Getting articles from API for page: 2\n",
      "Processing results for page: 2\n",
      "Fetched 10 articles.\n",
      "Added articles for page: 2\n",
      "Status: 20 articles.\n",
      "Getting articles from API for page: 3\n",
      "Processing results for page: 3\n",
      "Fetched 10 articles.\n",
      "Added articles for page: 3\n",
      "Status: 30 articles.\n",
      "Getting articles from API for page: 4\n",
      "Processing results for page: 4\n",
      "Fetched 10 articles.\n",
      "Added articles for page: 4\n",
      "Status: 40 articles.\n",
      "Getting articles from API for page: 5\n",
      "Processing results for page: 5\n",
      "Fetched 10 articles.\n",
      "Added articles for page: 5\n",
      "Status: 50 articles.\n",
      "Getting articles from API for page: 6\n",
      "Processing results for page: 6\n",
      "Fetched 10 articles.\n",
      "Added articles for page: 6\n",
      "Status: 60 articles.\n",
      "Getting articles from API for page: 7\n",
      "Processing results for page: 7\n",
      "Fetched 10 articles.\n",
      "Added articles for page: 7\n",
      "Status: 70 articles.\n",
      "Getting articles from API for page: 8\n",
      "Processing results for page: 8\n",
      "Fetched 10 articles.\n",
      "Added articles for page: 8\n",
      "Status: 80 articles.\n",
      "Getting articles from API for page: 9\n",
      "Processing results for page: 9\n",
      "Fetched 10 articles.\n",
      "Added articles for page: 9\n",
      "Status: 90 articles.\n",
      "Getting articles from API for page: 10\n",
      "Processing results for page: 10\n",
      "Fetched 10 articles.\n",
      "Added articles for page: 10\n",
      "Status: 100 articles.\n",
      "Getting articles from API for page: 11\n",
      "Processing results for page: 11\n",
      "Fetched 10 articles.\n",
      "Added articles for page: 11\n",
      "Status: 110 articles.\n",
      "Getting articles from API for page: 12\n",
      "Processing results for page: 12\n",
      "Fetched 10 articles.\n",
      "Added articles for page: 12\n",
      "Status: 120 articles.\n",
      "Getting articles from API for page: 13\n",
      "Processing results for page: 13\n",
      "Fetched 10 articles.\n",
      "Added articles for page: 13\n",
      "Status: 130 articles.\n",
      "Getting articles from API for page: 14\n",
      "Processing results for page: 14\n",
      "Fetched 10 articles.\n",
      "Added articles for page: 14\n",
      "Status: 140 articles.\n",
      "Getting articles from API for page: 15\n",
      "Processing results for page: 15\n",
      "Fetched 10 articles.\n",
      "Added articles for page: 15\n",
      "Status: 150 articles.\n",
      "Getting articles from API for page: 16\n",
      "Processing results for page: 16\n",
      "Fetched 10 articles.\n",
      "Added articles for page: 16\n",
      "Status: 160 articles.\n",
      "Getting articles from API for page: 17\n",
      "Processing results for page: 17\n",
      "Fetched 10 articles.\n",
      "Added articles for page: 17\n",
      "Status: 170 articles.\n",
      "Getting articles from API for page: 18\n",
      "Processing results for page: 18\n",
      "Fetched 10 articles.\n",
      "Added articles for page: 18\n",
      "Status: 180 articles.\n",
      "Getting articles from API for page: 19\n",
      "Processing results for page: 19\n",
      "Fetched 10 articles.\n",
      "Added articles for page: 19\n",
      "Status: 190 articles.\n",
      "Getting articles from API for page: 20\n",
      "Processing results for page: 20\n",
      "Fetched 10 articles.\n",
      "Added articles for page: 20\n",
      "Status: 200 articles.\n",
      "Getting articles from API for page: 21\n",
      "Processing results for page: 21\n",
      "Fetched 10 articles.\n",
      "Added articles for page: 21\n",
      "Status: 210 articles.\n",
      "Getting articles from API for page: 22\n",
      "Processing results for page: 22\n",
      "Fetched 10 articles.\n",
      "Added articles for page: 22\n",
      "Status: 220 articles.\n",
      "Getting articles from API for page: 23\n",
      "Processing results for page: 23\n",
      "Fetched 10 articles.\n",
      "Added articles for page: 23\n",
      "Status: 230 articles.\n",
      "Getting articles from API for page: 24\n",
      "Processing results for page: 24\n",
      "Fetched 10 articles.\n",
      "Added articles for page: 24\n",
      "Status: 240 articles.\n",
      "Getting articles from API for page: 25\n",
      "Processing results for page: 25\n",
      "Fetched 10 articles.\n",
      "Added articles for page: 25\n",
      "Status: 250 articles.\n",
      "Getting articles from API for page: 26\n",
      "Processing results for page: 26\n",
      "Fetched 10 articles.\n",
      "Added articles for page: 26\n",
      "Status: 260 articles.\n",
      "Getting articles from API for page: 27\n",
      "Processing results for page: 27\n",
      "Fetched 10 articles.\n",
      "Added articles for page: 27\n",
      "Status: 270 articles.\n",
      "Getting articles from API for page: 28\n",
      "Processing results for page: 28\n",
      "Fetched 10 articles.\n",
      "Added articles for page: 28\n",
      "Status: 280 articles.\n",
      "Getting articles from API for page: 29\n",
      "Processing results for page: 29\n",
      "Fetched 10 articles.\n",
      "Added articles for page: 29\n",
      "Status: 290 articles.\n",
      "Getting articles from API for page: 30\n",
      "Processing results for page: 30\n",
      "Fetched 10 articles.\n",
      "Added articles for page: 30\n",
      "Status: 300 articles.\n",
      "Getting articles from API for page: 31\n",
      "Processing results for page: 31\n",
      "Fetched 10 articles.\n",
      "Added articles for page: 31\n",
      "Status: 310 articles.\n",
      "Getting articles from API for page: 32\n",
      "Processing results for page: 32\n",
      "Fetched 10 articles.\n",
      "Added articles for page: 32\n",
      "Status: 320 articles.\n",
      "Getting articles from API for page: 33\n",
      "Processing results for page: 33\n",
      "Fetched 10 articles.\n",
      "Added articles for page: 33\n",
      "Status: 330 articles.\n",
      "Getting articles from API for page: 34\n",
      "Processing results for page: 34\n",
      "Fetched 10 articles.\n",
      "Added articles for page: 34\n",
      "Status: 340 articles.\n",
      "Getting articles from API for page: 35\n",
      "Processing results for page: 35\n",
      "Fetched 10 articles.\n",
      "Added articles for page: 35\n",
      "Status: 350 articles.\n",
      "Getting articles from API for page: 36\n",
      "Processing results for page: 36\n",
      "Fetched 10 articles.\n",
      "Added articles for page: 36\n",
      "Status: 360 articles.\n",
      "Getting articles from API for page: 37\n",
      "Processing results for page: 37\n",
      "Fetched 10 articles.\n",
      "Added articles for page: 37\n",
      "Status: 370 articles.\n",
      "Getting articles from API for page: 38\n",
      "Processing results for page: 38\n",
      "Fetched 10 articles.\n",
      "Added articles for page: 38\n",
      "Status: 380 articles.\n",
      "Getting articles from API for page: 39\n",
      "Processing results for page: 39\n",
      "Fetched 10 articles.\n",
      "Added articles for page: 39\n",
      "Status: 390 articles.\n",
      "Getting articles from API for page: 40\n",
      "Processing results for page: 40\n",
      "Fetched 10 articles.\n",
      "Added articles for page: 40\n",
      "Status: 399 articles.\n",
      "Getting articles from API for page: 41\n",
      "Processing results for page: 41\n",
      "Fetched 10 articles.\n",
      "Added articles for page: 41\n",
      "Status: 409 articles.\n",
      "Getting articles from API for page: 42\n",
      "Processing results for page: 42\n",
      "Fetched 10 articles.\n",
      "Added articles for page: 42\n",
      "Status: 419 articles.\n",
      "Getting articles from API for page: 43\n",
      "Processing results for page: 43\n",
      "Fetched 10 articles.\n",
      "Added articles for page: 43\n",
      "Status: 429 articles.\n",
      "Getting articles from API for page: 44\n",
      "Processing results for page: 44\n",
      "Fetched 10 articles.\n",
      "Added articles for page: 44\n",
      "Status: 439 articles.\n",
      "Getting articles from API for page: 45\n",
      "Processing results for page: 45\n",
      "Fetched 2 articles.\n",
      "Added articles for page: 45\n",
      "Status: 441 articles.\n",
      "FINISHED: Fetched 441 articles.\n"
     ]
    }
   ],
   "source": [
    "my_articles = get_all_articles_for_response(resp_data,full_url)"
   ]
  },
  {
   "cell_type": "code",
   "execution_count": 66,
   "metadata": {},
   "outputs": [
    {
     "name": "stdout",
     "output_type": "stream",
     "text": [
      "Total Articles: 441\n",
      "How to make coffee granita – recipe | Felicity Cloake's Masterclass [2023-06-28T10:00:02Z]\n",
      "Male bonding over coffee and chess | Letter [2023-05-29T16:17:53Z]\n",
      "Avocado, coffee, fajitas: the food guru fuelling the Matildas’ dreams [2023-07-22T20:00:22Z]\n",
      "Benefit cap punishes children by forcing them into poverty | Letters [2023-08-11T17:01:53Z]\n",
      "Full of beans: scientists use processed coffee grounds to make stronger concrete [2023-08-22T15:00:02Z]\n",
      "Keir Starmer must scrap the two-child benefit cap | Letters [2023-07-18T16:58:05Z]\n",
      "Labour under pressure to axe two-child benefit limit [2023-07-02T07:00:35Z]\n",
      "Tim Dowling: I am talking to the coffee machine. And yes, it’s listening [2023-08-19T05:00:09Z]\n",
      "Kamala Harris condemns Florida over curriculum claim of slavery ‘benefit’ [2023-07-21T20:47:47Z]\n",
      "Labour would keep two-child benefit cap, says Keir Starmer [2023-07-16T23:18:46Z]\n",
      "Benefit backlog costing disabled people £24m a month, says Citizens Advice [2023-08-15T06:00:37Z]\n",
      "Just 5% of private rentals affordable on housing benefit [2023-06-27T04:00:09Z]\n",
      "Labour MPs ‘seething’ over Starmer’s child benefit stance, says Corbyn [2023-07-18T12:23:30Z]\n",
      "Michael Imperioli: ‘I still give Morrissey the benefit of the doubt' [2023-08-10T13:08:28Z]\n",
      "Arizona woman accused of trying to kill husband by lacing coffee with bleach [2023-08-06T19:38:05Z]\n",
      "California shores up beaver protection in nod to their ‘ecological benefit’ [2023-07-26T10:00:05Z]\n",
      "Inside Britain’s tiniest places: ‘It’s an engineering work of art … with coffee’ [2023-07-07T11:00:30Z]\n",
      "Battle over two-child benefit cap looms at Labour policy event [2023-07-20T23:01:27Z]\n",
      "How much? Edith Pritchett on paying £5.20 for an iced coffee – cartoon [2023-06-24T05:00:02Z]\n",
      "Keir Starmer defends decision not to scrap two-child benefit cap [2023-07-18T18:15:56Z]\n"
     ]
    }
   ],
   "source": [
    "# Print first 19 of articles \n",
    "print(\"Total Articles:\", len(my_articles))\n",
    "count = 0  # Initialize a count variable to keep track of the number of articles printed\n",
    "for title, text in my_articles.items():\n",
    "    if count < 20:  # Check if you've printed less than 20 articles\n",
    "        print(title)\n",
    "        count += 1  # Increment the count\n",
    "    else:\n",
    "        break"
   ]
  },
  {
   "cell_type": "markdown",
   "metadata": {},
   "source": [
    "### 3. Analysis"
   ]
  },
  {
   "cell_type": "code",
   "execution_count": 67,
   "metadata": {
    "tags": []
   },
   "outputs": [],
   "source": [
    "# My dictionary of articles (my_articles)\n",
    "my_articles_count_pos = {\n",
    "    \"How to make coffee granita – recipe | Felicity Cloake's Masterclass\",\n",
    "    \"Male bonding over coffee and chess | Letter\",\n",
    "    \"Avocado, coffee, fajitas: the food guru fuelling the Matildas’ dreams\",\n",
    "    \"Benefit cap punishes children by forcing them into poverty | Letters\",\n",
    "    \"Full of beans: scientists use processed coffee grounds to make stronger concrete\",\n",
    "    \"Tim Dowling: I am talking to the coffee machine. And yes, it’s listening\",\n",
    "    \"Keir Starmer must scrap the two-child benefit cap | Letters\",\n",
    "    \"Labour under pressure to axe two-child benefit limit\",\n",
    "    \"Benefit backlog costing disabled people £24m a month, says Citizens Advice\",\n",
    "    \"Just 5% of private rentals affordable on housing benefit\",\n",
    "    \"Labour MPs ‘seething’ over Starmer’s child benefit stance, says Corbyn\",\n",
    "    \"Michael Imperioli: ‘I still give Morrissey the benefit of the doubt\",\n",
    "    \"Arizona woman accused of trying to kill husband by lacing coffee with bleach\",\n",
    "    \"California shores up beaver protection in nod to their ‘ecological benefit\",\n",
    "    \"Inside Britain’s tiniest places: ‘It’s an engineering work of art … with coffee\",\n",
    "    \"Battle over two-child benefit cap looms at Labour policy event\",\n",
    "    \"How much? Edith Pritchett on paying £5.20 for an iced coffee – cartoon\",\n",
    "    \"Keir Starmer defends decision not to scrap two-child benefit cap\"\n",
    "}\n"
   ]
  },
  {
   "cell_type": "code",
   "execution_count": 68,
   "metadata": {
    "tags": []
   },
   "outputs": [],
   "source": [
    "# Organise my dictionary of articles\n",
    "my_articles_count_pos = {\n",
    "    'positive':[\"Male bonding over coffee and chess | Letter\",\n",
    "                \"Full of beans: scientists use processed coffee grounds to make stronger concrete\",\n",
    "                \"Inside Britain’s tiniest places: ‘It’s an engineering work of art … with coffee\"],\n",
    "    'negative':[\"Arizona woman accused of trying to kill husband by lacing coffee with bleach\"],\n",
    "    'irrelevent of pros and cons': [\"How to make coffee granita – recipe | Felicity Cloake's Masterclass\",\n",
    "                                    \"Avocado, coffee, fajitas: the food guru fuelling the Matildas’ dreams\",\n",
    "                                    \"Benefit cap punishes children by forcing them into poverty | Letters\",\n",
    "                                    \"Full of beans: scientists use processed coffee grounds to make stronger concrete\",\n",
    "                                    \"Tim Dowling: I am talking to the coffee machine. And yes, it’s listening\",\n",
    "                                    \"Keir Starmer must scrap the two-child benefit cap | Letters\",\n",
    "                                    \"Labour under pressure to axe two-child benefit limit\",\n",
    "                                    \"Benefit backlog costing disabled people £24m a month, says Citizens Advice\",\n",
    "                                    \"Just 5% of private rentals affordable on housing benefit\",\n",
    "                                    \"Labour MPs ‘seething’ over Starmer’s child benefit stance, says Corbyn\",\n",
    "                                    \"Michael Imperioli: ‘I still give Morrissey the benefit of the doubt\",\n",
    "                                    \"California shores up beaver protection in nod to their ‘ecological benefit\",\n",
    "                                    \"Battle over two-child benefit cap looms at Labour policy event\",\n",
    "                                    \"How much? Edith Pritchett on paying £5.20 for an iced coffee – cartoon\",\n",
    "                                    \"Keir Starmer defends decision not to scrap two-child benefit cap\"]\n",
    "}\n",
    "    \n",
    "\n",
    "    \n",
    "    "
   ]
  },
  {
   "cell_type": "code",
   "execution_count": 69,
   "metadata": {
    "tags": []
   },
   "outputs": [],
   "source": [
    "# Count my dictionary of articles\n",
    "my_articles_count_pos = {\n",
    "    'article senti':['positive','negative','irrelevant'],\n",
    "    'count':[3,1,15]\n",
    "}\n",
    "\n",
    "my_articles_count_pos = pd.DataFrame(my_articles_count_pos)"
   ]
  },
  {
   "cell_type": "code",
   "execution_count": 70,
   "metadata": {
    "tags": []
   },
   "outputs": [
    {
     "data": {
      "text/html": [
       "<div>\n",
       "<style scoped>\n",
       "    .dataframe tbody tr th:only-of-type {\n",
       "        vertical-align: middle;\n",
       "    }\n",
       "\n",
       "    .dataframe tbody tr th {\n",
       "        vertical-align: top;\n",
       "    }\n",
       "\n",
       "    .dataframe thead th {\n",
       "        text-align: right;\n",
       "    }\n",
       "</style>\n",
       "<table border=\"1\" class=\"dataframe\">\n",
       "  <thead>\n",
       "    <tr style=\"text-align: right;\">\n",
       "      <th></th>\n",
       "      <th>article senti</th>\n",
       "      <th>count</th>\n",
       "    </tr>\n",
       "  </thead>\n",
       "  <tbody>\n",
       "    <tr>\n",
       "      <th>0</th>\n",
       "      <td>positive</td>\n",
       "      <td>3</td>\n",
       "    </tr>\n",
       "    <tr>\n",
       "      <th>1</th>\n",
       "      <td>negative</td>\n",
       "      <td>1</td>\n",
       "    </tr>\n",
       "    <tr>\n",
       "      <th>2</th>\n",
       "      <td>irrelevant</td>\n",
       "      <td>15</td>\n",
       "    </tr>\n",
       "  </tbody>\n",
       "</table>\n",
       "</div>"
      ],
      "text/plain": [
       "  article senti  count\n",
       "0      positive      3\n",
       "1      negative      1\n",
       "2    irrelevant     15"
      ]
     },
     "execution_count": 70,
     "metadata": {},
     "output_type": "execute_result"
    }
   ],
   "source": [
    "my_articles_count_pos"
   ]
  },
  {
   "cell_type": "markdown",
   "metadata": {},
   "source": [
    "### 4. Visualisation"
   ]
  },
  {
   "cell_type": "code",
   "execution_count": 71,
   "metadata": {},
   "outputs": [
    {
     "data": {
      "application/vnd.plotly.v1+json": {
       "config": {
        "plotlyServerURL": "https://plot.ly"
       },
       "data": [
        {
         "domain": {
          "x": [
           0,
           1
          ],
          "y": [
           0,
           1
          ]
         },
         "hovertemplate": "article senti=%{label}<br>count=%{value}<extra></extra>",
         "labels": [
          "positive",
          "negative",
          "irrelevant"
         ],
         "legendgroup": "",
         "name": "",
         "showlegend": true,
         "type": "pie",
         "values": [
          3,
          1,
          15
         ]
        }
       ],
       "layout": {
        "autosize": true,
        "legend": {
         "tracegroupgap": 0
        },
        "margin": {
         "t": 60
        },
        "template": {
         "data": {
          "bar": [
           {
            "error_x": {
             "color": "#2a3f5f"
            },
            "error_y": {
             "color": "#2a3f5f"
            },
            "marker": {
             "line": {
              "color": "#E5ECF6",
              "width": 0.5
             },
             "pattern": {
              "fillmode": "overlay",
              "size": 10,
              "solidity": 0.2
             }
            },
            "type": "bar"
           }
          ],
          "barpolar": [
           {
            "marker": {
             "line": {
              "color": "#E5ECF6",
              "width": 0.5
             },
             "pattern": {
              "fillmode": "overlay",
              "size": 10,
              "solidity": 0.2
             }
            },
            "type": "barpolar"
           }
          ],
          "carpet": [
           {
            "aaxis": {
             "endlinecolor": "#2a3f5f",
             "gridcolor": "white",
             "linecolor": "white",
             "minorgridcolor": "white",
             "startlinecolor": "#2a3f5f"
            },
            "baxis": {
             "endlinecolor": "#2a3f5f",
             "gridcolor": "white",
             "linecolor": "white",
             "minorgridcolor": "white",
             "startlinecolor": "#2a3f5f"
            },
            "type": "carpet"
           }
          ],
          "choropleth": [
           {
            "colorbar": {
             "outlinewidth": 0,
             "ticks": ""
            },
            "type": "choropleth"
           }
          ],
          "contour": [
           {
            "colorbar": {
             "outlinewidth": 0,
             "ticks": ""
            },
            "colorscale": [
             [
              0,
              "#0d0887"
             ],
             [
              0.1111111111111111,
              "#46039f"
             ],
             [
              0.2222222222222222,
              "#7201a8"
             ],
             [
              0.3333333333333333,
              "#9c179e"
             ],
             [
              0.4444444444444444,
              "#bd3786"
             ],
             [
              0.5555555555555556,
              "#d8576b"
             ],
             [
              0.6666666666666666,
              "#ed7953"
             ],
             [
              0.7777777777777778,
              "#fb9f3a"
             ],
             [
              0.8888888888888888,
              "#fdca26"
             ],
             [
              1,
              "#f0f921"
             ]
            ],
            "type": "contour"
           }
          ],
          "contourcarpet": [
           {
            "colorbar": {
             "outlinewidth": 0,
             "ticks": ""
            },
            "type": "contourcarpet"
           }
          ],
          "heatmap": [
           {
            "colorbar": {
             "outlinewidth": 0,
             "ticks": ""
            },
            "colorscale": [
             [
              0,
              "#0d0887"
             ],
             [
              0.1111111111111111,
              "#46039f"
             ],
             [
              0.2222222222222222,
              "#7201a8"
             ],
             [
              0.3333333333333333,
              "#9c179e"
             ],
             [
              0.4444444444444444,
              "#bd3786"
             ],
             [
              0.5555555555555556,
              "#d8576b"
             ],
             [
              0.6666666666666666,
              "#ed7953"
             ],
             [
              0.7777777777777778,
              "#fb9f3a"
             ],
             [
              0.8888888888888888,
              "#fdca26"
             ],
             [
              1,
              "#f0f921"
             ]
            ],
            "type": "heatmap"
           }
          ],
          "heatmapgl": [
           {
            "colorbar": {
             "outlinewidth": 0,
             "ticks": ""
            },
            "colorscale": [
             [
              0,
              "#0d0887"
             ],
             [
              0.1111111111111111,
              "#46039f"
             ],
             [
              0.2222222222222222,
              "#7201a8"
             ],
             [
              0.3333333333333333,
              "#9c179e"
             ],
             [
              0.4444444444444444,
              "#bd3786"
             ],
             [
              0.5555555555555556,
              "#d8576b"
             ],
             [
              0.6666666666666666,
              "#ed7953"
             ],
             [
              0.7777777777777778,
              "#fb9f3a"
             ],
             [
              0.8888888888888888,
              "#fdca26"
             ],
             [
              1,
              "#f0f921"
             ]
            ],
            "type": "heatmapgl"
           }
          ],
          "histogram": [
           {
            "marker": {
             "pattern": {
              "fillmode": "overlay",
              "size": 10,
              "solidity": 0.2
             }
            },
            "type": "histogram"
           }
          ],
          "histogram2d": [
           {
            "colorbar": {
             "outlinewidth": 0,
             "ticks": ""
            },
            "colorscale": [
             [
              0,
              "#0d0887"
             ],
             [
              0.1111111111111111,
              "#46039f"
             ],
             [
              0.2222222222222222,
              "#7201a8"
             ],
             [
              0.3333333333333333,
              "#9c179e"
             ],
             [
              0.4444444444444444,
              "#bd3786"
             ],
             [
              0.5555555555555556,
              "#d8576b"
             ],
             [
              0.6666666666666666,
              "#ed7953"
             ],
             [
              0.7777777777777778,
              "#fb9f3a"
             ],
             [
              0.8888888888888888,
              "#fdca26"
             ],
             [
              1,
              "#f0f921"
             ]
            ],
            "type": "histogram2d"
           }
          ],
          "histogram2dcontour": [
           {
            "colorbar": {
             "outlinewidth": 0,
             "ticks": ""
            },
            "colorscale": [
             [
              0,
              "#0d0887"
             ],
             [
              0.1111111111111111,
              "#46039f"
             ],
             [
              0.2222222222222222,
              "#7201a8"
             ],
             [
              0.3333333333333333,
              "#9c179e"
             ],
             [
              0.4444444444444444,
              "#bd3786"
             ],
             [
              0.5555555555555556,
              "#d8576b"
             ],
             [
              0.6666666666666666,
              "#ed7953"
             ],
             [
              0.7777777777777778,
              "#fb9f3a"
             ],
             [
              0.8888888888888888,
              "#fdca26"
             ],
             [
              1,
              "#f0f921"
             ]
            ],
            "type": "histogram2dcontour"
           }
          ],
          "mesh3d": [
           {
            "colorbar": {
             "outlinewidth": 0,
             "ticks": ""
            },
            "type": "mesh3d"
           }
          ],
          "parcoords": [
           {
            "line": {
             "colorbar": {
              "outlinewidth": 0,
              "ticks": ""
             }
            },
            "type": "parcoords"
           }
          ],
          "pie": [
           {
            "automargin": true,
            "type": "pie"
           }
          ],
          "scatter": [
           {
            "fillpattern": {
             "fillmode": "overlay",
             "size": 10,
             "solidity": 0.2
            },
            "type": "scatter"
           }
          ],
          "scatter3d": [
           {
            "line": {
             "colorbar": {
              "outlinewidth": 0,
              "ticks": ""
             }
            },
            "marker": {
             "colorbar": {
              "outlinewidth": 0,
              "ticks": ""
             }
            },
            "type": "scatter3d"
           }
          ],
          "scattercarpet": [
           {
            "marker": {
             "colorbar": {
              "outlinewidth": 0,
              "ticks": ""
             }
            },
            "type": "scattercarpet"
           }
          ],
          "scattergeo": [
           {
            "marker": {
             "colorbar": {
              "outlinewidth": 0,
              "ticks": ""
             }
            },
            "type": "scattergeo"
           }
          ],
          "scattergl": [
           {
            "marker": {
             "colorbar": {
              "outlinewidth": 0,
              "ticks": ""
             }
            },
            "type": "scattergl"
           }
          ],
          "scattermapbox": [
           {
            "marker": {
             "colorbar": {
              "outlinewidth": 0,
              "ticks": ""
             }
            },
            "type": "scattermapbox"
           }
          ],
          "scatterpolar": [
           {
            "marker": {
             "colorbar": {
              "outlinewidth": 0,
              "ticks": ""
             }
            },
            "type": "scatterpolar"
           }
          ],
          "scatterpolargl": [
           {
            "marker": {
             "colorbar": {
              "outlinewidth": 0,
              "ticks": ""
             }
            },
            "type": "scatterpolargl"
           }
          ],
          "scatterternary": [
           {
            "marker": {
             "colorbar": {
              "outlinewidth": 0,
              "ticks": ""
             }
            },
            "type": "scatterternary"
           }
          ],
          "surface": [
           {
            "colorbar": {
             "outlinewidth": 0,
             "ticks": ""
            },
            "colorscale": [
             [
              0,
              "#0d0887"
             ],
             [
              0.1111111111111111,
              "#46039f"
             ],
             [
              0.2222222222222222,
              "#7201a8"
             ],
             [
              0.3333333333333333,
              "#9c179e"
             ],
             [
              0.4444444444444444,
              "#bd3786"
             ],
             [
              0.5555555555555556,
              "#d8576b"
             ],
             [
              0.6666666666666666,
              "#ed7953"
             ],
             [
              0.7777777777777778,
              "#fb9f3a"
             ],
             [
              0.8888888888888888,
              "#fdca26"
             ],
             [
              1,
              "#f0f921"
             ]
            ],
            "type": "surface"
           }
          ],
          "table": [
           {
            "cells": {
             "fill": {
              "color": "#EBF0F8"
             },
             "line": {
              "color": "white"
             }
            },
            "header": {
             "fill": {
              "color": "#C8D4E3"
             },
             "line": {
              "color": "white"
             }
            },
            "type": "table"
           }
          ]
         },
         "layout": {
          "annotationdefaults": {
           "arrowcolor": "#2a3f5f",
           "arrowhead": 0,
           "arrowwidth": 1
          },
          "autotypenumbers": "strict",
          "coloraxis": {
           "colorbar": {
            "outlinewidth": 0,
            "ticks": ""
           }
          },
          "colorscale": {
           "diverging": [
            [
             0,
             "#8e0152"
            ],
            [
             0.1,
             "#c51b7d"
            ],
            [
             0.2,
             "#de77ae"
            ],
            [
             0.3,
             "#f1b6da"
            ],
            [
             0.4,
             "#fde0ef"
            ],
            [
             0.5,
             "#f7f7f7"
            ],
            [
             0.6,
             "#e6f5d0"
            ],
            [
             0.7,
             "#b8e186"
            ],
            [
             0.8,
             "#7fbc41"
            ],
            [
             0.9,
             "#4d9221"
            ],
            [
             1,
             "#276419"
            ]
           ],
           "sequential": [
            [
             0,
             "#0d0887"
            ],
            [
             0.1111111111111111,
             "#46039f"
            ],
            [
             0.2222222222222222,
             "#7201a8"
            ],
            [
             0.3333333333333333,
             "#9c179e"
            ],
            [
             0.4444444444444444,
             "#bd3786"
            ],
            [
             0.5555555555555556,
             "#d8576b"
            ],
            [
             0.6666666666666666,
             "#ed7953"
            ],
            [
             0.7777777777777778,
             "#fb9f3a"
            ],
            [
             0.8888888888888888,
             "#fdca26"
            ],
            [
             1,
             "#f0f921"
            ]
           ],
           "sequentialminus": [
            [
             0,
             "#0d0887"
            ],
            [
             0.1111111111111111,
             "#46039f"
            ],
            [
             0.2222222222222222,
             "#7201a8"
            ],
            [
             0.3333333333333333,
             "#9c179e"
            ],
            [
             0.4444444444444444,
             "#bd3786"
            ],
            [
             0.5555555555555556,
             "#d8576b"
            ],
            [
             0.6666666666666666,
             "#ed7953"
            ],
            [
             0.7777777777777778,
             "#fb9f3a"
            ],
            [
             0.8888888888888888,
             "#fdca26"
            ],
            [
             1,
             "#f0f921"
            ]
           ]
          },
          "colorway": [
           "#636efa",
           "#EF553B",
           "#00cc96",
           "#ab63fa",
           "#FFA15A",
           "#19d3f3",
           "#FF6692",
           "#B6E880",
           "#FF97FF",
           "#FECB52"
          ],
          "font": {
           "color": "#2a3f5f"
          },
          "geo": {
           "bgcolor": "white",
           "lakecolor": "white",
           "landcolor": "#E5ECF6",
           "showlakes": true,
           "showland": true,
           "subunitcolor": "white"
          },
          "hoverlabel": {
           "align": "left"
          },
          "hovermode": "closest",
          "mapbox": {
           "style": "light"
          },
          "paper_bgcolor": "white",
          "plot_bgcolor": "#E5ECF6",
          "polar": {
           "angularaxis": {
            "gridcolor": "white",
            "linecolor": "white",
            "ticks": ""
           },
           "bgcolor": "#E5ECF6",
           "radialaxis": {
            "gridcolor": "white",
            "linecolor": "white",
            "ticks": ""
           }
          },
          "scene": {
           "xaxis": {
            "backgroundcolor": "#E5ECF6",
            "gridcolor": "white",
            "gridwidth": 2,
            "linecolor": "white",
            "showbackground": true,
            "ticks": "",
            "zerolinecolor": "white"
           },
           "yaxis": {
            "backgroundcolor": "#E5ECF6",
            "gridcolor": "white",
            "gridwidth": 2,
            "linecolor": "white",
            "showbackground": true,
            "ticks": "",
            "zerolinecolor": "white"
           },
           "zaxis": {
            "backgroundcolor": "#E5ECF6",
            "gridcolor": "white",
            "gridwidth": 2,
            "linecolor": "white",
            "showbackground": true,
            "ticks": "",
            "zerolinecolor": "white"
           }
          },
          "shapedefaults": {
           "line": {
            "color": "#2a3f5f"
           }
          },
          "ternary": {
           "aaxis": {
            "gridcolor": "white",
            "linecolor": "white",
            "ticks": ""
           },
           "baxis": {
            "gridcolor": "white",
            "linecolor": "white",
            "ticks": ""
           },
           "bgcolor": "#E5ECF6",
           "caxis": {
            "gridcolor": "white",
            "linecolor": "white",
            "ticks": ""
           }
          },
          "title": {
           "x": 0.05
          },
          "xaxis": {
           "automargin": true,
           "gridcolor": "white",
           "linecolor": "white",
           "ticks": "",
           "title": {
            "standoff": 15
           },
           "zerolinecolor": "white",
           "zerolinewidth": 2
          },
          "yaxis": {
           "automargin": true,
           "gridcolor": "white",
           "linecolor": "white",
           "ticks": "",
           "title": {
            "standoff": 15
           },
           "zerolinecolor": "white",
           "zerolinewidth": 2
          }
         }
        }
       }
      },
      "image/png": "[encoded data removed]",
      "text/html": [
       "<div>                            <div id=\"f0b94918-8ac3-4a3f-b961-07fd01497d24\" class=\"plotly-graph-div\" style=\"height:525px; width:100%;\"></div>            <script type=\"text/javascript\">                require([\"plotly\"], function(Plotly) {                    window.PLOTLYENV=window.PLOTLYENV || {};                                    if (document.getElementById(\"f0b94918-8ac3-4a3f-b961-07fd01497d24\")) {                    Plotly.newPlot(                        \"f0b94918-8ac3-4a3f-b961-07fd01497d24\",                        [{\"domain\":{\"x\":[0.0,1.0],\"y\":[0.0,1.0]},\"hovertemplate\":\"article senti=%{label}\\u003cbr\\u003ecount=%{value}\\u003cextra\\u003e\\u003c\\u002fextra\\u003e\",\"labels\":[\"positive\",\"negative\",\"irrelevant\"],\"legendgroup\":\"\",\"name\":\"\",\"showlegend\":true,\"values\":[3,1,15],\"type\":\"pie\"}],                        {\"template\":{\"data\":{\"histogram2dcontour\":[{\"type\":\"histogram2dcontour\",\"colorbar\":{\"outlinewidth\":0,\"ticks\":\"\"},\"colorscale\":[[0.0,\"#0d0887\"],[0.1111111111111111,\"#46039f\"],[0.2222222222222222,\"#7201a8\"],[0.3333333333333333,\"#9c179e\"],[0.4444444444444444,\"#bd3786\"],[0.5555555555555556,\"#d8576b\"],[0.6666666666666666,\"#ed7953\"],[0.7777777777777778,\"#fb9f3a\"],[0.8888888888888888,\"#fdca26\"],[1.0,\"#f0f921\"]]}],\"choropleth\":[{\"type\":\"choropleth\",\"colorbar\":{\"outlinewidth\":0,\"ticks\":\"\"}}],\"histogram2d\":[{\"type\":\"histogram2d\",\"colorbar\":{\"outlinewidth\":0,\"ticks\":\"\"},\"colorscale\":[[0.0,\"#0d0887\"],[0.1111111111111111,\"#46039f\"],[0.2222222222222222,\"#7201a8\"],[0.3333333333333333,\"#9c179e\"],[0.4444444444444444,\"#bd3786\"],[0.5555555555555556,\"#d8576b\"],[0.6666666666666666,\"#ed7953\"],[0.7777777777777778,\"#fb9f3a\"],[0.8888888888888888,\"#fdca26\"],[1.0,\"#f0f921\"]]}],\"heatmap\":[{\"type\":\"heatmap\",\"colorbar\":{\"outlinewidth\":0,\"ticks\":\"\"},\"colorscale\":[[0.0,\"#0d0887\"],[0.1111111111111111,\"#46039f\"],[0.2222222222222222,\"#7201a8\"],[0.3333333333333333,\"#9c179e\"],[0.4444444444444444,\"#bd3786\"],[0.5555555555555556,\"#d8576b\"],[0.6666666666666666,\"#ed7953\"],[0.7777777777777778,\"#fb9f3a\"],[0.8888888888888888,\"#fdca26\"],[1.0,\"#f0f921\"]]}],\"heatmapgl\":[{\"type\":\"heatmapgl\",\"colorbar\":{\"outlinewidth\":0,\"ticks\":\"\"},\"colorscale\":[[0.0,\"#0d0887\"],[0.1111111111111111,\"#46039f\"],[0.2222222222222222,\"#7201a8\"],[0.3333333333333333,\"#9c179e\"],[0.4444444444444444,\"#bd3786\"],[0.5555555555555556,\"#d8576b\"],[0.6666666666666666,\"#ed7953\"],[0.7777777777777778,\"#fb9f3a\"],[0.8888888888888888,\"#fdca26\"],[1.0,\"#f0f921\"]]}],\"contourcarpet\":[{\"type\":\"contourcarpet\",\"colorbar\":{\"outlinewidth\":0,\"ticks\":\"\"}}],\"contour\":[{\"type\":\"contour\",\"colorbar\":{\"outlinewidth\":0,\"ticks\":\"\"},\"colorscale\":[[0.0,\"#0d0887\"],[0.1111111111111111,\"#46039f\"],[0.2222222222222222,\"#7201a8\"],[0.3333333333333333,\"#9c179e\"],[0.4444444444444444,\"#bd3786\"],[0.5555555555555556,\"#d8576b\"],[0.6666666666666666,\"#ed7953\"],[0.7777777777777778,\"#fb9f3a\"],[0.8888888888888888,\"#fdca26\"],[1.0,\"#f0f921\"]]}],\"surface\":[{\"type\":\"surface\",\"colorbar\":{\"outlinewidth\":0,\"ticks\":\"\"},\"colorscale\":[[0.0,\"#0d0887\"],[0.1111111111111111,\"#46039f\"],[0.2222222222222222,\"#7201a8\"],[0.3333333333333333,\"#9c179e\"],[0.4444444444444444,\"#bd3786\"],[0.5555555555555556,\"#d8576b\"],[0.6666666666666666,\"#ed7953\"],[0.7777777777777778,\"#fb9f3a\"],[0.8888888888888888,\"#fdca26\"],[1.0,\"#f0f921\"]]}],\"mesh3d\":[{\"type\":\"mesh3d\",\"colorbar\":{\"outlinewidth\":0,\"ticks\":\"\"}}],\"scatter\":[{\"fillpattern\":{\"fillmode\":\"overlay\",\"size\":10,\"solidity\":0.2},\"type\":\"scatter\"}],\"parcoords\":[{\"type\":\"parcoords\",\"line\":{\"colorbar\":{\"outlinewidth\":0,\"ticks\":\"\"}}}],\"scatterpolargl\":[{\"type\":\"scatterpolargl\",\"marker\":{\"colorbar\":{\"outlinewidth\":0,\"ticks\":\"\"}}}],\"bar\":[{\"error_x\":{\"color\":\"#2a3f5f\"},\"error_y\":{\"color\":\"#2a3f5f\"},\"marker\":{\"line\":{\"color\":\"#E5ECF6\",\"width\":0.5},\"pattern\":{\"fillmode\":\"overlay\",\"size\":10,\"solidity\":0.2}},\"type\":\"bar\"}],\"scattergeo\":[{\"type\":\"scattergeo\",\"marker\":{\"colorbar\":{\"outlinewidth\":0,\"ticks\":\"\"}}}],\"scatterpolar\":[{\"type\":\"scatterpolar\",\"marker\":{\"colorbar\":{\"outlinewidth\":0,\"ticks\":\"\"}}}],\"histogram\":[{\"marker\":{\"pattern\":{\"fillmode\":\"overlay\",\"size\":10,\"solidity\":0.2}},\"type\":\"histogram\"}],\"scattergl\":[{\"type\":\"scattergl\",\"marker\":{\"colorbar\":{\"outlinewidth\":0,\"ticks\":\"\"}}}],\"scatter3d\":[{\"type\":\"scatter3d\",\"line\":{\"colorbar\":{\"outlinewidth\":0,\"ticks\":\"\"}},\"marker\":{\"colorbar\":{\"outlinewidth\":0,\"ticks\":\"\"}}}],\"scattermapbox\":[{\"type\":\"scattermapbox\",\"marker\":{\"colorbar\":{\"outlinewidth\":0,\"ticks\":\"\"}}}],\"scatterternary\":[{\"type\":\"scatterternary\",\"marker\":{\"colorbar\":{\"outlinewidth\":0,\"ticks\":\"\"}}}],\"scattercarpet\":[{\"type\":\"scattercarpet\",\"marker\":{\"colorbar\":{\"outlinewidth\":0,\"ticks\":\"\"}}}],\"carpet\":[{\"aaxis\":{\"endlinecolor\":\"#2a3f5f\",\"gridcolor\":\"white\",\"linecolor\":\"white\",\"minorgridcolor\":\"white\",\"startlinecolor\":\"#2a3f5f\"},\"baxis\":{\"endlinecolor\":\"#2a3f5f\",\"gridcolor\":\"white\",\"linecolor\":\"white\",\"minorgridcolor\":\"white\",\"startlinecolor\":\"#2a3f5f\"},\"type\":\"carpet\"}],\"table\":[{\"cells\":{\"fill\":{\"color\":\"#EBF0F8\"},\"line\":{\"color\":\"white\"}},\"header\":{\"fill\":{\"color\":\"#C8D4E3\"},\"line\":{\"color\":\"white\"}},\"type\":\"table\"}],\"barpolar\":[{\"marker\":{\"line\":{\"color\":\"#E5ECF6\",\"width\":0.5},\"pattern\":{\"fillmode\":\"overlay\",\"size\":10,\"solidity\":0.2}},\"type\":\"barpolar\"}],\"pie\":[{\"automargin\":true,\"type\":\"pie\"}]},\"layout\":{\"autotypenumbers\":\"strict\",\"colorway\":[\"#636efa\",\"#EF553B\",\"#00cc96\",\"#ab63fa\",\"#FFA15A\",\"#19d3f3\",\"#FF6692\",\"#B6E880\",\"#FF97FF\",\"#FECB52\"],\"font\":{\"color\":\"#2a3f5f\"},\"hovermode\":\"closest\",\"hoverlabel\":{\"align\":\"left\"},\"paper_bgcolor\":\"white\",\"plot_bgcolor\":\"#E5ECF6\",\"polar\":{\"bgcolor\":\"#E5ECF6\",\"angularaxis\":{\"gridcolor\":\"white\",\"linecolor\":\"white\",\"ticks\":\"\"},\"radialaxis\":{\"gridcolor\":\"white\",\"linecolor\":\"white\",\"ticks\":\"\"}},\"ternary\":{\"bgcolor\":\"#E5ECF6\",\"aaxis\":{\"gridcolor\":\"white\",\"linecolor\":\"white\",\"ticks\":\"\"},\"baxis\":{\"gridcolor\":\"white\",\"linecolor\":\"white\",\"ticks\":\"\"},\"caxis\":{\"gridcolor\":\"white\",\"linecolor\":\"white\",\"ticks\":\"\"}},\"coloraxis\":{\"colorbar\":{\"outlinewidth\":0,\"ticks\":\"\"}},\"colorscale\":{\"sequential\":[[0.0,\"#0d0887\"],[0.1111111111111111,\"#46039f\"],[0.2222222222222222,\"#7201a8\"],[0.3333333333333333,\"#9c179e\"],[0.4444444444444444,\"#bd3786\"],[0.5555555555555556,\"#d8576b\"],[0.6666666666666666,\"#ed7953\"],[0.7777777777777778,\"#fb9f3a\"],[0.8888888888888888,\"#fdca26\"],[1.0,\"#f0f921\"]],\"sequentialminus\":[[0.0,\"#0d0887\"],[0.1111111111111111,\"#46039f\"],[0.2222222222222222,\"#7201a8\"],[0.3333333333333333,\"#9c179e\"],[0.4444444444444444,\"#bd3786\"],[0.5555555555555556,\"#d8576b\"],[0.6666666666666666,\"#ed7953\"],[0.7777777777777778,\"#fb9f3a\"],[0.8888888888888888,\"#fdca26\"],[1.0,\"#f0f921\"]],\"diverging\":[[0,\"#8e0152\"],[0.1,\"#c51b7d\"],[0.2,\"#de77ae\"],[0.3,\"#f1b6da\"],[0.4,\"#fde0ef\"],[0.5,\"#f7f7f7\"],[0.6,\"#e6f5d0\"],[0.7,\"#b8e186\"],[0.8,\"#7fbc41\"],[0.9,\"#4d9221\"],[1,\"#276419\"]]},\"xaxis\":{\"gridcolor\":\"white\",\"linecolor\":\"white\",\"ticks\":\"\",\"title\":{\"standoff\":15},\"zerolinecolor\":\"white\",\"automargin\":true,\"zerolinewidth\":2},\"yaxis\":{\"gridcolor\":\"white\",\"linecolor\":\"white\",\"ticks\":\"\",\"title\":{\"standoff\":15},\"zerolinecolor\":\"white\",\"automargin\":true,\"zerolinewidth\":2},\"scene\":{\"xaxis\":{\"backgroundcolor\":\"#E5ECF6\",\"gridcolor\":\"white\",\"linecolor\":\"white\",\"showbackground\":true,\"ticks\":\"\",\"zerolinecolor\":\"white\",\"gridwidth\":2},\"yaxis\":{\"backgroundcolor\":\"#E5ECF6\",\"gridcolor\":\"white\",\"linecolor\":\"white\",\"showbackground\":true,\"ticks\":\"\",\"zerolinecolor\":\"white\",\"gridwidth\":2},\"zaxis\":{\"backgroundcolor\":\"#E5ECF6\",\"gridcolor\":\"white\",\"linecolor\":\"white\",\"showbackground\":true,\"ticks\":\"\",\"zerolinecolor\":\"white\",\"gridwidth\":2}},\"shapedefaults\":{\"line\":{\"color\":\"#2a3f5f\"}},\"annotationdefaults\":{\"arrowcolor\":\"#2a3f5f\",\"arrowhead\":0,\"arrowwidth\":1},\"geo\":{\"bgcolor\":\"white\",\"landcolor\":\"#E5ECF6\",\"subunitcolor\":\"white\",\"showland\":true,\"showlakes\":true,\"lakecolor\":\"white\"},\"title\":{\"x\":0.05},\"mapbox\":{\"style\":\"light\"}}},\"legend\":{\"tracegroupgap\":0},\"margin\":{\"t\":60}},                        {\"responsive\": true}                    ).then(function(){\n",
       "                            \n",
       "var gd = document.getElementById('f0b94918-8ac3-4a3f-b961-07fd01497d24');\n",
       "var x = new MutationObserver(function (mutations, observer) {{\n",
       "        var display = window.getComputedStyle(gd).display;\n",
       "        if (!display || display === 'none') {{\n",
       "            console.log([gd, 'removed!']);\n",
       "            Plotly.purge(gd);\n",
       "            observer.disconnect();\n",
       "        }}\n",
       "}});\n",
       "\n",
       "// Listen for the removal of the full notebook cells\n",
       "var notebookContainer = gd.closest('#notebook-container');\n",
       "if (notebookContainer) {{\n",
       "    x.observe(notebookContainer, {childList: true});\n",
       "}}\n",
       "\n",
       "// Listen for the clearing of the current output cell\n",
       "var outputEl = gd.closest('.output');\n",
       "if (outputEl) {{\n",
       "    x.observe(outputEl, {childList: true});\n",
       "}}\n",
       "\n",
       "                        })                };                });            </script>        </div>"
      ]
     },
     "metadata": {},
     "output_type": "display_data"
    },
    {
     "data": {
      "application/vnd.plotly.v1+json": {
       "config": {
        "plotlyServerURL": "https://plot.ly"
       },
       "data": [
        {
         "alignmentgroup": "True",
         "hovertemplate": "article senti=%{x}<br>count=%{y}<extra></extra>",
         "legendgroup": "positive",
         "marker": {
          "color": "#636efa",
          "pattern": {
           "shape": ""
          }
         },
         "name": "positive",
         "offsetgroup": "positive",
         "orientation": "v",
         "showlegend": true,
         "textposition": "auto",
         "type": "bar",
         "x": [
          "positive"
         ],
         "xaxis": "x",
         "y": [
          3
         ],
         "yaxis": "y"
        },
        {
         "alignmentgroup": "True",
         "hovertemplate": "article senti=%{x}<br>count=%{y}<extra></extra>",
         "legendgroup": "negative",
         "marker": {
          "color": "#EF553B",
          "pattern": {
           "shape": ""
          }
         },
         "name": "negative",
         "offsetgroup": "negative",
         "orientation": "v",
         "showlegend": true,
         "textposition": "auto",
         "type": "bar",
         "x": [
          "negative"
         ],
         "xaxis": "x",
         "y": [
          1
         ],
         "yaxis": "y"
        },
        {
         "alignmentgroup": "True",
         "hovertemplate": "article senti=%{x}<br>count=%{y}<extra></extra>",
         "legendgroup": "irrelevant",
         "marker": {
          "color": "#00cc96",
          "pattern": {
           "shape": ""
          }
         },
         "name": "irrelevant",
         "offsetgroup": "irrelevant",
         "orientation": "v",
         "showlegend": true,
         "textposition": "auto",
         "type": "bar",
         "x": [
          "irrelevant"
         ],
         "xaxis": "x",
         "y": [
          15
         ],
         "yaxis": "y"
        }
       ],
       "layout": {
        "autosize": true,
        "barmode": "relative",
        "legend": {
         "title": {
          "text": "article senti"
         },
         "tracegroupgap": 0
        },
        "margin": {
         "t": 60
        },
        "template": {
         "data": {
          "bar": [
           {
            "error_x": {
             "color": "#2a3f5f"
            },
            "error_y": {
             "color": "#2a3f5f"
            },
            "marker": {
             "line": {
              "color": "#E5ECF6",
              "width": 0.5
             },
             "pattern": {
              "fillmode": "overlay",
              "size": 10,
              "solidity": 0.2
             }
            },
            "type": "bar"
           }
          ],
          "barpolar": [
           {
            "marker": {
             "line": {
              "color": "#E5ECF6",
              "width": 0.5
             },
             "pattern": {
              "fillmode": "overlay",
              "size": 10,
              "solidity": 0.2
             }
            },
            "type": "barpolar"
           }
          ],
          "carpet": [
           {
            "aaxis": {
             "endlinecolor": "#2a3f5f",
             "gridcolor": "white",
             "linecolor": "white",
             "minorgridcolor": "white",
             "startlinecolor": "#2a3f5f"
            },
            "baxis": {
             "endlinecolor": "#2a3f5f",
             "gridcolor": "white",
             "linecolor": "white",
             "minorgridcolor": "white",
             "startlinecolor": "#2a3f5f"
            },
            "type": "carpet"
           }
          ],
          "choropleth": [
           {
            "colorbar": {
             "outlinewidth": 0,
             "ticks": ""
            },
            "type": "choropleth"
           }
          ],
          "contour": [
           {
            "colorbar": {
             "outlinewidth": 0,
             "ticks": ""
            },
            "colorscale": [
             [
              0,
              "#0d0887"
             ],
             [
              0.1111111111111111,
              "#46039f"
             ],
             [
              0.2222222222222222,
              "#7201a8"
             ],
             [
              0.3333333333333333,
              "#9c179e"
             ],
             [
              0.4444444444444444,
              "#bd3786"
             ],
             [
              0.5555555555555556,
              "#d8576b"
             ],
             [
              0.6666666666666666,
              "#ed7953"
             ],
             [
              0.7777777777777778,
              "#fb9f3a"
             ],
             [
              0.8888888888888888,
              "#fdca26"
             ],
             [
              1,
              "#f0f921"
             ]
            ],
            "type": "contour"
           }
          ],
          "contourcarpet": [
           {
            "colorbar": {
             "outlinewidth": 0,
             "ticks": ""
            },
            "type": "contourcarpet"
           }
          ],
          "heatmap": [
           {
            "colorbar": {
             "outlinewidth": 0,
             "ticks": ""
            },
            "colorscale": [
             [
              0,
              "#0d0887"
             ],
             [
              0.1111111111111111,
              "#46039f"
             ],
             [
              0.2222222222222222,
              "#7201a8"
             ],
             [
              0.3333333333333333,
              "#9c179e"
             ],
             [
              0.4444444444444444,
              "#bd3786"
             ],
             [
              0.5555555555555556,
              "#d8576b"
             ],
             [
              0.6666666666666666,
              "#ed7953"
             ],
             [
              0.7777777777777778,
              "#fb9f3a"
             ],
             [
              0.8888888888888888,
              "#fdca26"
             ],
             [
              1,
              "#f0f921"
             ]
            ],
            "type": "heatmap"
           }
          ],
          "heatmapgl": [
           {
            "colorbar": {
             "outlinewidth": 0,
             "ticks": ""
            },
            "colorscale": [
             [
              0,
              "#0d0887"
             ],
             [
              0.1111111111111111,
              "#46039f"
             ],
             [
              0.2222222222222222,
              "#7201a8"
             ],
             [
              0.3333333333333333,
              "#9c179e"
             ],
             [
              0.4444444444444444,
              "#bd3786"
             ],
             [
              0.5555555555555556,
              "#d8576b"
             ],
             [
              0.6666666666666666,
              "#ed7953"
             ],
             [
              0.7777777777777778,
              "#fb9f3a"
             ],
             [
              0.8888888888888888,
              "#fdca26"
             ],
             [
              1,
              "#f0f921"
             ]
            ],
            "type": "heatmapgl"
           }
          ],
          "histogram": [
           {
            "marker": {
             "pattern": {
              "fillmode": "overlay",
              "size": 10,
              "solidity": 0.2
             }
            },
            "type": "histogram"
           }
          ],
          "histogram2d": [
           {
            "colorbar": {
             "outlinewidth": 0,
             "ticks": ""
            },
            "colorscale": [
             [
              0,
              "#0d0887"
             ],
             [
              0.1111111111111111,
              "#46039f"
             ],
             [
              0.2222222222222222,
              "#7201a8"
             ],
             [
              0.3333333333333333,
              "#9c179e"
             ],
             [
              0.4444444444444444,
              "#bd3786"
             ],
             [
              0.5555555555555556,
              "#d8576b"
             ],
             [
              0.6666666666666666,
              "#ed7953"
             ],
             [
              0.7777777777777778,
              "#fb9f3a"
             ],
             [
              0.8888888888888888,
              "#fdca26"
             ],
             [
              1,
              "#f0f921"
             ]
            ],
            "type": "histogram2d"
           }
          ],
          "histogram2dcontour": [
           {
            "colorbar": {
             "outlinewidth": 0,
             "ticks": ""
            },
            "colorscale": [
             [
              0,
              "#0d0887"
             ],
             [
              0.1111111111111111,
              "#46039f"
             ],
             [
              0.2222222222222222,
              "#7201a8"
             ],
             [
              0.3333333333333333,
              "#9c179e"
             ],
             [
              0.4444444444444444,
              "#bd3786"
             ],
             [
              0.5555555555555556,
              "#d8576b"
             ],
             [
              0.6666666666666666,
              "#ed7953"
             ],
             [
              0.7777777777777778,
              "#fb9f3a"
             ],
             [
              0.8888888888888888,
              "#fdca26"
             ],
             [
              1,
              "#f0f921"
             ]
            ],
            "type": "histogram2dcontour"
           }
          ],
          "mesh3d": [
           {
            "colorbar": {
             "outlinewidth": 0,
             "ticks": ""
            },
            "type": "mesh3d"
           }
          ],
          "parcoords": [
           {
            "line": {
             "colorbar": {
              "outlinewidth": 0,
              "ticks": ""
             }
            },
            "type": "parcoords"
           }
          ],
          "pie": [
           {
            "automargin": true,
            "type": "pie"
           }
          ],
          "scatter": [
           {
            "fillpattern": {
             "fillmode": "overlay",
             "size": 10,
             "solidity": 0.2
            },
            "type": "scatter"
           }
          ],
          "scatter3d": [
           {
            "line": {
             "colorbar": {
              "outlinewidth": 0,
              "ticks": ""
             }
            },
            "marker": {
             "colorbar": {
              "outlinewidth": 0,
              "ticks": ""
             }
            },
            "type": "scatter3d"
           }
          ],
          "scattercarpet": [
           {
            "marker": {
             "colorbar": {
              "outlinewidth": 0,
              "ticks": ""
             }
            },
            "type": "scattercarpet"
           }
          ],
          "scattergeo": [
           {
            "marker": {
             "colorbar": {
              "outlinewidth": 0,
              "ticks": ""
             }
            },
            "type": "scattergeo"
           }
          ],
          "scattergl": [
           {
            "marker": {
             "colorbar": {
              "outlinewidth": 0,
              "ticks": ""
             }
            },
            "type": "scattergl"
           }
          ],
          "scattermapbox": [
           {
            "marker": {
             "colorbar": {
              "outlinewidth": 0,
              "ticks": ""
             }
            },
            "type": "scattermapbox"
           }
          ],
          "scatterpolar": [
           {
            "marker": {
             "colorbar": {
              "outlinewidth": 0,
              "ticks": ""
             }
            },
            "type": "scatterpolar"
           }
          ],
          "scatterpolargl": [
           {
            "marker": {
             "colorbar": {
              "outlinewidth": 0,
              "ticks": ""
             }
            },
            "type": "scatterpolargl"
           }
          ],
          "scatterternary": [
           {
            "marker": {
             "colorbar": {
              "outlinewidth": 0,
              "ticks": ""
             }
            },
            "type": "scatterternary"
           }
          ],
          "surface": [
           {
            "colorbar": {
             "outlinewidth": 0,
             "ticks": ""
            },
            "colorscale": [
             [
              0,
              "#0d0887"
             ],
             [
              0.1111111111111111,
              "#46039f"
             ],
             [
              0.2222222222222222,
              "#7201a8"
             ],
             [
              0.3333333333333333,
              "#9c179e"
             ],
             [
              0.4444444444444444,
              "#bd3786"
             ],
             [
              0.5555555555555556,
              "#d8576b"
             ],
             [
              0.6666666666666666,
              "#ed7953"
             ],
             [
              0.7777777777777778,
              "#fb9f3a"
             ],
             [
              0.8888888888888888,
              "#fdca26"
             ],
             [
              1,
              "#f0f921"
             ]
            ],
            "type": "surface"
           }
          ],
          "table": [
           {
            "cells": {
             "fill": {
              "color": "#EBF0F8"
             },
             "line": {
              "color": "white"
             }
            },
            "header": {
             "fill": {
              "color": "#C8D4E3"
             },
             "line": {
              "color": "white"
             }
            },
            "type": "table"
           }
          ]
         },
         "layout": {
          "annotationdefaults": {
           "arrowcolor": "#2a3f5f",
           "arrowhead": 0,
           "arrowwidth": 1
          },
          "autotypenumbers": "strict",
          "coloraxis": {
           "colorbar": {
            "outlinewidth": 0,
            "ticks": ""
           }
          },
          "colorscale": {
           "diverging": [
            [
             0,
             "#8e0152"
            ],
            [
             0.1,
             "#c51b7d"
            ],
            [
             0.2,
             "#de77ae"
            ],
            [
             0.3,
             "#f1b6da"
            ],
            [
             0.4,
             "#fde0ef"
            ],
            [
             0.5,
             "#f7f7f7"
            ],
            [
             0.6,
             "#e6f5d0"
            ],
            [
             0.7,
             "#b8e186"
            ],
            [
             0.8,
             "#7fbc41"
            ],
            [
             0.9,
             "#4d9221"
            ],
            [
             1,
             "#276419"
            ]
           ],
           "sequential": [
            [
             0,
             "#0d0887"
            ],
            [
             0.1111111111111111,
             "#46039f"
            ],
            [
             0.2222222222222222,
             "#7201a8"
            ],
            [
             0.3333333333333333,
             "#9c179e"
            ],
            [
             0.4444444444444444,
             "#bd3786"
            ],
            [
             0.5555555555555556,
             "#d8576b"
            ],
            [
             0.6666666666666666,
             "#ed7953"
            ],
            [
             0.7777777777777778,
             "#fb9f3a"
            ],
            [
             0.8888888888888888,
             "#fdca26"
            ],
            [
             1,
             "#f0f921"
            ]
           ],
           "sequentialminus": [
            [
             0,
             "#0d0887"
            ],
            [
             0.1111111111111111,
             "#46039f"
            ],
            [
             0.2222222222222222,
             "#7201a8"
            ],
            [
             0.3333333333333333,
             "#9c179e"
            ],
            [
             0.4444444444444444,
             "#bd3786"
            ],
            [
             0.5555555555555556,
             "#d8576b"
            ],
            [
             0.6666666666666666,
             "#ed7953"
            ],
            [
             0.7777777777777778,
             "#fb9f3a"
            ],
            [
             0.8888888888888888,
             "#fdca26"
            ],
            [
             1,
             "#f0f921"
            ]
           ]
          },
          "colorway": [
           "#636efa",
           "#EF553B",
           "#00cc96",
           "#ab63fa",
           "#FFA15A",
           "#19d3f3",
           "#FF6692",
           "#B6E880",
           "#FF97FF",
           "#FECB52"
          ],
          "font": {
           "color": "#2a3f5f"
          },
          "geo": {
           "bgcolor": "white",
           "lakecolor": "white",
           "landcolor": "#E5ECF6",
           "showlakes": true,
           "showland": true,
           "subunitcolor": "white"
          },
          "hoverlabel": {
           "align": "left"
          },
          "hovermode": "closest",
          "mapbox": {
           "style": "light"
          },
          "paper_bgcolor": "white",
          "plot_bgcolor": "#E5ECF6",
          "polar": {
           "angularaxis": {
            "gridcolor": "white",
            "linecolor": "white",
            "ticks": ""
           },
           "bgcolor": "#E5ECF6",
           "radialaxis": {
            "gridcolor": "white",
            "linecolor": "white",
            "ticks": ""
           }
          },
          "scene": {
           "xaxis": {
            "backgroundcolor": "#E5ECF6",
            "gridcolor": "white",
            "gridwidth": 2,
            "linecolor": "white",
            "showbackground": true,
            "ticks": "",
            "zerolinecolor": "white"
           },
           "yaxis": {
            "backgroundcolor": "#E5ECF6",
            "gridcolor": "white",
            "gridwidth": 2,
            "linecolor": "white",
            "showbackground": true,
            "ticks": "",
            "zerolinecolor": "white"
           },
           "zaxis": {
            "backgroundcolor": "#E5ECF6",
            "gridcolor": "white",
            "gridwidth": 2,
            "linecolor": "white",
            "showbackground": true,
            "ticks": "",
            "zerolinecolor": "white"
           }
          },
          "shapedefaults": {
           "line": {
            "color": "#2a3f5f"
           }
          },
          "ternary": {
           "aaxis": {
            "gridcolor": "white",
            "linecolor": "white",
            "ticks": ""
           },
           "baxis": {
            "gridcolor": "white",
            "linecolor": "white",
            "ticks": ""
           },
           "bgcolor": "#E5ECF6",
           "caxis": {
            "gridcolor": "white",
            "linecolor": "white",
            "ticks": ""
           }
          },
          "title": {
           "x": 0.05
          },
          "xaxis": {
           "automargin": true,
           "gridcolor": "white",
           "linecolor": "white",
           "ticks": "",
           "title": {
            "standoff": 15
           },
           "zerolinecolor": "white",
           "zerolinewidth": 2
          },
          "yaxis": {
           "automargin": true,
           "gridcolor": "white",
           "linecolor": "white",
           "ticks": "",
           "title": {
            "standoff": 15
           },
           "zerolinecolor": "white",
           "zerolinewidth": 2
          }
         }
        },
        "xaxis": {
         "anchor": "y",
         "autorange": true,
         "categoryarray": [
          "positive",
          "negative",
          "irrelevant"
         ],
         "categoryorder": "array",
         "domain": [
          0,
          1
         ],
         "range": [
          -0.5,
          2.5
         ],
         "title": {
          "text": "article senti"
         },
         "type": "category"
        },
        "yaxis": {
         "anchor": "x",
         "autorange": true,
         "domain": [
          0,
          1
         ],
         "range": [
          0,
          15.789473684210526
         ],
         "title": {
          "text": "count"
         },
         "type": "linear"
        }
       }
      },
      "image/png": "[encoded data removed]",
      "text/html": [
       "<div>                            <div id=\"d3ceca9b-beed-49d1-85e0-72e1d41e03a7\" class=\"plotly-graph-div\" style=\"height:525px; width:100%;\"></div>            <script type=\"text/javascript\">                require([\"plotly\"], function(Plotly) {                    window.PLOTLYENV=window.PLOTLYENV || {};                                    if (document.getElementById(\"d3ceca9b-beed-49d1-85e0-72e1d41e03a7\")) {                    Plotly.newPlot(                        \"d3ceca9b-beed-49d1-85e0-72e1d41e03a7\",                        [{\"alignmentgroup\":\"True\",\"hovertemplate\":\"article senti=%{x}\\u003cbr\\u003ecount=%{y}\\u003cextra\\u003e\\u003c\\u002fextra\\u003e\",\"legendgroup\":\"positive\",\"marker\":{\"color\":\"#636efa\",\"pattern\":{\"shape\":\"\"}},\"name\":\"positive\",\"offsetgroup\":\"positive\",\"orientation\":\"v\",\"showlegend\":true,\"textposition\":\"auto\",\"x\":[\"positive\"],\"xaxis\":\"x\",\"y\":[3],\"yaxis\":\"y\",\"type\":\"bar\"},{\"alignmentgroup\":\"True\",\"hovertemplate\":\"article senti=%{x}\\u003cbr\\u003ecount=%{y}\\u003cextra\\u003e\\u003c\\u002fextra\\u003e\",\"legendgroup\":\"negative\",\"marker\":{\"color\":\"#EF553B\",\"pattern\":{\"shape\":\"\"}},\"name\":\"negative\",\"offsetgroup\":\"negative\",\"orientation\":\"v\",\"showlegend\":true,\"textposition\":\"auto\",\"x\":[\"negative\"],\"xaxis\":\"x\",\"y\":[1],\"yaxis\":\"y\",\"type\":\"bar\"},{\"alignmentgroup\":\"True\",\"hovertemplate\":\"article senti=%{x}\\u003cbr\\u003ecount=%{y}\\u003cextra\\u003e\\u003c\\u002fextra\\u003e\",\"legendgroup\":\"irrelevant\",\"marker\":{\"color\":\"#00cc96\",\"pattern\":{\"shape\":\"\"}},\"name\":\"irrelevant\",\"offsetgroup\":\"irrelevant\",\"orientation\":\"v\",\"showlegend\":true,\"textposition\":\"auto\",\"x\":[\"irrelevant\"],\"xaxis\":\"x\",\"y\":[15],\"yaxis\":\"y\",\"type\":\"bar\"}],                        {\"template\":{\"data\":{\"histogram2dcontour\":[{\"type\":\"histogram2dcontour\",\"colorbar\":{\"outlinewidth\":0,\"ticks\":\"\"},\"colorscale\":[[0.0,\"#0d0887\"],[0.1111111111111111,\"#46039f\"],[0.2222222222222222,\"#7201a8\"],[0.3333333333333333,\"#9c179e\"],[0.4444444444444444,\"#bd3786\"],[0.5555555555555556,\"#d8576b\"],[0.6666666666666666,\"#ed7953\"],[0.7777777777777778,\"#fb9f3a\"],[0.8888888888888888,\"#fdca26\"],[1.0,\"#f0f921\"]]}],\"choropleth\":[{\"type\":\"choropleth\",\"colorbar\":{\"outlinewidth\":0,\"ticks\":\"\"}}],\"histogram2d\":[{\"type\":\"histogram2d\",\"colorbar\":{\"outlinewidth\":0,\"ticks\":\"\"},\"colorscale\":[[0.0,\"#0d0887\"],[0.1111111111111111,\"#46039f\"],[0.2222222222222222,\"#7201a8\"],[0.3333333333333333,\"#9c179e\"],[0.4444444444444444,\"#bd3786\"],[0.5555555555555556,\"#d8576b\"],[0.6666666666666666,\"#ed7953\"],[0.7777777777777778,\"#fb9f3a\"],[0.8888888888888888,\"#fdca26\"],[1.0,\"#f0f921\"]]}],\"heatmap\":[{\"type\":\"heatmap\",\"colorbar\":{\"outlinewidth\":0,\"ticks\":\"\"},\"colorscale\":[[0.0,\"#0d0887\"],[0.1111111111111111,\"#46039f\"],[0.2222222222222222,\"#7201a8\"],[0.3333333333333333,\"#9c179e\"],[0.4444444444444444,\"#bd3786\"],[0.5555555555555556,\"#d8576b\"],[0.6666666666666666,\"#ed7953\"],[0.7777777777777778,\"#fb9f3a\"],[0.8888888888888888,\"#fdca26\"],[1.0,\"#f0f921\"]]}],\"heatmapgl\":[{\"type\":\"heatmapgl\",\"colorbar\":{\"outlinewidth\":0,\"ticks\":\"\"},\"colorscale\":[[0.0,\"#0d0887\"],[0.1111111111111111,\"#46039f\"],[0.2222222222222222,\"#7201a8\"],[0.3333333333333333,\"#9c179e\"],[0.4444444444444444,\"#bd3786\"],[0.5555555555555556,\"#d8576b\"],[0.6666666666666666,\"#ed7953\"],[0.7777777777777778,\"#fb9f3a\"],[0.8888888888888888,\"#fdca26\"],[1.0,\"#f0f921\"]]}],\"contourcarpet\":[{\"type\":\"contourcarpet\",\"colorbar\":{\"outlinewidth\":0,\"ticks\":\"\"}}],\"contour\":[{\"type\":\"contour\",\"colorbar\":{\"outlinewidth\":0,\"ticks\":\"\"},\"colorscale\":[[0.0,\"#0d0887\"],[0.1111111111111111,\"#46039f\"],[0.2222222222222222,\"#7201a8\"],[0.3333333333333333,\"#9c179e\"],[0.4444444444444444,\"#bd3786\"],[0.5555555555555556,\"#d8576b\"],[0.6666666666666666,\"#ed7953\"],[0.7777777777777778,\"#fb9f3a\"],[0.8888888888888888,\"#fdca26\"],[1.0,\"#f0f921\"]]}],\"surface\":[{\"type\":\"surface\",\"colorbar\":{\"outlinewidth\":0,\"ticks\":\"\"},\"colorscale\":[[0.0,\"#0d0887\"],[0.1111111111111111,\"#46039f\"],[0.2222222222222222,\"#7201a8\"],[0.3333333333333333,\"#9c179e\"],[0.4444444444444444,\"#bd3786\"],[0.5555555555555556,\"#d8576b\"],[0.6666666666666666,\"#ed7953\"],[0.7777777777777778,\"#fb9f3a\"],[0.8888888888888888,\"#fdca26\"],[1.0,\"#f0f921\"]]}],\"mesh3d\":[{\"type\":\"mesh3d\",\"colorbar\":{\"outlinewidth\":0,\"ticks\":\"\"}}],\"scatter\":[{\"fillpattern\":{\"fillmode\":\"overlay\",\"size\":10,\"solidity\":0.2},\"type\":\"scatter\"}],\"parcoords\":[{\"type\":\"parcoords\",\"line\":{\"colorbar\":{\"outlinewidth\":0,\"ticks\":\"\"}}}],\"scatterpolargl\":[{\"type\":\"scatterpolargl\",\"marker\":{\"colorbar\":{\"outlinewidth\":0,\"ticks\":\"\"}}}],\"bar\":[{\"error_x\":{\"color\":\"#2a3f5f\"},\"error_y\":{\"color\":\"#2a3f5f\"},\"marker\":{\"line\":{\"color\":\"#E5ECF6\",\"width\":0.5},\"pattern\":{\"fillmode\":\"overlay\",\"size\":10,\"solidity\":0.2}},\"type\":\"bar\"}],\"scattergeo\":[{\"type\":\"scattergeo\",\"marker\":{\"colorbar\":{\"outlinewidth\":0,\"ticks\":\"\"}}}],\"scatterpolar\":[{\"type\":\"scatterpolar\",\"marker\":{\"colorbar\":{\"outlinewidth\":0,\"ticks\":\"\"}}}],\"histogram\":[{\"marker\":{\"pattern\":{\"fillmode\":\"overlay\",\"size\":10,\"solidity\":0.2}},\"type\":\"histogram\"}],\"scattergl\":[{\"type\":\"scattergl\",\"marker\":{\"colorbar\":{\"outlinewidth\":0,\"ticks\":\"\"}}}],\"scatter3d\":[{\"type\":\"scatter3d\",\"line\":{\"colorbar\":{\"outlinewidth\":0,\"ticks\":\"\"}},\"marker\":{\"colorbar\":{\"outlinewidth\":0,\"ticks\":\"\"}}}],\"scattermapbox\":[{\"type\":\"scattermapbox\",\"marker\":{\"colorbar\":{\"outlinewidth\":0,\"ticks\":\"\"}}}],\"scatterternary\":[{\"type\":\"scatterternary\",\"marker\":{\"colorbar\":{\"outlinewidth\":0,\"ticks\":\"\"}}}],\"scattercarpet\":[{\"type\":\"scattercarpet\",\"marker\":{\"colorbar\":{\"outlinewidth\":0,\"ticks\":\"\"}}}],\"carpet\":[{\"aaxis\":{\"endlinecolor\":\"#2a3f5f\",\"gridcolor\":\"white\",\"linecolor\":\"white\",\"minorgridcolor\":\"white\",\"startlinecolor\":\"#2a3f5f\"},\"baxis\":{\"endlinecolor\":\"#2a3f5f\",\"gridcolor\":\"white\",\"linecolor\":\"white\",\"minorgridcolor\":\"white\",\"startlinecolor\":\"#2a3f5f\"},\"type\":\"carpet\"}],\"table\":[{\"cells\":{\"fill\":{\"color\":\"#EBF0F8\"},\"line\":{\"color\":\"white\"}},\"header\":{\"fill\":{\"color\":\"#C8D4E3\"},\"line\":{\"color\":\"white\"}},\"type\":\"table\"}],\"barpolar\":[{\"marker\":{\"line\":{\"color\":\"#E5ECF6\",\"width\":0.5},\"pattern\":{\"fillmode\":\"overlay\",\"size\":10,\"solidity\":0.2}},\"type\":\"barpolar\"}],\"pie\":[{\"automargin\":true,\"type\":\"pie\"}]},\"layout\":{\"autotypenumbers\":\"strict\",\"colorway\":[\"#636efa\",\"#EF553B\",\"#00cc96\",\"#ab63fa\",\"#FFA15A\",\"#19d3f3\",\"#FF6692\",\"#B6E880\",\"#FF97FF\",\"#FECB52\"],\"font\":{\"color\":\"#2a3f5f\"},\"hovermode\":\"closest\",\"hoverlabel\":{\"align\":\"left\"},\"paper_bgcolor\":\"white\",\"plot_bgcolor\":\"#E5ECF6\",\"polar\":{\"bgcolor\":\"#E5ECF6\",\"angularaxis\":{\"gridcolor\":\"white\",\"linecolor\":\"white\",\"ticks\":\"\"},\"radialaxis\":{\"gridcolor\":\"white\",\"linecolor\":\"white\",\"ticks\":\"\"}},\"ternary\":{\"bgcolor\":\"#E5ECF6\",\"aaxis\":{\"gridcolor\":\"white\",\"linecolor\":\"white\",\"ticks\":\"\"},\"baxis\":{\"gridcolor\":\"white\",\"linecolor\":\"white\",\"ticks\":\"\"},\"caxis\":{\"gridcolor\":\"white\",\"linecolor\":\"white\",\"ticks\":\"\"}},\"coloraxis\":{\"colorbar\":{\"outlinewidth\":0,\"ticks\":\"\"}},\"colorscale\":{\"sequential\":[[0.0,\"#0d0887\"],[0.1111111111111111,\"#46039f\"],[0.2222222222222222,\"#7201a8\"],[0.3333333333333333,\"#9c179e\"],[0.4444444444444444,\"#bd3786\"],[0.5555555555555556,\"#d8576b\"],[0.6666666666666666,\"#ed7953\"],[0.7777777777777778,\"#fb9f3a\"],[0.8888888888888888,\"#fdca26\"],[1.0,\"#f0f921\"]],\"sequentialminus\":[[0.0,\"#0d0887\"],[0.1111111111111111,\"#46039f\"],[0.2222222222222222,\"#7201a8\"],[0.3333333333333333,\"#9c179e\"],[0.4444444444444444,\"#bd3786\"],[0.5555555555555556,\"#d8576b\"],[0.6666666666666666,\"#ed7953\"],[0.7777777777777778,\"#fb9f3a\"],[0.8888888888888888,\"#fdca26\"],[1.0,\"#f0f921\"]],\"diverging\":[[0,\"#8e0152\"],[0.1,\"#c51b7d\"],[0.2,\"#de77ae\"],[0.3,\"#f1b6da\"],[0.4,\"#fde0ef\"],[0.5,\"#f7f7f7\"],[0.6,\"#e6f5d0\"],[0.7,\"#b8e186\"],[0.8,\"#7fbc41\"],[0.9,\"#4d9221\"],[1,\"#276419\"]]},\"xaxis\":{\"gridcolor\":\"white\",\"linecolor\":\"white\",\"ticks\":\"\",\"title\":{\"standoff\":15},\"zerolinecolor\":\"white\",\"automargin\":true,\"zerolinewidth\":2},\"yaxis\":{\"gridcolor\":\"white\",\"linecolor\":\"white\",\"ticks\":\"\",\"title\":{\"standoff\":15},\"zerolinecolor\":\"white\",\"automargin\":true,\"zerolinewidth\":2},\"scene\":{\"xaxis\":{\"backgroundcolor\":\"#E5ECF6\",\"gridcolor\":\"white\",\"linecolor\":\"white\",\"showbackground\":true,\"ticks\":\"\",\"zerolinecolor\":\"white\",\"gridwidth\":2},\"yaxis\":{\"backgroundcolor\":\"#E5ECF6\",\"gridcolor\":\"white\",\"linecolor\":\"white\",\"showbackground\":true,\"ticks\":\"\",\"zerolinecolor\":\"white\",\"gridwidth\":2},\"zaxis\":{\"backgroundcolor\":\"#E5ECF6\",\"gridcolor\":\"white\",\"linecolor\":\"white\",\"showbackground\":true,\"ticks\":\"\",\"zerolinecolor\":\"white\",\"gridwidth\":2}},\"shapedefaults\":{\"line\":{\"color\":\"#2a3f5f\"}},\"annotationdefaults\":{\"arrowcolor\":\"#2a3f5f\",\"arrowhead\":0,\"arrowwidth\":1},\"geo\":{\"bgcolor\":\"white\",\"landcolor\":\"#E5ECF6\",\"subunitcolor\":\"white\",\"showland\":true,\"showlakes\":true,\"lakecolor\":\"white\"},\"title\":{\"x\":0.05},\"mapbox\":{\"style\":\"light\"}}},\"xaxis\":{\"anchor\":\"y\",\"domain\":[0.0,1.0],\"title\":{\"text\":\"article senti\"},\"categoryorder\":\"array\",\"categoryarray\":[\"positive\",\"negative\",\"irrelevant\"]},\"yaxis\":{\"anchor\":\"x\",\"domain\":[0.0,1.0],\"title\":{\"text\":\"count\"}},\"legend\":{\"title\":{\"text\":\"article senti\"},\"tracegroupgap\":0},\"margin\":{\"t\":60},\"barmode\":\"relative\"},                        {\"responsive\": true}                    ).then(function(){\n",
       "                            \n",
       "var gd = document.getElementById('d3ceca9b-beed-49d1-85e0-72e1d41e03a7');\n",
       "var x = new MutationObserver(function (mutations, observer) {{\n",
       "        var display = window.getComputedStyle(gd).display;\n",
       "        if (!display || display === 'none') {{\n",
       "            console.log([gd, 'removed!']);\n",
       "            Plotly.purge(gd);\n",
       "            observer.disconnect();\n",
       "        }}\n",
       "}});\n",
       "\n",
       "// Listen for the removal of the full notebook cells\n",
       "var notebookContainer = gd.closest('#notebook-container');\n",
       "if (notebookContainer) {{\n",
       "    x.observe(notebookContainer, {childList: true});\n",
       "}}\n",
       "\n",
       "// Listen for the clearing of the current output cell\n",
       "var outputEl = gd.closest('.output');\n",
       "if (outputEl) {{\n",
       "    x.observe(outputEl, {childList: true});\n",
       "}}\n",
       "\n",
       "                        })                };                });            </script>        </div>"
      ]
     },
     "metadata": {},
     "output_type": "display_data"
    }
   ],
   "source": [
    "# Create a Pie Chart\n",
    "my_articles_count_pie = px.pie(my_articles_count_pos, values='count', names='article senti')\n",
    "\n",
    "# Create a bar chart \n",
    "my_articles_count_bar = px.bar(my_articles_count_pos, x='article senti', y='count', color='article senti')\n",
    "\n",
    "# Visualize\n",
    "my_articles_count_pie.show()\n",
    "my_articles_count_bar.show()"
   ]
  },
  {
   "cell_type": "markdown",
   "metadata": {},
   "source": [
    "### 5. Insight"
   ]
  },
  {
   "cell_type": "markdown",
   "metadata": {},
   "source": [
    "*Write your business insights drawn from the data analytics. Ensure that you clearly connect the business concern, the question, the analytics and the insights.*\n",
    "\n",
    "#### The benefit of coffee seems way more less than irrelevant but have more than negative.\n",
    "\n",
    "- Positive news about coffee, whether related to health benefits or happiness, can be used to create compelling marketing campaigns and attract customers seeking these benefits.\n",
    "\n",
    "- Exploring coffee's unconventional uses, such as strengthening concrete, may lead to unique product ideas or collaborations that set our roastery apart from competitors.\n",
    "\n",
    "- Identifying complementary products like coffee granita, avocado, fajitas, and coffee machines allows us to diversify our menu and cater to a broader customer base."
   ]
  },
  {
   "cell_type": "code",
   "execution_count": null,
   "metadata": {},
   "outputs": [],
   "source": []
  }
 ],
 "metadata": {
  "kernelspec": {
   "display_name": "Python 3 (ipykernel)",
   "language": "python",
   "name": "python3"
  },
  "language_info": {
   "codemirror_mode": {
    "name": "ipython",
    "version": 3
   },
   "file_extension": ".py",
   "mimetype": "text/x-python",
   "name": "python",
   "nbconvert_exporter": "python",
   "pygments_lexer": "ipython3",
   "version": "3.10.12"
  },
  "qut": {
   "creation_period": "2023_sem2",
   "nb_name": "UA1-assignment1-template",
   "unit_code": "IAB303"
  }
 },
 "nbformat": 4,
 "nbformat_minor": 4
}
